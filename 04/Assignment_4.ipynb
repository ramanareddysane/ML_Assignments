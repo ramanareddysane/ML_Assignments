{
 "cells": [
  {
   "cell_type": "code",
   "execution_count": 2,
   "metadata": {
    "collapsed": true
   },
   "outputs": [],
   "source": [
    "import numpy as np"
   ]
  },
  {
   "cell_type": "markdown",
   "metadata": {},
   "source": [
    "<pre>\n",
    "Q1.\n",
    "    a. Please download the data from <a href=\"http://archive.ics.uci.edu/ml/datasets/Liver+Disorders\">http://archive.ics.uci.edu/ml/datasets/Liver+Disorders </a>\n",
    "    b. Get to know about the features\n",
    "        i. given data set has 6 attributes and 1 output varaible\n",
    "    c. Find me the two most corelated feature out of 6 attributes with the output varaible\n",
    "    </pre>"
   ]
  },
  {
   "cell_type": "markdown",
   "metadata": {},
   "source": [
    "## Understanding the Data"
   ]
  },
  {
   "cell_type": "code",
   "execution_count": 3,
   "metadata": {
    "collapsed": true
   },
   "outputs": [],
   "source": [
    "import pandas as pd\n",
    "df = pd.read_csv('bupa.csv')"
   ]
  },
  {
   "cell_type": "code",
   "execution_count": 4,
   "metadata": {},
   "outputs": [
    {
     "data": {
      "text/html": [
       "<div>\n",
       "<style>\n",
       "    .dataframe thead tr:only-child th {\n",
       "        text-align: right;\n",
       "    }\n",
       "\n",
       "    .dataframe thead th {\n",
       "        text-align: left;\n",
       "    }\n",
       "\n",
       "    .dataframe tbody tr th {\n",
       "        vertical-align: top;\n",
       "    }\n",
       "</style>\n",
       "<table border=\"1\" class=\"dataframe\">\n",
       "  <thead>\n",
       "    <tr style=\"text-align: right;\">\n",
       "      <th></th>\n",
       "      <th>mcv</th>\n",
       "      <th>alkphos</th>\n",
       "      <th>sgpt</th>\n",
       "      <th>sgot</th>\n",
       "      <th>gammagt</th>\n",
       "      <th>drinks</th>\n",
       "      <th>selector</th>\n",
       "    </tr>\n",
       "  </thead>\n",
       "  <tbody>\n",
       "    <tr>\n",
       "      <th>0</th>\n",
       "      <td>85</td>\n",
       "      <td>92</td>\n",
       "      <td>45</td>\n",
       "      <td>27</td>\n",
       "      <td>31</td>\n",
       "      <td>0.0</td>\n",
       "      <td>1</td>\n",
       "    </tr>\n",
       "    <tr>\n",
       "      <th>1</th>\n",
       "      <td>85</td>\n",
       "      <td>64</td>\n",
       "      <td>59</td>\n",
       "      <td>32</td>\n",
       "      <td>23</td>\n",
       "      <td>0.0</td>\n",
       "      <td>2</td>\n",
       "    </tr>\n",
       "    <tr>\n",
       "      <th>2</th>\n",
       "      <td>86</td>\n",
       "      <td>54</td>\n",
       "      <td>33</td>\n",
       "      <td>16</td>\n",
       "      <td>54</td>\n",
       "      <td>0.0</td>\n",
       "      <td>2</td>\n",
       "    </tr>\n",
       "    <tr>\n",
       "      <th>3</th>\n",
       "      <td>91</td>\n",
       "      <td>78</td>\n",
       "      <td>34</td>\n",
       "      <td>24</td>\n",
       "      <td>36</td>\n",
       "      <td>0.0</td>\n",
       "      <td>2</td>\n",
       "    </tr>\n",
       "    <tr>\n",
       "      <th>4</th>\n",
       "      <td>87</td>\n",
       "      <td>70</td>\n",
       "      <td>12</td>\n",
       "      <td>28</td>\n",
       "      <td>10</td>\n",
       "      <td>0.0</td>\n",
       "      <td>2</td>\n",
       "    </tr>\n",
       "  </tbody>\n",
       "</table>\n",
       "</div>"
      ],
      "text/plain": [
       "   mcv  alkphos  sgpt  sgot  gammagt  drinks  selector\n",
       "0   85       92    45    27       31     0.0         1\n",
       "1   85       64    59    32       23     0.0         2\n",
       "2   86       54    33    16       54     0.0         2\n",
       "3   91       78    34    24       36     0.0         2\n",
       "4   87       70    12    28       10     0.0         2"
      ]
     },
     "execution_count": 4,
     "metadata": {},
     "output_type": "execute_result"
    }
   ],
   "source": [
    "df.head()"
   ]
  },
  {
   "cell_type": "markdown",
   "metadata": {},
   "source": [
    "### features : \n",
    "__mcv__ : mean corpuscular volume\n",
    "\n",
    "__alkphos__: alkaline phosphotase\n",
    "\n",
    "__sgpt__ : alamine aminotransferase\n",
    "\n",
    "__sgot__ : \taspartate aminotransferase\n",
    "\n",
    "__gammagt__ : gamma-glutamyl transpeptidase\n",
    "\n",
    "__drinks__ : number of half-pint equivalents of alcoholic beverages drunk per day\n",
    "\n",
    "__selector__ : field used to split data into two sets\n"
   ]
  },
  {
   "cell_type": "code",
   "execution_count": 5,
   "metadata": {},
   "outputs": [
    {
     "data": {
      "text/html": [
       "<div>\n",
       "<style>\n",
       "    .dataframe thead tr:only-child th {\n",
       "        text-align: right;\n",
       "    }\n",
       "\n",
       "    .dataframe thead th {\n",
       "        text-align: left;\n",
       "    }\n",
       "\n",
       "    .dataframe tbody tr th {\n",
       "        vertical-align: top;\n",
       "    }\n",
       "</style>\n",
       "<table border=\"1\" class=\"dataframe\">\n",
       "  <thead>\n",
       "    <tr style=\"text-align: right;\">\n",
       "      <th></th>\n",
       "      <th>mcv</th>\n",
       "      <th>alkphos</th>\n",
       "      <th>sgpt</th>\n",
       "      <th>sgot</th>\n",
       "      <th>gammagt</th>\n",
       "      <th>drinks</th>\n",
       "      <th>selector</th>\n",
       "    </tr>\n",
       "  </thead>\n",
       "  <tbody>\n",
       "    <tr>\n",
       "      <th>mcv</th>\n",
       "      <td>1.000000</td>\n",
       "      <td>0.044103</td>\n",
       "      <td>0.147695</td>\n",
       "      <td>0.187765</td>\n",
       "      <td>0.222314</td>\n",
       "      <td>0.312680</td>\n",
       "      <td>-0.091070</td>\n",
       "    </tr>\n",
       "    <tr>\n",
       "      <th>alkphos</th>\n",
       "      <td>0.044103</td>\n",
       "      <td>1.000000</td>\n",
       "      <td>0.076208</td>\n",
       "      <td>0.146057</td>\n",
       "      <td>0.133140</td>\n",
       "      <td>0.100796</td>\n",
       "      <td>-0.098050</td>\n",
       "    </tr>\n",
       "    <tr>\n",
       "      <th>sgpt</th>\n",
       "      <td>0.147695</td>\n",
       "      <td>0.076208</td>\n",
       "      <td>1.000000</td>\n",
       "      <td>0.739675</td>\n",
       "      <td>0.503435</td>\n",
       "      <td>0.206848</td>\n",
       "      <td>-0.035009</td>\n",
       "    </tr>\n",
       "    <tr>\n",
       "      <th>sgot</th>\n",
       "      <td>0.187765</td>\n",
       "      <td>0.146057</td>\n",
       "      <td>0.739675</td>\n",
       "      <td>1.000000</td>\n",
       "      <td>0.527626</td>\n",
       "      <td>0.279588</td>\n",
       "      <td>0.157356</td>\n",
       "    </tr>\n",
       "    <tr>\n",
       "      <th>gammagt</th>\n",
       "      <td>0.222314</td>\n",
       "      <td>0.133140</td>\n",
       "      <td>0.503435</td>\n",
       "      <td>0.527626</td>\n",
       "      <td>1.000000</td>\n",
       "      <td>0.341224</td>\n",
       "      <td>0.146393</td>\n",
       "    </tr>\n",
       "    <tr>\n",
       "      <th>drinks</th>\n",
       "      <td>0.312680</td>\n",
       "      <td>0.100796</td>\n",
       "      <td>0.206848</td>\n",
       "      <td>0.279588</td>\n",
       "      <td>0.341224</td>\n",
       "      <td>1.000000</td>\n",
       "      <td>-0.022049</td>\n",
       "    </tr>\n",
       "    <tr>\n",
       "      <th>selector</th>\n",
       "      <td>-0.091070</td>\n",
       "      <td>-0.098050</td>\n",
       "      <td>-0.035009</td>\n",
       "      <td>0.157356</td>\n",
       "      <td>0.146393</td>\n",
       "      <td>-0.022049</td>\n",
       "      <td>1.000000</td>\n",
       "    </tr>\n",
       "  </tbody>\n",
       "</table>\n",
       "</div>"
      ],
      "text/plain": [
       "               mcv   alkphos      sgpt      sgot   gammagt    drinks  selector\n",
       "mcv       1.000000  0.044103  0.147695  0.187765  0.222314  0.312680 -0.091070\n",
       "alkphos   0.044103  1.000000  0.076208  0.146057  0.133140  0.100796 -0.098050\n",
       "sgpt      0.147695  0.076208  1.000000  0.739675  0.503435  0.206848 -0.035009\n",
       "sgot      0.187765  0.146057  0.739675  1.000000  0.527626  0.279588  0.157356\n",
       "gammagt   0.222314  0.133140  0.503435  0.527626  1.000000  0.341224  0.146393\n",
       "drinks    0.312680  0.100796  0.206848  0.279588  0.341224  1.000000 -0.022049\n",
       "selector -0.091070 -0.098050 -0.035009  0.157356  0.146393 -0.022049  1.000000"
      ]
     },
     "execution_count": 5,
     "metadata": {},
     "output_type": "execute_result"
    }
   ],
   "source": [
    "pearson_corelation_matrix = df.corr(method='pearson')\n",
    "pearson_corelation_matrix"
   ]
  },
  {
   "cell_type": "code",
   "execution_count": 6,
   "metadata": {},
   "outputs": [
    {
     "data": {
      "text/html": [
       "<div>\n",
       "<style>\n",
       "    .dataframe thead tr:only-child th {\n",
       "        text-align: right;\n",
       "    }\n",
       "\n",
       "    .dataframe thead th {\n",
       "        text-align: left;\n",
       "    }\n",
       "\n",
       "    .dataframe tbody tr th {\n",
       "        vertical-align: top;\n",
       "    }\n",
       "</style>\n",
       "<table border=\"1\" class=\"dataframe\">\n",
       "  <thead>\n",
       "    <tr style=\"text-align: right;\">\n",
       "      <th></th>\n",
       "      <th>mcv</th>\n",
       "      <th>alkphos</th>\n",
       "      <th>sgpt</th>\n",
       "      <th>sgot</th>\n",
       "      <th>gammagt</th>\n",
       "      <th>drinks</th>\n",
       "      <th>selector</th>\n",
       "    </tr>\n",
       "  </thead>\n",
       "  <tbody>\n",
       "    <tr>\n",
       "      <th>mcv</th>\n",
       "      <td>1.000000</td>\n",
       "      <td>0.045252</td>\n",
       "      <td>0.101325</td>\n",
       "      <td>0.106042</td>\n",
       "      <td>0.216296</td>\n",
       "      <td>0.320261</td>\n",
       "      <td>-0.102466</td>\n",
       "    </tr>\n",
       "    <tr>\n",
       "      <th>alkphos</th>\n",
       "      <td>0.045252</td>\n",
       "      <td>1.000000</td>\n",
       "      <td>0.137222</td>\n",
       "      <td>0.188140</td>\n",
       "      <td>0.156109</td>\n",
       "      <td>0.024078</td>\n",
       "      <td>-0.122227</td>\n",
       "    </tr>\n",
       "    <tr>\n",
       "      <th>sgpt</th>\n",
       "      <td>0.101325</td>\n",
       "      <td>0.137222</td>\n",
       "      <td>1.000000</td>\n",
       "      <td>0.570193</td>\n",
       "      <td>0.570833</td>\n",
       "      <td>0.150735</td>\n",
       "      <td>-0.134678</td>\n",
       "    </tr>\n",
       "    <tr>\n",
       "      <th>sgot</th>\n",
       "      <td>0.106042</td>\n",
       "      <td>0.188140</td>\n",
       "      <td>0.570193</td>\n",
       "      <td>1.000000</td>\n",
       "      <td>0.465419</td>\n",
       "      <td>0.254818</td>\n",
       "      <td>0.144640</td>\n",
       "    </tr>\n",
       "    <tr>\n",
       "      <th>gammagt</th>\n",
       "      <td>0.216296</td>\n",
       "      <td>0.156109</td>\n",
       "      <td>0.570833</td>\n",
       "      <td>0.465419</td>\n",
       "      <td>1.000000</td>\n",
       "      <td>0.341523</td>\n",
       "      <td>0.219611</td>\n",
       "    </tr>\n",
       "    <tr>\n",
       "      <th>drinks</th>\n",
       "      <td>0.320261</td>\n",
       "      <td>0.024078</td>\n",
       "      <td>0.150735</td>\n",
       "      <td>0.254818</td>\n",
       "      <td>0.341523</td>\n",
       "      <td>1.000000</td>\n",
       "      <td>0.038725</td>\n",
       "    </tr>\n",
       "    <tr>\n",
       "      <th>selector</th>\n",
       "      <td>-0.102466</td>\n",
       "      <td>-0.122227</td>\n",
       "      <td>-0.134678</td>\n",
       "      <td>0.144640</td>\n",
       "      <td>0.219611</td>\n",
       "      <td>0.038725</td>\n",
       "      <td>1.000000</td>\n",
       "    </tr>\n",
       "  </tbody>\n",
       "</table>\n",
       "</div>"
      ],
      "text/plain": [
       "               mcv   alkphos      sgpt      sgot   gammagt    drinks  selector\n",
       "mcv       1.000000  0.045252  0.101325  0.106042  0.216296  0.320261 -0.102466\n",
       "alkphos   0.045252  1.000000  0.137222  0.188140  0.156109  0.024078 -0.122227\n",
       "sgpt      0.101325  0.137222  1.000000  0.570193  0.570833  0.150735 -0.134678\n",
       "sgot      0.106042  0.188140  0.570193  1.000000  0.465419  0.254818  0.144640\n",
       "gammagt   0.216296  0.156109  0.570833  0.465419  1.000000  0.341523  0.219611\n",
       "drinks    0.320261  0.024078  0.150735  0.254818  0.341523  1.000000  0.038725\n",
       "selector -0.102466 -0.122227 -0.134678  0.144640  0.219611  0.038725  1.000000"
      ]
     },
     "execution_count": 6,
     "metadata": {},
     "output_type": "execute_result"
    }
   ],
   "source": [
    "spearman_corelation_matrix = df.corr(method='spearman')\n",
    "spearman_corelation_matrix"
   ]
  },
  {
   "cell_type": "markdown",
   "metadata": {},
   "source": [
    "### Observations : \n",
    "  By observing above corelation matrices (pearson and spearman), we can say that\n",
    ">  __sgot__ and __gammagt__ are the two most corelated features with the output variable"
   ]
  },
  {
   "cell_type": "markdown",
   "metadata": {},
   "source": [
    "# Prove the corelation with Hypothesis testing"
   ]
  },
  {
   "cell_type": "code",
   "execution_count": 7,
   "metadata": {},
   "outputs": [
    {
     "data": {
      "text/html": [
       "<div>\n",
       "<style>\n",
       "    .dataframe thead tr:only-child th {\n",
       "        text-align: right;\n",
       "    }\n",
       "\n",
       "    .dataframe thead th {\n",
       "        text-align: left;\n",
       "    }\n",
       "\n",
       "    .dataframe tbody tr th {\n",
       "        vertical-align: top;\n",
       "    }\n",
       "</style>\n",
       "<table border=\"1\" class=\"dataframe\">\n",
       "  <thead>\n",
       "    <tr style=\"text-align: right;\">\n",
       "      <th></th>\n",
       "      <th>mcv</th>\n",
       "      <th>alkphos</th>\n",
       "      <th>sgpt</th>\n",
       "      <th>sgot</th>\n",
       "      <th>gammagt</th>\n",
       "      <th>drinks</th>\n",
       "      <th>selector</th>\n",
       "    </tr>\n",
       "  </thead>\n",
       "  <tbody>\n",
       "    <tr>\n",
       "      <th>0</th>\n",
       "      <td>85</td>\n",
       "      <td>92</td>\n",
       "      <td>45</td>\n",
       "      <td>27</td>\n",
       "      <td>31</td>\n",
       "      <td>0.0</td>\n",
       "      <td>1</td>\n",
       "    </tr>\n",
       "    <tr>\n",
       "      <th>1</th>\n",
       "      <td>85</td>\n",
       "      <td>64</td>\n",
       "      <td>59</td>\n",
       "      <td>32</td>\n",
       "      <td>23</td>\n",
       "      <td>0.0</td>\n",
       "      <td>2</td>\n",
       "    </tr>\n",
       "    <tr>\n",
       "      <th>2</th>\n",
       "      <td>86</td>\n",
       "      <td>54</td>\n",
       "      <td>33</td>\n",
       "      <td>16</td>\n",
       "      <td>54</td>\n",
       "      <td>0.0</td>\n",
       "      <td>2</td>\n",
       "    </tr>\n",
       "    <tr>\n",
       "      <th>3</th>\n",
       "      <td>91</td>\n",
       "      <td>78</td>\n",
       "      <td>34</td>\n",
       "      <td>24</td>\n",
       "      <td>36</td>\n",
       "      <td>0.0</td>\n",
       "      <td>2</td>\n",
       "    </tr>\n",
       "    <tr>\n",
       "      <th>4</th>\n",
       "      <td>87</td>\n",
       "      <td>70</td>\n",
       "      <td>12</td>\n",
       "      <td>28</td>\n",
       "      <td>10</td>\n",
       "      <td>0.0</td>\n",
       "      <td>2</td>\n",
       "    </tr>\n",
       "  </tbody>\n",
       "</table>\n",
       "</div>"
      ],
      "text/plain": [
       "   mcv  alkphos  sgpt  sgot  gammagt  drinks  selector\n",
       "0   85       92    45    27       31     0.0         1\n",
       "1   85       64    59    32       23     0.0         2\n",
       "2   86       54    33    16       54     0.0         2\n",
       "3   91       78    34    24       36     0.0         2\n",
       "4   87       70    12    28       10     0.0         2"
      ]
     },
     "execution_count": 7,
     "metadata": {},
     "output_type": "execute_result"
    }
   ],
   "source": [
    "df.head()"
   ]
  },
  {
   "cell_type": "code",
   "execution_count": 8,
   "metadata": {},
   "outputs": [
    {
     "data": {
      "text/plain": [
       "array([27, 32, 16, 24, 28, 17, 17, 11, 20, 19])"
      ]
     },
     "execution_count": 8,
     "metadata": {},
     "output_type": "execute_result"
    }
   ],
   "source": [
    "# let's take get sgot and gammagt colums into an numpy array\n",
    "sgot_col = df['sgot'].values\n",
    "gammagt_col = df['gammagt'].values\n",
    "selector_col = df['selector'].values\n",
    "# just to check the array\n",
    "sgot_col[:10]"
   ]
  },
  {
   "cell_type": "code",
   "execution_count": 9,
   "metadata": {},
   "outputs": [
    {
     "data": {
      "text/plain": [
       "(345,)"
      ]
     },
     "execution_count": 9,
     "metadata": {},
     "output_type": "execute_result"
    }
   ],
   "source": [
    "sgot_col.shape"
   ]
  },
  {
   "cell_type": "code",
   "execution_count": 10,
   "metadata": {},
   "outputs": [
    {
     "name": "stdout",
     "output_type": "stream",
     "text": [
      "0.157355800969\n",
      "0.146392523648\n"
     ]
    }
   ],
   "source": [
    "# numpy.corrcoef returns Pearson product-moment correlation coefficients\n",
    "print(np.corrcoef(sgot_col, selector_col)[0][1])\n",
    "print(np.corrcoef(gammagt_col, selector_col)[0][1])"
   ]
  },
  {
   "cell_type": "markdown",
   "metadata": {},
   "source": [
    " From the pearsons correlation coefficients, ___sgot and gammagt___ are ___positively related__ to the ___output variable___, but ___weakly___."
   ]
  },
  {
   "cell_type": "markdown",
   "metadata": {},
   "source": [
    "## __ Hypothesis testing:__"
   ]
  },
  {
   "cell_type": "markdown",
   "metadata": {},
   "source": [
    "Prove that the features are correlated with output varaible using null hypothsis test\n",
    "        i.hint: consider 100 random samples from the data set and find out the correlation, repeat it for 50 times"
   ]
  },
  {
   "cell_type": "markdown",
   "metadata": {},
   "source": [
    "### Null Hypothesis:\n",
    "$H_0 :$ sgot and output variable are negatively corelated"
   ]
  },
  {
   "cell_type": "code",
   "execution_count": 11,
   "metadata": {
    "collapsed": true
   },
   "outputs": [],
   "source": [
    "indices = np.arange(345)"
   ]
  },
  {
   "cell_type": "code",
   "execution_count": 12,
   "metadata": {},
   "outputs": [
    {
     "data": {
      "text/plain": [
       "0.02"
      ]
     },
     "execution_count": 12,
     "metadata": {},
     "output_type": "execute_result"
    }
   ],
   "source": [
    "# for finding the p-value\n",
    "count = 0\n",
    "temp = 0\n",
    "# for sgot and output variable\n",
    "for i in range(100):\n",
    "    # take 100 samples from dataset\n",
    "    np.random.shuffle(indices)\n",
    "    sample_indices = indices[:100]\n",
    "    sgot_sample = sgot_col[sample_indices]\n",
    "    output_sample = selector_col[sample_indices]\n",
    "    pcc = np.corrcoef(sgot_sample, output_sample)[0][1]\n",
    "    # check if pcc is negatively correlated or not\n",
    "    if pcc<=0:\n",
    "        count = count + 1\n",
    "\n",
    "p_value = count/50\n",
    "p_value"
   ]
  },
  {
   "cell_type": "markdown",
   "metadata": {},
   "source": [
    "### Observation:\n",
    "\n",
    "With p_value 0.02 (<0.05), we can say that NUll Hypothesis is true with probability 0.02.\n",
    "\n",
    "ie., We can strongly reject Null Hypothesis. "
   ]
  },
  {
   "cell_type": "markdown",
   "metadata": {},
   "source": [
    "### Conclusion:\n",
    "> ___sgot and output___ variable are ___correlated.___"
   ]
  },
  {
   "cell_type": "markdown",
   "metadata": {},
   "source": [
    "### Null Hypothesis:\n",
    "$H_0 :$ gammagt and output variable are not at all corelated"
   ]
  },
  {
   "cell_type": "code",
   "execution_count": 13,
   "metadata": {},
   "outputs": [
    {
     "data": {
      "text/plain": [
       "0.0"
      ]
     },
     "execution_count": 13,
     "metadata": {},
     "output_type": "execute_result"
    }
   ],
   "source": [
    "# for finding the p-value\n",
    "count = 0\n",
    "temp = 0\n",
    "# for gammagt and output variable\n",
    "for i in range(50):\n",
    "    # take 100 samples from dataset\n",
    "    np.random.shuffle(indices)\n",
    "    sample_indices = indices[:100]\n",
    "    gammagt_sample = gammagt_col[sample_indices]\n",
    "    output_sample = selector_col[sample_indices]\n",
    "    pcc = np.corrcoef(gammagt_sample, output_sample)[0][1]\n",
    "    # check if pcc is negatively correlated or not\n",
    "    if pcc<=0:\n",
    "        count = count + 1\n",
    "\n",
    "p_value = count/50\n",
    "p_value"
   ]
  },
  {
   "cell_type": "markdown",
   "metadata": {},
   "source": [
    "### Observation:\n",
    "\n",
    "With p_value 0.04 (<0.05), we can say that NUll Hypothesis is true with probability 0.02.\n",
    "\n",
    "ie., We can strongly reject Null Hypothesis. "
   ]
  },
  {
   "cell_type": "markdown",
   "metadata": {},
   "source": [
    "### Conclusion:\n",
    "> ___gammagt and output___ variable are ___correlated.___"
   ]
  },
  {
   "cell_type": "markdown",
   "metadata": {},
   "source": [
    " \n"
   ]
  },
  {
   "cell_type": "markdown",
   "metadata": {
    "collapsed": true
   },
   "source": [
    "------------------------------------------------------------------------------------------------------------------\n",
    "------------------------------------------------------------------------------------------------------------------"
   ]
  },
  {
   "cell_type": "markdown",
   "metadata": {},
   "source": [
    "## Q2.\n",
    "    a. Simulate the coin tossing by writing a function wich gives the output \"head\" with 50% chance and \"tail\" with 50% chance\n",
    "    b. call the same function 250 times, find out the number tests which gave the output \"head\"\n",
    "    c. based on the result conclude that the coin is baised or not\n",
    "    d. prove your conclusion with the help of null hypothisis test\n",
    "   "
   ]
  },
  {
   "cell_type": "code",
   "execution_count": 14,
   "metadata": {},
   "outputs": [
    {
     "name": "stdout",
     "output_type": "stream",
     "text": [
      "Coin is UnBiased\n"
     ]
    }
   ],
   "source": [
    "# performs the coin toss and returns heads or tails..\n",
    "def CoinToss():\n",
    "    r = np.random.random()\n",
    "    if r<=0.5:\n",
    "        # heads\n",
    "        return 1\n",
    "    else:\n",
    "        # tails\n",
    "        return 0\n",
    "        \n",
    "# experiment coin toss 250 times and return no. of heads out of 250\n",
    "def Experiment():\n",
    "    heads = 0\n",
    "    for i in range(250):\n",
    "        if CoinToss():\n",
    "            heads = heads + 1\n",
    "    return heads\n",
    "\n",
    "\n",
    "# if we repeat this experiment multiple times, we can say biased or not with certain probability.\n",
    "# This is not Hypothesis testing, We will do it in next section.\n",
    "heads = Experiment()\n",
    "if 120 <= heads <= 130:\n",
    "    print('Coin is UnBiased')\n",
    "else:\n",
    "    print('Coin is Biased')"
   ]
  },
  {
   "cell_type": "markdown",
   "metadata": {},
   "source": [
    "# Hypothesis testing for Coin Toss"
   ]
  },
  {
   "cell_type": "markdown",
   "metadata": {},
   "source": [
    "$H_0$ : The coin is biased. (Null Hypothesis)\n",
    "\n",
    "$H_1$ : The coin is Unbiased\n",
    "\n",
    "* We will repeat the experiment (tossing a coin 250 times), 1000 times.\n",
    " * if we can get more heads (say >=140), most of the times out of 1000 times,\n",
    " then we will say that, \" _ OUR NULL HYPOTHESIS IS TRUE_ \"\n",
    " >_ The coin is Biased _\n",
    " * Otherwise, the coin is Unbiased."
   ]
  },
  {
   "cell_type": "code",
   "execution_count": 15,
   "metadata": {},
   "outputs": [
    {
     "data": {
      "text/plain": [
       "0.041"
      ]
     },
     "execution_count": 15,
     "metadata": {},
     "output_type": "execute_result"
    }
   ],
   "source": [
    "# for hypothesis testing\n",
    "biased = 0\n",
    "for i in range(1000):\n",
    "    heads = Experiment()\n",
    "    if heads >= 140:\n",
    "        biased = biased + 1\n",
    "\n",
    "# calculate the p-value. ie., the prob that our null hypothesis is true..\n",
    "p_value = biased/1000\n",
    "p_value"
   ]
  },
  {
   "cell_type": "markdown",
   "metadata": {},
   "source": [
    "### Observations:"
   ]
  },
  {
   "cell_type": "markdown",
   "metadata": {},
   "source": [
    "* The probability that the coin is Biased (__p-value__) is very very less (.031).\n",
    "> In General, if ___p-value <= 0.05___ , then we can strongly reject the Null Hypothesis."
   ]
  },
  {
   "cell_type": "markdown",
   "metadata": {},
   "source": [
    "### Conclusion:"
   ]
  },
  {
   "cell_type": "markdown",
   "metadata": {},
   "source": [
    "* Our Null Hypothesis is False\n",
    "\n",
    "> __  The coin is Unbiased__"
   ]
  },
  {
   "cell_type": "markdown",
   "metadata": {
    "collapsed": true
   },
   "source": [
    "------------------------------------------------------------------------------------------------------------------\n",
    "------------------------------------------------------------------------------------------------------------------"
   ]
  },
  {
   "cell_type": "markdown",
   "metadata": {
    "collapsed": true
   },
   "source": [
    "  "
   ]
  },
  {
   "cell_type": "markdown",
   "metadata": {},
   "source": [
    "# Q3. \n",
    "    a. call the function genarate_data() to get two vectors, \"X, Y = genarate_data()\"\n",
    "    b. find out the trasofrmation of given vectors which will help us to find the correlation between X, Y with the help of techniques that are discussed in the class (Pearson Product Moment Correlation, Spearman rank Order Correlation)\n",
    "        hint: use the techniques that are discussed in the class while solving \"X^2 + Y^2 =a^2 (circle data)\"\n"
   ]
  },
  {
   "cell_type": "code",
   "execution_count": 16,
   "metadata": {
    "collapsed": true
   },
   "outputs": [],
   "source": [
    "import numpy as np\n",
    "import math\n",
    "def genarate_data():\n",
    "    X = np.linspace(-10,10, 500)\n",
    "    Y = [(4 / 3 ** 2) * (x - 3) ** 2 for x in X]\n",
    "    return X, Y"
   ]
  },
  {
   "cell_type": "code",
   "execution_count": 17,
   "metadata": {
    "collapsed": true
   },
   "outputs": [],
   "source": [
    "X, Y = genarate_data()"
   ]
  },
  {
   "cell_type": "code",
   "execution_count": 18,
   "metadata": {
    "collapsed": true
   },
   "outputs": [],
   "source": [
    "import matplotlib.pyplot as plt"
   ]
  },
  {
   "cell_type": "code",
   "execution_count": 22,
   "metadata": {},
   "outputs": [
    {
     "data": {
      "image/png": "[encoded data removed]",
      "text/plain": [
       "<matplotlib.figure.Figure at 0x7fcb6756d4a8>"
      ]
     },
     "metadata": {},
     "output_type": "display_data"
    }
   ],
   "source": [
    "plt.scatter(X, Y, s=1)\n",
    "plt.show()\n"
   ]
  },
  {
   "cell_type": "markdown",
   "metadata": {
    "collapsed": true
   },
   "source": [
    " ## Observations:\n",
    " \n",
    " 1. For this data, ___Pearson correlation coefficient___ might ___not___ give the best results, because the data is ___not linear___.\n",
    " \n",
    " \n",
    " 2. But we can easily rank the data, cause there is a ___unique value__ for ___each x___. That ___eliminates___ the ___need of data transformation___, to apply ___Spearman corelation coefficient___."
   ]
  },
  {
   "cell_type": "markdown",
   "metadata": {},
   "source": [
    "## Conclusion:\n"
   ]
  },
  {
   "cell_type": "code",
   "execution_count": 20,
   "metadata": {
    "collapsed": true
   },
   "outputs": [],
   "source": [
    "# Spearman rank-order correlation coefficient for this data is..\n",
    "import scipy.stats as stats\n",
    "result = stats.spearmanr(X,Y)"
   ]
  },
  {
   "cell_type": "code",
   "execution_count": 21,
   "metadata": {},
   "outputs": [
    {
     "name": "stdout",
     "output_type": "stream",
     "text": [
      "Spearman rank-order correlation coefficient of X and Y is -0.6555314221256885. \n"
     ]
    }
   ],
   "source": [
    "print('Spearman rank-order correlation coefficient of X and Y is {}. '.format(result.correlation))"
   ]
  },
  {
   "cell_type": "markdown",
   "metadata": {
    "collapsed": true
   },
   "source": [
    "  "
   ]
  },
  {
   "cell_type": "markdown",
   "metadata": {
    "collapsed": true
   },
   "source": [
    "  "
   ]
  },
  {
   "cell_type": "markdown",
   "metadata": {
    "collapsed": true
   },
   "source": [
    "  "
   ]
  },
  {
   "cell_type": "markdown",
   "metadata": {
    "collapsed": true
   },
   "source": [
    "  "
   ]
  },
  {
   "cell_type": "markdown",
   "metadata": {
    "collapsed": true
   },
   "source": [
    "  "
   ]
  },
  {
   "cell_type": "markdown",
   "metadata": {
    "collapsed": true
   },
   "source": [
    "  "
   ]
  },
  {
   "cell_type": "markdown",
   "metadata": {
    "collapsed": true
   },
   "source": [
    "  "
   ]
  },
  {
   "cell_type": "markdown",
   "metadata": {
    "collapsed": true
   },
   "source": [
    "  "
   ]
  }
 ],
 "metadata": {
  "kernelspec": {
   "display_name": "Python 3",
   "language": "python",
   "name": "python3"
  },
  "language_info": {
   "codemirror_mode": {
    "name": "ipython",
    "version": 3
   },
   "file_extension": ".py",
   "mimetype": "text/x-python",
   "name": "python",
   "nbconvert_exporter": "python",
   "pygments_lexer": "ipython3",
   "version": "3.6.1"
  }
 },
 "nbformat": 4,
 "nbformat_minor": 2
}

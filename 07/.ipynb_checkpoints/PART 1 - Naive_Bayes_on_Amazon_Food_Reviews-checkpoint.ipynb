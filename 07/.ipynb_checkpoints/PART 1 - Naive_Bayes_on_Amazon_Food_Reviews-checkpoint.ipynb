{
 "cells": [
  {
   "cell_type": "code",
   "execution_count": 1,
   "metadata": {
    "collapsed": true
   },
   "outputs": [],
   "source": [
    "import pandas as pd\n",
    "reviews = pd.read_csv('reviews.csv')"
   ]
  },
  {
   "cell_type": "code",
   "execution_count": 2,
   "metadata": {},
   "outputs": [
    {
     "data": {
      "text/html": [
       "<div>\n",
       "<style>\n",
       "    .dataframe thead tr:only-child th {\n",
       "        text-align: right;\n",
       "    }\n",
       "\n",
       "    .dataframe thead th {\n",
       "        text-align: left;\n",
       "    }\n",
       "\n",
       "    .dataframe tbody tr th {\n",
       "        vertical-align: top;\n",
       "    }\n",
       "</style>\n",
       "<table border=\"1\" class=\"dataframe\">\n",
       "  <thead>\n",
       "    <tr style=\"text-align: right;\">\n",
       "      <th></th>\n",
       "      <th>Id</th>\n",
       "      <th>ProductId</th>\n",
       "      <th>UserId</th>\n",
       "      <th>ProfileName</th>\n",
       "      <th>HelpfulnessNumerator</th>\n",
       "      <th>HelpfulnessDenominator</th>\n",
       "      <th>Score</th>\n",
       "      <th>Time</th>\n",
       "      <th>Summary</th>\n",
       "      <th>Text</th>\n",
       "    </tr>\n",
       "  </thead>\n",
       "  <tbody>\n",
       "    <tr>\n",
       "      <th>123252</th>\n",
       "      <td>123253</td>\n",
       "      <td>B001E5E2ZO</td>\n",
       "      <td>A3CFSULXSCEC84</td>\n",
       "      <td>boudmaster</td>\n",
       "      <td>1</td>\n",
       "      <td>1</td>\n",
       "      <td>5</td>\n",
       "      <td>1344729600</td>\n",
       "      <td>Best there is!</td>\n",
       "      <td>I have been using the chocolate syrup for my c...</td>\n",
       "    </tr>\n",
       "  </tbody>\n",
       "</table>\n",
       "</div>"
      ],
      "text/plain": [
       "            Id   ProductId          UserId ProfileName  HelpfulnessNumerator  \\\n",
       "123252  123253  B001E5E2ZO  A3CFSULXSCEC84  boudmaster                     1   \n",
       "\n",
       "        HelpfulnessDenominator  Score        Time         Summary  \\\n",
       "123252                       1      5  1344729600  Best there is!   \n",
       "\n",
       "                                                     Text  \n",
       "123252  I have been using the chocolate syrup for my c...  "
      ]
     },
     "execution_count": 2,
     "metadata": {},
     "output_type": "execute_result"
    }
   ],
   "source": [
    "reviews.sample()"
   ]
  },
  {
   "cell_type": "code",
   "execution_count": 3,
   "metadata": {},
   "outputs": [
    {
     "data": {
      "text/plain": [
       "(568454, 10)"
      ]
     },
     "execution_count": 3,
     "metadata": {},
     "output_type": "execute_result"
    }
   ],
   "source": [
    "reviews.shape"
   ]
  },
  {
   "cell_type": "markdown",
   "metadata": {},
   "source": [
    "# Data Preprocessing"
   ]
  },
  {
   "cell_type": "markdown",
   "metadata": {},
   "source": [
    "## 1. Filter out some (Score, Summary, Text) features from dataset"
   ]
  },
  {
   "cell_type": "code",
   "execution_count": 4,
   "metadata": {
    "scrolled": true
   },
   "outputs": [
    {
     "data": {
      "text/html": [
       "<div>\n",
       "<style>\n",
       "    .dataframe thead tr:only-child th {\n",
       "        text-align: right;\n",
       "    }\n",
       "\n",
       "    .dataframe thead th {\n",
       "        text-align: left;\n",
       "    }\n",
       "\n",
       "    .dataframe tbody tr th {\n",
       "        vertical-align: top;\n",
       "    }\n",
       "</style>\n",
       "<table border=\"1\" class=\"dataframe\">\n",
       "  <thead>\n",
       "    <tr style=\"text-align: right;\">\n",
       "      <th></th>\n",
       "      <th>Score</th>\n",
       "      <th>Summary</th>\n",
       "      <th>Text</th>\n",
       "    </tr>\n",
       "  </thead>\n",
       "  <tbody>\n",
       "    <tr>\n",
       "      <th>0</th>\n",
       "      <td>5</td>\n",
       "      <td>Good Quality Dog Food</td>\n",
       "      <td>I have bought several of the Vitality canned d...</td>\n",
       "    </tr>\n",
       "    <tr>\n",
       "      <th>1</th>\n",
       "      <td>1</td>\n",
       "      <td>Not as Advertised</td>\n",
       "      <td>Product arrived labeled as Jumbo Salted Peanut...</td>\n",
       "    </tr>\n",
       "    <tr>\n",
       "      <th>2</th>\n",
       "      <td>4</td>\n",
       "      <td>\"Delight\" says it all</td>\n",
       "      <td>This is a confection that has been around a fe...</td>\n",
       "    </tr>\n",
       "    <tr>\n",
       "      <th>3</th>\n",
       "      <td>2</td>\n",
       "      <td>Cough Medicine</td>\n",
       "      <td>If you are looking for the secret ingredient i...</td>\n",
       "    </tr>\n",
       "    <tr>\n",
       "      <th>4</th>\n",
       "      <td>5</td>\n",
       "      <td>Great taffy</td>\n",
       "      <td>Great taffy at a great price.  There was a wid...</td>\n",
       "    </tr>\n",
       "  </tbody>\n",
       "</table>\n",
       "</div>"
      ],
      "text/plain": [
       "   Score                Summary  \\\n",
       "0      5  Good Quality Dog Food   \n",
       "1      1      Not as Advertised   \n",
       "2      4  \"Delight\" says it all   \n",
       "3      2         Cough Medicine   \n",
       "4      5            Great taffy   \n",
       "\n",
       "                                                Text  \n",
       "0  I have bought several of the Vitality canned d...  \n",
       "1  Product arrived labeled as Jumbo Salted Peanut...  \n",
       "2  This is a confection that has been around a fe...  \n",
       "3  If you are looking for the secret ingredient i...  \n",
       "4  Great taffy at a great price.  There was a wid...  "
      ]
     },
     "execution_count": 4,
     "metadata": {},
     "output_type": "execute_result"
    }
   ],
   "source": [
    "df = reviews.filter(['Score','Summary','Text'], axis = 1)\n",
    "df.iloc[:5]"
   ]
  },
  {
   "cell_type": "markdown",
   "metadata": {},
   "source": [
    "## 2.   Splitting the data into train and test"
   ]
  },
  {
   "cell_type": "code",
   "execution_count": 5,
   "metadata": {},
   "outputs": [
    {
     "data": {
      "text/plain": [
       "568454"
      ]
     },
     "execution_count": 5,
     "metadata": {},
     "output_type": "execute_result"
    }
   ],
   "source": [
    "# finding the number of rows in our dataset\n",
    "rows = df.shape[0]\n",
    "rows"
   ]
  },
  {
   "cell_type": "code",
   "execution_count": 6,
   "metadata": {
    "collapsed": true
   },
   "outputs": [],
   "source": [
    "train_size = int(rows * 0.70)\n",
    "test_size = rows - train_size"
   ]
  },
  {
   "cell_type": "code",
   "execution_count": 7,
   "metadata": {},
   "outputs": [
    {
     "data": {
      "text/plain": [
       "True"
      ]
     },
     "execution_count": 7,
     "metadata": {},
     "output_type": "execute_result"
    }
   ],
   "source": [
    "rows == train_size + test_size"
   ]
  },
  {
   "cell_type": "code",
   "execution_count": 8,
   "metadata": {
    "collapsed": true
   },
   "outputs": [],
   "source": [
    "train_data = pd.DataFrame(columns=df.columns)\n",
    "test_data  = pd.DataFrame(columns=df.columns)"
   ]
  },
  {
   "cell_type": "code",
   "execution_count": 9,
   "metadata": {
    "scrolled": true
   },
   "outputs": [
    {
     "name": "stdout",
     "output_type": "stream",
     "text": [
      "Train Data : Empty DataFrame\n",
      "Columns: [Score, Summary, Text]\n",
      "Index: []\n",
      "\n",
      "Test Data: Empty DataFrame\n",
      "Columns: [Score, Summary, Text]\n",
      "Index: []\n",
      "\n",
      "test_size : 170537 train_size : 397917\n"
     ]
    }
   ],
   "source": [
    "print(\"Train Data : {}\".format(train_data))\n",
    "print(\"\\nTest Data: {}\".format(test_data))\n",
    "print(\"\\ntest_size : {} train_size : {}\".format(test_size, train_size))"
   ]
  },
  {
   "cell_type": "raw",
   "metadata": {
    "collapsed": true
   },
   "source": [
    "# Didn't use this function to split the data, it will take lot of time say more than 20 minutes...\n",
    "\n",
    "\"\"\"\n",
    "test_index = 0\n",
    "train_index = 0\n",
    "\n",
    "# split the data into training and testing data\n",
    "for index, row in df.iterrows():\n",
    "    print(index)\n",
    "    if train_size is not 0 and test_size is not 0:\n",
    "        if random.random()<=0.5:\n",
    "            train_data.loc[train_index] = row\n",
    "            train_size = train_size - 1\n",
    "            train_index= train_index + 1\n",
    "        else:\n",
    "            test_data.loc[test_index] = row\n",
    "            test_size = test_size - 1\n",
    "            test_index = test_index + 1\n",
    "    elif test_size is 0:\n",
    "        # test_size is full. lets add this row to training data...\n",
    "        train_data.loc[train_index] = row\n",
    "        train_size = train_size - 1\n",
    "        train_index= train_index + 1\n",
    "    else:\n",
    "        # train data is full. lets add that row to test data..\n",
    "        test_data.loc[test_index] = row\n",
    "        test_size = test_size - 1\n",
    "        test_index = test_index + 1\n",
    "\"\"\""
   ]
  },
  {
   "cell_type": "code",
   "execution_count": 10,
   "metadata": {},
   "outputs": [
    {
     "name": "stdout",
     "output_type": "stream",
     "text": [
      "[151120, 269769, 231256, 302130, 63156, 502378, 64509, 164090, 415966, 136633]\n",
      "[396476, 190002, 427258, 457189, 135698, 172317, 93630, 288461, 76673, 17169]\n"
     ]
    }
   ],
   "source": [
    "import random\n",
    "\n",
    "# indices list contains all indices from 0 to rows..\n",
    "indices =list(range(rows))\n",
    "random.shuffle(indices)\n",
    "\n",
    "# get random indices from shuffled indices array for train and test data..\n",
    "trnind = indices[:train_size]\n",
    "tstind = indices[train_size:rows]\n",
    "\n",
    "print(trnind[:10])\n",
    "print(tstind[:10])"
   ]
  },
  {
   "cell_type": "code",
   "execution_count": 11,
   "metadata": {},
   "outputs": [
    {
     "data": {
      "text/plain": [
       "(397917, 3)"
      ]
     },
     "execution_count": 11,
     "metadata": {},
     "output_type": "execute_result"
    }
   ],
   "source": [
    "# get the training data with that trnindices array\n",
    "train_data = df.iloc[trnind]\n",
    "train_data.shape"
   ]
  },
  {
   "cell_type": "code",
   "execution_count": 12,
   "metadata": {},
   "outputs": [
    {
     "data": {
      "text/plain": [
       "(170537, 3)"
      ]
     },
     "execution_count": 12,
     "metadata": {},
     "output_type": "execute_result"
    }
   ],
   "source": [
    "# get the test data with that tstindices array\n",
    "test_data = df.iloc[tstind]\n",
    "test_data.shape"
   ]
  },
  {
   "cell_type": "code",
   "execution_count": 13,
   "metadata": {
    "scrolled": true
   },
   "outputs": [
    {
     "data": {
      "text/html": [
       "<div>\n",
       "<style>\n",
       "    .dataframe thead tr:only-child th {\n",
       "        text-align: right;\n",
       "    }\n",
       "\n",
       "    .dataframe thead th {\n",
       "        text-align: left;\n",
       "    }\n",
       "\n",
       "    .dataframe tbody tr th {\n",
       "        vertical-align: top;\n",
       "    }\n",
       "</style>\n",
       "<table border=\"1\" class=\"dataframe\">\n",
       "  <thead>\n",
       "    <tr style=\"text-align: right;\">\n",
       "      <th></th>\n",
       "      <th>Score</th>\n",
       "      <th>Summary</th>\n",
       "      <th>Text</th>\n",
       "    </tr>\n",
       "  </thead>\n",
       "  <tbody>\n",
       "    <tr>\n",
       "      <th>151120</th>\n",
       "      <td>5</td>\n",
       "      <td>Great Product Outrageous Price</td>\n",
       "      <td>I have bred and sold dogs for over 45 years.  ...</td>\n",
       "    </tr>\n",
       "    <tr>\n",
       "      <th>269769</th>\n",
       "      <td>4</td>\n",
       "      <td>It's really salty...</td>\n",
       "      <td>I bought this product as a gift for a friend w...</td>\n",
       "    </tr>\n",
       "    <tr>\n",
       "      <th>231256</th>\n",
       "      <td>5</td>\n",
       "      <td>Great tasting drink</td>\n",
       "      <td>I have checked many places and this product ca...</td>\n",
       "    </tr>\n",
       "  </tbody>\n",
       "</table>\n",
       "</div>"
      ],
      "text/plain": [
       "        Score                         Summary  \\\n",
       "151120      5  Great Product Outrageous Price   \n",
       "269769      4            It's really salty...   \n",
       "231256      5             Great tasting drink   \n",
       "\n",
       "                                                     Text  \n",
       "151120  I have bred and sold dogs for over 45 years.  ...  \n",
       "269769  I bought this product as a gift for a friend w...  \n",
       "231256  I have checked many places and this product ca...  "
      ]
     },
     "execution_count": 13,
     "metadata": {},
     "output_type": "execute_result"
    }
   ],
   "source": [
    "train_data.iloc[:3]"
   ]
  },
  {
   "cell_type": "code",
   "execution_count": 14,
   "metadata": {
    "scrolled": false
   },
   "outputs": [
    {
     "data": {
      "text/html": [
       "<div>\n",
       "<style>\n",
       "    .dataframe thead tr:only-child th {\n",
       "        text-align: right;\n",
       "    }\n",
       "\n",
       "    .dataframe thead th {\n",
       "        text-align: left;\n",
       "    }\n",
       "\n",
       "    .dataframe tbody tr th {\n",
       "        vertical-align: top;\n",
       "    }\n",
       "</style>\n",
       "<table border=\"1\" class=\"dataframe\">\n",
       "  <thead>\n",
       "    <tr style=\"text-align: right;\">\n",
       "      <th></th>\n",
       "      <th>Score</th>\n",
       "      <th>Summary</th>\n",
       "      <th>Text</th>\n",
       "    </tr>\n",
       "  </thead>\n",
       "  <tbody>\n",
       "    <tr>\n",
       "      <th>396476</th>\n",
       "      <td>5</td>\n",
       "      <td>Fast Service, Right Product, GREAT OLIVES!</td>\n",
       "      <td>I ordered same product from another shop earli...</td>\n",
       "    </tr>\n",
       "    <tr>\n",
       "      <th>190002</th>\n",
       "      <td>5</td>\n",
       "      <td>Best Popcorn Ever!</td>\n",
       "      <td>This is the best popping corn ever. It pops up...</td>\n",
       "    </tr>\n",
       "    <tr>\n",
       "      <th>427258</th>\n",
       "      <td>4</td>\n",
       "      <td>Timothy's Great Coffee</td>\n",
       "      <td>This is a great tasting, strong coffee that we...</td>\n",
       "    </tr>\n",
       "  </tbody>\n",
       "</table>\n",
       "</div>"
      ],
      "text/plain": [
       "        Score                                     Summary  \\\n",
       "396476      5  Fast Service, Right Product, GREAT OLIVES!   \n",
       "190002      5                          Best Popcorn Ever!   \n",
       "427258      4                      Timothy's Great Coffee   \n",
       "\n",
       "                                                     Text  \n",
       "396476  I ordered same product from another shop earli...  \n",
       "190002  This is the best popping corn ever. It pops up...  \n",
       "427258  This is a great tasting, strong coffee that we...  "
      ]
     },
     "execution_count": 14,
     "metadata": {},
     "output_type": "execute_result"
    }
   ],
   "source": [
    "test_data.iloc[:3]"
   ]
  },
  {
   "cell_type": "markdown",
   "metadata": {},
   "source": [
    "## 3. Remove all special characters and html tags"
   ]
  },
  {
   "cell_type": "code",
   "execution_count": 44,
   "metadata": {
    "collapsed": true
   },
   "outputs": [],
   "source": [
    "import re\n",
    "def preProcessString(text):\n",
    "    # remove all html tags\n",
    "    text = re.sub('<.*?>', ' ', text)\n",
    "    \n",
    "    # remove all special characters\n",
    "    text = re.sub('[^A-Za-z0-9]+', ' ', text)\n",
    "    \n",
    "    # converting all text into small letters\n",
    "    text = text.lower()\n",
    "    \n",
    "    return text"
   ]
  },
  {
   "cell_type": "code",
   "execution_count": 58,
   "metadata": {},
   "outputs": [
    {
     "data": {
      "text/html": [
       "<div>\n",
       "<style>\n",
       "    .dataframe thead tr:only-child th {\n",
       "        text-align: right;\n",
       "    }\n",
       "\n",
       "    .dataframe thead th {\n",
       "        text-align: left;\n",
       "    }\n",
       "\n",
       "    .dataframe tbody tr th {\n",
       "        vertical-align: top;\n",
       "    }\n",
       "</style>\n",
       "<table border=\"1\" class=\"dataframe\">\n",
       "  <thead>\n",
       "    <tr style=\"text-align: right;\">\n",
       "      <th></th>\n",
       "      <th>Score</th>\n",
       "      <th>Summary</th>\n",
       "      <th>Text</th>\n",
       "    </tr>\n",
       "  </thead>\n",
       "  <tbody>\n",
       "    <tr>\n",
       "      <th>396476</th>\n",
       "      <td>5</td>\n",
       "      <td>Fast Service, Right Product, GREAT OLIVES!</td>\n",
       "      <td>I ordered same product from another shop earli...</td>\n",
       "    </tr>\n",
       "    <tr>\n",
       "      <th>190002</th>\n",
       "      <td>5</td>\n",
       "      <td>Best Popcorn Ever!</td>\n",
       "      <td>This is the best popping corn ever. It pops up...</td>\n",
       "    </tr>\n",
       "    <tr>\n",
       "      <th>427258</th>\n",
       "      <td>4</td>\n",
       "      <td>Timothy's Great Coffee</td>\n",
       "      <td>This is a great tasting, strong coffee that we...</td>\n",
       "    </tr>\n",
       "    <tr>\n",
       "      <th>457189</th>\n",
       "      <td>4</td>\n",
       "      <td>I LOVE THESE CRACKERS!!</td>\n",
       "      <td>Now that I got the caps out of my system, yes,...</td>\n",
       "    </tr>\n",
       "    <tr>\n",
       "      <th>135698</th>\n",
       "      <td>5</td>\n",
       "      <td>Clif never lets me down</td>\n",
       "      <td>This crunch granola bar is on par with every o...</td>\n",
       "    </tr>\n",
       "    <tr>\n",
       "      <th>172317</th>\n",
       "      <td>4</td>\n",
       "      <td>Good but NOT low in calories!</td>\n",
       "      <td>I was looking for a new kind of snack and saw ...</td>\n",
       "    </tr>\n",
       "    <tr>\n",
       "      <th>93630</th>\n",
       "      <td>5</td>\n",
       "      <td>YUMMY!</td>\n",
       "      <td>Yummy! Enough Said. These little cookies are s...</td>\n",
       "    </tr>\n",
       "    <tr>\n",
       "      <th>288461</th>\n",
       "      <td>5</td>\n",
       "      <td>Yum, Ginger Snap tastes like gingerbread!</td>\n",
       "      <td>The Ginger Snap Larabars are great as are many...</td>\n",
       "    </tr>\n",
       "    <tr>\n",
       "      <th>76673</th>\n",
       "      <td>5</td>\n",
       "      <td>Bold Taste</td>\n",
       "      <td>This is my husbands favorite.  We have tried a...</td>\n",
       "    </tr>\n",
       "    <tr>\n",
       "      <th>17169</th>\n",
       "      <td>5</td>\n",
       "      <td>RiceSelect Royal Blend, Whole Grain Texmati Br...</td>\n",
       "      <td>This blend of rice, wheat berries, and rye ber...</td>\n",
       "    </tr>\n",
       "  </tbody>\n",
       "</table>\n",
       "</div>"
      ],
      "text/plain": [
       "        Score                                            Summary  \\\n",
       "396476      5         Fast Service, Right Product, GREAT OLIVES!   \n",
       "190002      5                                 Best Popcorn Ever!   \n",
       "427258      4                             Timothy's Great Coffee   \n",
       "457189      4                            I LOVE THESE CRACKERS!!   \n",
       "135698      5                            Clif never lets me down   \n",
       "172317      4                      Good but NOT low in calories!   \n",
       "93630       5                                             YUMMY!   \n",
       "288461      5          Yum, Ginger Snap tastes like gingerbread!   \n",
       "76673       5                                         Bold Taste   \n",
       "17169       5  RiceSelect Royal Blend, Whole Grain Texmati Br...   \n",
       "\n",
       "                                                     Text  \n",
       "396476  I ordered same product from another shop earli...  \n",
       "190002  This is the best popping corn ever. It pops up...  \n",
       "427258  This is a great tasting, strong coffee that we...  \n",
       "457189  Now that I got the caps out of my system, yes,...  \n",
       "135698  This crunch granola bar is on par with every o...  \n",
       "172317  I was looking for a new kind of snack and saw ...  \n",
       "93630   Yummy! Enough Said. These little cookies are s...  \n",
       "288461  The Ginger Snap Larabars are great as are many...  \n",
       "76673   This is my husbands favorite.  We have tried a...  \n",
       "17169   This blend of rice, wheat berries, and rye ber...  "
      ]
     },
     "execution_count": 58,
     "metadata": {},
     "output_type": "execute_result"
    }
   ],
   "source": [
    "sample_df = test_data.iloc[:10]\n",
    "sample_df"
   ]
  },
  {
   "cell_type": "code",
   "execution_count": 61,
   "metadata": {},
   "outputs": [
    {
     "name": "stderr",
     "output_type": "stream",
     "text": [
      "/home/ram/anaconda3/lib/python3.6/site-packages/ipykernel_launcher.py:1: SettingWithCopyWarning: \n",
      "A value is trying to be set on a copy of a slice from a DataFrame.\n",
      "Try using .loc[row_indexer,col_indexer] = value instead\n",
      "\n",
      "See the caveats in the documentation: http://pandas.pydata.org/pandas-docs/stable/indexing.html#indexing-view-versus-copy\n",
      "  \"\"\"Entry point for launching an IPython kernel.\n"
     ]
    }
   ],
   "source": [
    "sample_df['Summary'] = sample_df['Summary'].apply(preProcessString)"
   ]
  },
  {
   "cell_type": "code",
   "execution_count": 62,
   "metadata": {},
   "outputs": [
    {
     "data": {
      "text/html": [
       "<div>\n",
       "<style>\n",
       "    .dataframe thead tr:only-child th {\n",
       "        text-align: right;\n",
       "    }\n",
       "\n",
       "    .dataframe thead th {\n",
       "        text-align: left;\n",
       "    }\n",
       "\n",
       "    .dataframe tbody tr th {\n",
       "        vertical-align: top;\n",
       "    }\n",
       "</style>\n",
       "<table border=\"1\" class=\"dataframe\">\n",
       "  <thead>\n",
       "    <tr style=\"text-align: right;\">\n",
       "      <th></th>\n",
       "      <th>Score</th>\n",
       "      <th>Summary</th>\n",
       "      <th>Text</th>\n",
       "    </tr>\n",
       "  </thead>\n",
       "  <tbody>\n",
       "    <tr>\n",
       "      <th>396476</th>\n",
       "      <td>5</td>\n",
       "      <td>fast service right product great olives</td>\n",
       "      <td>I ordered same product from another shop earli...</td>\n",
       "    </tr>\n",
       "    <tr>\n",
       "      <th>190002</th>\n",
       "      <td>5</td>\n",
       "      <td>best popcorn ever</td>\n",
       "      <td>This is the best popping corn ever. It pops up...</td>\n",
       "    </tr>\n",
       "    <tr>\n",
       "      <th>427258</th>\n",
       "      <td>4</td>\n",
       "      <td>timothy s great coffee</td>\n",
       "      <td>This is a great tasting, strong coffee that we...</td>\n",
       "    </tr>\n",
       "    <tr>\n",
       "      <th>457189</th>\n",
       "      <td>4</td>\n",
       "      <td>i love these crackers</td>\n",
       "      <td>Now that I got the caps out of my system, yes,...</td>\n",
       "    </tr>\n",
       "    <tr>\n",
       "      <th>135698</th>\n",
       "      <td>5</td>\n",
       "      <td>clif never lets me down</td>\n",
       "      <td>This crunch granola bar is on par with every o...</td>\n",
       "    </tr>\n",
       "    <tr>\n",
       "      <th>172317</th>\n",
       "      <td>4</td>\n",
       "      <td>good but not low in calories</td>\n",
       "      <td>I was looking for a new kind of snack and saw ...</td>\n",
       "    </tr>\n",
       "    <tr>\n",
       "      <th>93630</th>\n",
       "      <td>5</td>\n",
       "      <td>yummy</td>\n",
       "      <td>Yummy! Enough Said. These little cookies are s...</td>\n",
       "    </tr>\n",
       "    <tr>\n",
       "      <th>288461</th>\n",
       "      <td>5</td>\n",
       "      <td>yum ginger snap tastes like gingerbread</td>\n",
       "      <td>The Ginger Snap Larabars are great as are many...</td>\n",
       "    </tr>\n",
       "    <tr>\n",
       "      <th>76673</th>\n",
       "      <td>5</td>\n",
       "      <td>bold taste</td>\n",
       "      <td>This is my husbands favorite.  We have tried a...</td>\n",
       "    </tr>\n",
       "    <tr>\n",
       "      <th>17169</th>\n",
       "      <td>5</td>\n",
       "      <td>riceselect royal blend whole grain texmati bro...</td>\n",
       "      <td>This blend of rice, wheat berries, and rye ber...</td>\n",
       "    </tr>\n",
       "  </tbody>\n",
       "</table>\n",
       "</div>"
      ],
      "text/plain": [
       "        Score                                            Summary  \\\n",
       "396476      5           fast service right product great olives    \n",
       "190002      5                                 best popcorn ever    \n",
       "427258      4                             timothy s great coffee   \n",
       "457189      4                             i love these crackers    \n",
       "135698      5                            clif never lets me down   \n",
       "172317      4                      good but not low in calories    \n",
       "93630       5                                             yummy    \n",
       "288461      5           yum ginger snap tastes like gingerbread    \n",
       "76673       5                                         bold taste   \n",
       "17169       5  riceselect royal blend whole grain texmati bro...   \n",
       "\n",
       "                                                     Text  \n",
       "396476  I ordered same product from another shop earli...  \n",
       "190002  This is the best popping corn ever. It pops up...  \n",
       "427258  This is a great tasting, strong coffee that we...  \n",
       "457189  Now that I got the caps out of my system, yes,...  \n",
       "135698  This crunch granola bar is on par with every o...  \n",
       "172317  I was looking for a new kind of snack and saw ...  \n",
       "93630   Yummy! Enough Said. These little cookies are s...  \n",
       "288461  The Ginger Snap Larabars are great as are many...  \n",
       "76673   This is my husbands favorite.  We have tried a...  \n",
       "17169   This blend of rice, wheat berries, and rye ber...  "
      ]
     },
     "execution_count": 62,
     "metadata": {},
     "output_type": "execute_result"
    }
   ],
   "source": [
    "sample_df"
   ]
  },
  {
   "cell_type": "code",
   "execution_count": null,
   "metadata": {
    "collapsed": true
   },
   "outputs": [],
   "source": []
  },
  {
   "cell_type": "markdown",
   "metadata": {},
   "source": [
    " "
   ]
  },
  {
   "cell_type": "markdown",
   "metadata": {},
   "source": [
    " "
   ]
  },
  {
   "cell_type": "markdown",
   "metadata": {},
   "source": [
    " "
   ]
  },
  {
   "cell_type": "markdown",
   "metadata": {},
   "source": [
    " "
   ]
  },
  {
   "cell_type": "markdown",
   "metadata": {},
   "source": [
    " "
   ]
  },
  {
   "cell_type": "markdown",
   "metadata": {},
   "source": [
    " "
   ]
  },
  {
   "cell_type": "markdown",
   "metadata": {},
   "source": [
    " "
   ]
  },
  {
   "cell_type": "markdown",
   "metadata": {},
   "source": [
    " "
   ]
  },
  {
   "cell_type": "markdown",
   "metadata": {},
   "source": [
    " "
   ]
  },
  {
   "cell_type": "markdown",
   "metadata": {},
   "source": [
    " "
   ]
  },
  {
   "cell_type": "markdown",
   "metadata": {},
   "source": [
    " "
   ]
  },
  {
   "cell_type": "markdown",
   "metadata": {},
   "source": [
    " "
   ]
  },
  {
   "cell_type": "markdown",
   "metadata": {},
   "source": [
    " "
   ]
  },
  {
   "cell_type": "markdown",
   "metadata": {},
   "source": [
    " "
   ]
  },
  {
   "cell_type": "markdown",
   "metadata": {},
   "source": [
    " "
   ]
  },
  {
   "cell_type": "markdown",
   "metadata": {},
   "source": [
    " "
   ]
  },
  {
   "cell_type": "markdown",
   "metadata": {},
   "source": [
    " "
   ]
  },
  {
   "cell_type": "markdown",
   "metadata": {},
   "source": [
    " "
   ]
  },
  {
   "cell_type": "markdown",
   "metadata": {},
   "source": [
    " "
   ]
  },
  {
   "cell_type": "markdown",
   "metadata": {},
   "source": [
    " "
   ]
  },
  {
   "cell_type": "markdown",
   "metadata": {},
   "source": [
    " "
   ]
  },
  {
   "cell_type": "markdown",
   "metadata": {},
   "source": [
    " "
   ]
  },
  {
   "cell_type": "markdown",
   "metadata": {},
   "source": [
    " "
   ]
  },
  {
   "cell_type": "markdown",
   "metadata": {},
   "source": [
    " "
   ]
  },
  {
   "cell_type": "markdown",
   "metadata": {},
   "source": [
    " "
   ]
  },
  {
   "cell_type": "markdown",
   "metadata": {},
   "source": [
    " "
   ]
  },
  {
   "cell_type": "markdown",
   "metadata": {},
   "source": [
    " "
   ]
  },
  {
   "cell_type": "markdown",
   "metadata": {},
   "source": [
    " "
   ]
  },
  {
   "cell_type": "markdown",
   "metadata": {},
   "source": [
    " "
   ]
  },
  {
   "cell_type": "markdown",
   "metadata": {},
   "source": [
    " "
   ]
  },
  {
   "cell_type": "markdown",
   "metadata": {},
   "source": [
    " "
   ]
  },
  {
   "cell_type": "markdown",
   "metadata": {},
   "source": [
    " "
   ]
  },
  {
   "cell_type": "markdown",
   "metadata": {},
   "source": [
    " "
   ]
  },
  {
   "cell_type": "markdown",
   "metadata": {},
   "source": [
    " "
   ]
  },
  {
   "cell_type": "markdown",
   "metadata": {},
   "source": [
    " "
   ]
  },
  {
   "cell_type": "markdown",
   "metadata": {},
   "source": [
    " "
   ]
  },
  {
   "cell_type": "markdown",
   "metadata": {},
   "source": [
    " "
   ]
  },
  {
   "cell_type": "markdown",
   "metadata": {},
   "source": [
    " "
   ]
  },
  {
   "cell_type": "markdown",
   "metadata": {},
   "source": [
    " "
   ]
  },
  {
   "cell_type": "markdown",
   "metadata": {},
   "source": [
    " "
   ]
  }
 ],
 "metadata": {
  "kernelspec": {
   "display_name": "Python 3",
   "language": "python",
   "name": "python3"
  },
  "language_info": {
   "codemirror_mode": {
    "name": "ipython",
    "version": 3
   },
   "file_extension": ".py",
   "mimetype": "text/x-python",
   "name": "python",
   "nbconvert_exporter": "python",
   "pygments_lexer": "ipython3",
   "version": "3.6.1"
  }
 },
 "nbformat": 4,
 "nbformat_minor": 2
}

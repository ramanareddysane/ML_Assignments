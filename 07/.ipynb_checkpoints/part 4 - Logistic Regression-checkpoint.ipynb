{
 "cells": [
  {
   "cell_type": "code",
   "execution_count": 1,
   "metadata": {},
   "outputs": [
    {
     "data": {
      "text/html": [
       "<div>\n",
       "<style>\n",
       "    .dataframe thead tr:only-child th {\n",
       "        text-align: right;\n",
       "    }\n",
       "\n",
       "    .dataframe thead th {\n",
       "        text-align: left;\n",
       "    }\n",
       "\n",
       "    .dataframe tbody tr th {\n",
       "        vertical-align: top;\n",
       "    }\n",
       "</style>\n",
       "<table border=\"1\" class=\"dataframe\">\n",
       "  <thead>\n",
       "    <tr style=\"text-align: right;\">\n",
       "      <th></th>\n",
       "      <th>Score</th>\n",
       "      <th>Summary</th>\n",
       "      <th>Text</th>\n",
       "    </tr>\n",
       "  </thead>\n",
       "  <tbody>\n",
       "    <tr>\n",
       "      <th>0</th>\n",
       "      <td>5</td>\n",
       "      <td>perfect dark chocol experi</td>\n",
       "      <td>well dark chocol creami lavend absolut perfect...</td>\n",
       "    </tr>\n",
       "    <tr>\n",
       "      <th>1</th>\n",
       "      <td>5</td>\n",
       "      <td>fresh qualiti</td>\n",
       "      <td>swear cupcak ate fresh one local groceri store...</td>\n",
       "    </tr>\n",
       "    <tr>\n",
       "      <th>2</th>\n",
       "      <td>5</td>\n",
       "      <td>wrong</td>\n",
       "      <td>origin given 1 star sinc cake best shape got s...</td>\n",
       "    </tr>\n",
       "    <tr>\n",
       "      <th>3</th>\n",
       "      <td>5</td>\n",
       "      <td>cat like juic food</td>\n",
       "      <td>cat love sauc wet food feed product sauci winn...</td>\n",
       "    </tr>\n",
       "  </tbody>\n",
       "</table>\n",
       "</div>"
      ],
      "text/plain": [
       "   Score                     Summary  \\\n",
       "0      5  perfect dark chocol experi   \n",
       "1      5               fresh qualiti   \n",
       "2      5                       wrong   \n",
       "3      5          cat like juic food   \n",
       "\n",
       "                                                Text  \n",
       "0  well dark chocol creami lavend absolut perfect...  \n",
       "1  swear cupcak ate fresh one local groceri store...  \n",
       "2  origin given 1 star sinc cake best shape got s...  \n",
       "3  cat love sauc wet food feed product sauci winn...  "
      ]
     },
     "execution_count": 1,
     "metadata": {},
     "output_type": "execute_result"
    }
   ],
   "source": [
    "import pandas as pd\n",
    "import numpy as np\n",
    "\n",
    "reviews_sst = pd.read_csv('preprocessed_reviews_SST.csv')\n",
    "reviews_sst[:4]"
   ]
  },
  {
   "cell_type": "code",
   "execution_count": 2,
   "metadata": {},
   "outputs": [
    {
     "data": {
      "text/html": [
       "<div>\n",
       "<style>\n",
       "    .dataframe thead tr:only-child th {\n",
       "        text-align: right;\n",
       "    }\n",
       "\n",
       "    .dataframe thead th {\n",
       "        text-align: left;\n",
       "    }\n",
       "\n",
       "    .dataframe tbody tr th {\n",
       "        vertical-align: top;\n",
       "    }\n",
       "</style>\n",
       "<table border=\"1\" class=\"dataframe\">\n",
       "  <thead>\n",
       "    <tr style=\"text-align: right;\">\n",
       "      <th></th>\n",
       "      <th>smry_txt</th>\n",
       "      <th>score</th>\n",
       "    </tr>\n",
       "  </thead>\n",
       "  <tbody>\n",
       "    <tr>\n",
       "      <th>0</th>\n",
       "      <td>perfect dark chocol experi well dark chocol cr...</td>\n",
       "      <td>5</td>\n",
       "    </tr>\n",
       "    <tr>\n",
       "      <th>1</th>\n",
       "      <td>fresh qualiti swear cupcak ate fresh one local...</td>\n",
       "      <td>5</td>\n",
       "    </tr>\n",
       "    <tr>\n",
       "      <th>2</th>\n",
       "      <td>wrong origin given 1 star sinc cake best shape...</td>\n",
       "      <td>5</td>\n",
       "    </tr>\n",
       "    <tr>\n",
       "      <th>3</th>\n",
       "      <td>cat like juic food cat love sauc wet food feed...</td>\n",
       "      <td>5</td>\n",
       "    </tr>\n",
       "    <tr>\n",
       "      <th>4</th>\n",
       "      <td>list mislead cocoa butter found reason thought...</td>\n",
       "      <td>1</td>\n",
       "    </tr>\n",
       "  </tbody>\n",
       "</table>\n",
       "</div>"
      ],
      "text/plain": [
       "                                            smry_txt  score\n",
       "0  perfect dark chocol experi well dark chocol cr...      5\n",
       "1  fresh qualiti swear cupcak ate fresh one local...      5\n",
       "2  wrong origin given 1 star sinc cake best shape...      5\n",
       "3  cat like juic food cat love sauc wet food feed...      5\n",
       "4  list mislead cocoa butter found reason thought...      1"
      ]
     },
     "execution_count": 2,
     "metadata": {},
     "output_type": "execute_result"
    }
   ],
   "source": [
    "dataset = pd.DataFrame()\n",
    "dataset['smry_txt'] = reviews_sst['Summary'].astype(str) + ' ' + reviews_sst['Text']\n",
    "dataset['score'] = reviews_sst['Score']\n",
    "dataset.head()"
   ]
  },
  {
   "cell_type": "code",
   "execution_count": 3,
   "metadata": {},
   "outputs": [
    {
     "data": {
      "text/plain": [
       "(525814, 2)"
      ]
     },
     "execution_count": 3,
     "metadata": {},
     "output_type": "execute_result"
    }
   ],
   "source": [
    "#lets filter the dataset so that it contains reviews that are either positive(4 or 5) or negative(1 or 2)\n",
    "dataset = dataset[dataset.score != 3]\n",
    "dataset.shape"
   ]
  },
  {
   "cell_type": "code",
   "execution_count": 13,
   "metadata": {},
   "outputs": [
    {
     "data": {
      "text/plain": [
       "0         None\n",
       "1         None\n",
       "2         None\n",
       "3         None\n",
       "4         None\n",
       "6         None\n",
       "8         None\n",
       "9         None\n",
       "10        None\n",
       "11        None\n",
       "12        None\n",
       "13        None\n",
       "14        None\n",
       "15        None\n",
       "16        None\n",
       "17        None\n",
       "18        None\n",
       "19        None\n",
       "20        None\n",
       "21        None\n",
       "23        None\n",
       "24        None\n",
       "25        None\n",
       "26        None\n",
       "27        None\n",
       "28        None\n",
       "29        None\n",
       "30        None\n",
       "31        None\n",
       "32        None\n",
       "          ... \n",
       "568422    None\n",
       "568423    None\n",
       "568424    None\n",
       "568425    None\n",
       "568426    None\n",
       "568427    None\n",
       "568428    None\n",
       "568429    None\n",
       "568430    None\n",
       "568431    None\n",
       "568432    None\n",
       "568433    None\n",
       "568434    None\n",
       "568435    None\n",
       "568436    None\n",
       "568437    None\n",
       "568438    None\n",
       "568439    None\n",
       "568440    None\n",
       "568441    None\n",
       "568442    None\n",
       "568445    None\n",
       "568446    None\n",
       "568447    None\n",
       "568448    None\n",
       "568449    None\n",
       "568450    None\n",
       "568451    None\n",
       "568452    None\n",
       "568453    None\n",
       "Name: score, Length: 525814, dtype: object"
      ]
     },
     "execution_count": 13,
     "metadata": {},
     "output_type": "execute_result"
    }
   ],
   "source": [
    "dataset['score']"
   ]
  },
  {
   "cell_type": "code",
   "execution_count": 5,
   "metadata": {},
   "outputs": [
    {
     "data": {
      "text/html": [
       "<div>\n",
       "<style>\n",
       "    .dataframe thead tr:only-child th {\n",
       "        text-align: right;\n",
       "    }\n",
       "\n",
       "    .dataframe thead th {\n",
       "        text-align: left;\n",
       "    }\n",
       "\n",
       "    .dataframe tbody tr th {\n",
       "        vertical-align: top;\n",
       "    }\n",
       "</style>\n",
       "<table border=\"1\" class=\"dataframe\">\n",
       "  <thead>\n",
       "    <tr style=\"text-align: right;\">\n",
       "      <th></th>\n",
       "      <th>smry_txt</th>\n",
       "      <th>score</th>\n",
       "    </tr>\n",
       "  </thead>\n",
       "  <tbody>\n",
       "    <tr>\n",
       "      <th>0</th>\n",
       "      <td>perfect dark chocol experi well dark chocol cr...</td>\n",
       "      <td>None</td>\n",
       "    </tr>\n",
       "    <tr>\n",
       "      <th>1</th>\n",
       "      <td>fresh qualiti swear cupcak ate fresh one local...</td>\n",
       "      <td>None</td>\n",
       "    </tr>\n",
       "    <tr>\n",
       "      <th>2</th>\n",
       "      <td>wrong origin given 1 star sinc cake best shape...</td>\n",
       "      <td>None</td>\n",
       "    </tr>\n",
       "    <tr>\n",
       "      <th>3</th>\n",
       "      <td>cat like juic food cat love sauc wet food feed...</td>\n",
       "      <td>None</td>\n",
       "    </tr>\n",
       "    <tr>\n",
       "      <th>4</th>\n",
       "      <td>list mislead cocoa butter found reason thought...</td>\n",
       "      <td>None</td>\n",
       "    </tr>\n",
       "  </tbody>\n",
       "</table>\n",
       "</div>"
      ],
      "text/plain": [
       "                                            smry_txt score\n",
       "0  perfect dark chocol experi well dark chocol cr...  None\n",
       "1  fresh qualiti swear cupcak ate fresh one local...  None\n",
       "2  wrong origin given 1 star sinc cake best shape...  None\n",
       "3  cat like juic food cat love sauc wet food feed...  None\n",
       "4  list mislead cocoa butter found reason thought...  None"
      ]
     },
     "execution_count": 5,
     "metadata": {},
     "output_type": "execute_result"
    }
   ],
   "source": [
    "dataset['score'] = dataset['score'].apply({1:'negative', 2:'negative', 4:'positive', 5:'positive'}.get)\n",
    "dataset.head()"
   ]
  },
  {
   "cell_type": "markdown",
   "metadata": {},
   "source": [
    "## split the training(70%) and testing(30%) data"
   ]
  },
  {
   "cell_type": "code",
   "execution_count": 6,
   "metadata": {
    "collapsed": true
   },
   "outputs": [],
   "source": [
    "from sklearn.cross_validation import train_test_split\n",
    "x_train, x_test, y_train, y_test = train_test_split(dataset['smry_txt'], dataset['score'])"
   ]
  },
  {
   "cell_type": "code",
   "execution_count": 12,
   "metadata": {},
   "outputs": [
    {
     "data": {
      "text/plain": [
       "152200    None\n",
       "167535    None\n",
       "260917    None\n",
       "319779    None\n",
       "150190    None\n",
       "391476    None\n",
       "466796    None\n",
       "105686    None\n",
       "179745    None\n",
       "419555    None\n",
       "208475    None\n",
       "3451      None\n",
       "127755    None\n",
       "446395    None\n",
       "24661     None\n",
       "366870    None\n",
       "43584     None\n",
       "439625    None\n",
       "453737    None\n",
       "348819    None\n",
       "304453    None\n",
       "190876    None\n",
       "45506     None\n",
       "260309    None\n",
       "359850    None\n",
       "393541    None\n",
       "95722     None\n",
       "313300    None\n",
       "454180    None\n",
       "185830    None\n",
       "          ... \n",
       "365981    None\n",
       "400074    None\n",
       "243614    None\n",
       "167603    None\n",
       "69423     None\n",
       "503107    None\n",
       "268596    None\n",
       "267470    None\n",
       "175356    None\n",
       "198261    None\n",
       "512808    None\n",
       "314890    None\n",
       "95477     None\n",
       "472581    None\n",
       "485924    None\n",
       "143743    None\n",
       "275463    None\n",
       "194188    None\n",
       "428185    None\n",
       "299940    None\n",
       "56477     None\n",
       "509105    None\n",
       "301762    None\n",
       "238681    None\n",
       "293849    None\n",
       "266580    None\n",
       "169793    None\n",
       "144344    None\n",
       "153802    None\n",
       "227957    None\n",
       "Name: score, Length: 394360, dtype: object"
      ]
     },
     "execution_count": 12,
     "metadata": {},
     "output_type": "execute_result"
    }
   ],
   "source": [
    "y_train"
   ]
  },
  {
   "cell_type": "code",
   "execution_count": null,
   "metadata": {
    "collapsed": true
   },
   "outputs": [],
   "source": []
  },
  {
   "cell_type": "code",
   "execution_count": null,
   "metadata": {
    "collapsed": true
   },
   "outputs": [],
   "source": []
  },
  {
   "cell_type": "code",
   "execution_count": 13,
   "metadata": {
    "collapsed": true
   },
   "outputs": [],
   "source": [
    "import random\n",
    "def getTrainAndTestIndices(size, trn_pcnt = 0.70, tst_pcnt = 0.30):\n",
    "    print(\"\\n we have {} datapoints\".format(size), end = \". \")\n",
    "    train_size = int(size*trn_pcnt)\n",
    "    test_size = size - train_size\n",
    "    print(\"Out of which, we will get {} points in our training data and {} points in our testing data. \\n\".format(train_size, test_size))\n",
    "    ind = list(range(size))\n",
    "    random.shuffle(ind)\n",
    "    return ind[:train_size], ind[train_size:]"
   ]
  },
  {
   "cell_type": "code",
   "execution_count": 14,
   "metadata": {},
   "outputs": [
    {
     "name": "stdout",
     "output_type": "stream",
     "text": [
      "\n",
      " we have 525814 datapoints. Out of which, we will get 368069 points in our training data and 157745 points in our testing data. \n",
      "\n"
     ]
    }
   ],
   "source": [
    " trn_ind, tst_ind = getTrainAndTestIndices(dataset.shape[0])"
   ]
  },
  {
   "cell_type": "code",
   "execution_count": 16,
   "metadata": {},
   "outputs": [
    {
     "data": {
      "text/plain": [
       "((368069, 2), (157745, 2))"
      ]
     },
     "execution_count": 16,
     "metadata": {},
     "output_type": "execute_result"
    }
   ],
   "source": [
    "train_data = dataset.iloc[trn_ind]\n",
    "test_data = dataset.iloc[tst_ind]\n",
    "train_data.shape, test_data.shape "
   ]
  },
  {
   "cell_type": "code",
   "execution_count": 17,
   "metadata": {},
   "outputs": [
    {
     "data": {
      "text/html": [
       "<div>\n",
       "<style>\n",
       "    .dataframe thead tr:only-child th {\n",
       "        text-align: right;\n",
       "    }\n",
       "\n",
       "    .dataframe thead th {\n",
       "        text-align: left;\n",
       "    }\n",
       "\n",
       "    .dataframe tbody tr th {\n",
       "        vertical-align: top;\n",
       "    }\n",
       "</style>\n",
       "<table border=\"1\" class=\"dataframe\">\n",
       "  <thead>\n",
       "    <tr style=\"text-align: right;\">\n",
       "      <th></th>\n",
       "      <th>smry_txt</th>\n",
       "      <th>score</th>\n",
       "    </tr>\n",
       "  </thead>\n",
       "  <tbody>\n",
       "    <tr>\n",
       "      <th>198726</th>\n",
       "      <td>good sweetner sweetner courser xylitol bought ...</td>\n",
       "      <td>positive</td>\n",
       "    </tr>\n",
       "    <tr>\n",
       "      <th>24958</th>\n",
       "      <td>nourish delici introduc ghee yoga studi southe...</td>\n",
       "      <td>positive</td>\n",
       "    </tr>\n",
       "  </tbody>\n",
       "</table>\n",
       "</div>"
      ],
      "text/plain": [
       "                                                 smry_txt     score\n",
       "198726  good sweetner sweetner courser xylitol bought ...  positive\n",
       "24958   nourish delici introduc ghee yoga studi southe...  positive"
      ]
     },
     "execution_count": 17,
     "metadata": {},
     "output_type": "execute_result"
    }
   ],
   "source": [
    "train_data.head(2)"
   ]
  },
  {
   "cell_type": "markdown",
   "metadata": {},
   "source": [
    "## Logistic Regression on the training data"
   ]
  },
  {
   "cell_type": "code",
   "execution_count": null,
   "metadata": {
    "collapsed": true
   },
   "outputs": [],
   "source": []
  }
 ],
 "metadata": {
  "kernelspec": {
   "display_name": "Python 3",
   "language": "python",
   "name": "python3"
  },
  "language_info": {
   "codemirror_mode": {
    "name": "ipython",
    "version": 3
   },
   "file_extension": ".py",
   "mimetype": "text/x-python",
   "name": "python",
   "nbconvert_exporter": "python",
   "pygments_lexer": "ipython3",
   "version": "3.6.1"
  }
 },
 "nbformat": 4,
 "nbformat_minor": 2
}

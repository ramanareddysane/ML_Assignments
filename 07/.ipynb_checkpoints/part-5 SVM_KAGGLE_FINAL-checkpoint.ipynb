{
 "cells": [
  {
   "cell_type": "code",
   "execution_count": 1,
   "metadata": {
    "_cell_guid": "37b1c9e4-11c3-4627-aefe-c7c87ff9bc0a",
    "_uuid": "e73adaea8524e62b82fe6a64658626f13ec368e6"
   },
   "outputs": [
    {
     "data": {
      "text/html": [
       "<div>\n",
       "<style>\n",
       "    .dataframe thead tr:only-child th {\n",
       "        text-align: right;\n",
       "    }\n",
       "\n",
       "    .dataframe thead th {\n",
       "        text-align: left;\n",
       "    }\n",
       "\n",
       "    .dataframe tbody tr th {\n",
       "        vertical-align: top;\n",
       "    }\n",
       "</style>\n",
       "<table border=\"1\" class=\"dataframe\">\n",
       "  <thead>\n",
       "    <tr style=\"text-align: right;\">\n",
       "      <th></th>\n",
       "      <th>Id</th>\n",
       "      <th>ProductId</th>\n",
       "      <th>UserId</th>\n",
       "      <th>ProfileName</th>\n",
       "      <th>HelpfulnessNumerator</th>\n",
       "      <th>HelpfulnessDenominator</th>\n",
       "      <th>Score</th>\n",
       "      <th>Time</th>\n",
       "      <th>Summary</th>\n",
       "      <th>Text</th>\n",
       "    </tr>\n",
       "  </thead>\n",
       "  <tbody>\n",
       "    <tr>\n",
       "      <th>0</th>\n",
       "      <td>1</td>\n",
       "      <td>B001E4KFG0</td>\n",
       "      <td>A3SGXH7AUHU8GW</td>\n",
       "      <td>delmartian</td>\n",
       "      <td>1</td>\n",
       "      <td>1</td>\n",
       "      <td>5</td>\n",
       "      <td>1303862400</td>\n",
       "      <td>Good Quality Dog Food</td>\n",
       "      <td>I have bought several of the Vitality canned d...</td>\n",
       "    </tr>\n",
       "  </tbody>\n",
       "</table>\n",
       "</div>"
      ],
      "text/plain": [
       "   Id   ProductId          UserId ProfileName  HelpfulnessNumerator  \\\n",
       "0   1  B001E4KFG0  A3SGXH7AUHU8GW  delmartian                     1   \n",
       "\n",
       "   HelpfulnessDenominator  Score        Time                Summary  \\\n",
       "0                       1      5  1303862400  Good Quality Dog Food   \n",
       "\n",
       "                                                Text  \n",
       "0  I have bought several of the Vitality canned d...  "
      ]
     },
     "execution_count": 1,
     "metadata": {},
     "output_type": "execute_result"
    }
   ],
   "source": [
    "import numpy as np # linear algebra\n",
    "import pandas as pd # data processing, CSV file I/O (e.g. pd.read_csv)\n",
    "\n",
    "reviews = pd.read_csv('../input/Reviews.csv')\n",
    "reviews.head(1)"
   ]
  },
  {
   "cell_type": "code",
   "execution_count": 2,
   "metadata": {
    "_cell_guid": "e89b9907-8c91-47dc-8b81-b1cb79b1408a",
    "_uuid": "cb4f87033066f8fa103991470f004c0dd88a9d49"
   },
   "outputs": [
    {
     "data": {
      "text/html": [
       "<div>\n",
       "<style>\n",
       "    .dataframe thead tr:only-child th {\n",
       "        text-align: right;\n",
       "    }\n",
       "\n",
       "    .dataframe thead th {\n",
       "        text-align: left;\n",
       "    }\n",
       "\n",
       "    .dataframe tbody tr th {\n",
       "        vertical-align: top;\n",
       "    }\n",
       "</style>\n",
       "<table border=\"1\" class=\"dataframe\">\n",
       "  <thead>\n",
       "    <tr style=\"text-align: right;\">\n",
       "      <th></th>\n",
       "      <th>smry_txt</th>\n",
       "      <th>Score</th>\n",
       "    </tr>\n",
       "  </thead>\n",
       "  <tbody>\n",
       "    <tr>\n",
       "      <th>0</th>\n",
       "      <td>Good Quality Dog Food I have bought several of...</td>\n",
       "      <td>positive</td>\n",
       "    </tr>\n",
       "    <tr>\n",
       "      <th>1</th>\n",
       "      <td>Not as Advertised Product arrived labeled as J...</td>\n",
       "      <td>negative</td>\n",
       "    </tr>\n",
       "    <tr>\n",
       "      <th>2</th>\n",
       "      <td>\"Delight\" says it all This is a confection tha...</td>\n",
       "      <td>positive</td>\n",
       "    </tr>\n",
       "    <tr>\n",
       "      <th>3</th>\n",
       "      <td>Cough Medicine If you are looking for the secr...</td>\n",
       "      <td>negative</td>\n",
       "    </tr>\n",
       "    <tr>\n",
       "      <th>4</th>\n",
       "      <td>Great taffy Great taffy at a great price.  The...</td>\n",
       "      <td>positive</td>\n",
       "    </tr>\n",
       "  </tbody>\n",
       "</table>\n",
       "</div>"
      ],
      "text/plain": [
       "                                            smry_txt     Score\n",
       "0  Good Quality Dog Food I have bought several of...  positive\n",
       "1  Not as Advertised Product arrived labeled as J...  negative\n",
       "2  \"Delight\" says it all This is a confection tha...  positive\n",
       "3  Cough Medicine If you are looking for the secr...  negative\n",
       "4  Great taffy Great taffy at a great price.  The...  positive"
      ]
     },
     "execution_count": 2,
     "metadata": {},
     "output_type": "execute_result"
    }
   ],
   "source": [
    "reviews['smry_txt'] = reviews['Summary'].astype(str) + ' ' + reviews['Text']\n",
    "dataset = reviews.loc[reviews['Score'] != 3][['smry_txt','Score']]\n",
    "\n",
    "dataset.loc[dataset['Score']==1, 'Score'] = 'negative'\n",
    "dataset.loc[dataset['Score']==2, 'Score'] = 'negative'\n",
    "dataset.loc[dataset['Score']==4, 'Score'] = 'positive'\n",
    "dataset.loc[dataset['Score']==5, 'Score'] = 'positive'\n",
    "dataset.head()"
   ]
  },
  {
   "cell_type": "code",
   "execution_count": 3,
   "metadata": {
    "_cell_guid": "141cf596-0e08-4887-8cb7-770172cb32f5",
    "_uuid": "65c5f041969d856a8246cc28124993032703977c"
   },
   "outputs": [
    {
     "name": "stdout",
     "output_type": "stream",
     "text": [
      "Good Quality Dog Food I have bought several of the Vitality canned dog food products and have found them all to be of good quality. The product looks more like a stew than a processed meat and it smells better. My Labrador is finicky and she appreciates this product better than  most.\n",
      "\n",
      "[array(['most', 'this', 'appreciates', 'she', 'finicky', 'is', 'labrador',\n",
      "       'my', 'better', 'smells', 'it', 'meat', 'processed', 'than', 'stew',\n",
      "       'like', 'more', 'looks', 'product', 'be', 'to', 'all', 'them',\n",
      "       'found', 'and', 'products', 'canned', 'vitality', 'the', 'of',\n",
      "       'several', 'bought', 'have', 'food', 'dog', 'quality', 'good'],\n",
      "      dtype='<U124')]\n",
      "\n",
      "  (0, 74176)\t1\n",
      "  (0, 108779)\t1\n",
      "  (0, 9541)\t1\n",
      "  (0, 97878)\t1\n",
      "  (0, 47541)\t1\n",
      "  (0, 61725)\t1\n",
      "  (0, 65358)\t1\n",
      "  (0, 75122)\t1\n",
      "  (0, 20970)\t2\n",
      "  (0, 100122)\t1\n",
      "  (0, 61875)\t1\n",
      "  (0, 71077)\t1\n",
      "  (0, 87084)\t1\n",
      "  (0, 108307)\t2\n",
      "  (0, 103477)\t1\n",
      "  (0, 66977)\t1\n",
      "  (0, 73996)\t1\n",
      "  (0, 67944)\t1\n",
      "  (0, 87176)\t2\n",
      "  (0, 19907)\t1\n",
      "  (0, 109606)\t1\n",
      "  (0, 7492)\t1\n",
      "  (0, 108457)\t1\n",
      "  (0, 49181)\t1\n",
      "  (0, 8547)\t3\n",
      "  (0, 87199)\t1\n",
      "  (0, 25908)\t1\n",
      "  (0, 115789)\t1\n",
      "  (0, 108377)\t2\n",
      "  (0, 78426)\t2\n",
      "  (0, 97531)\t1\n",
      "  (0, 23056)\t1\n",
      "  (0, 55714)\t2\n",
      "  (0, 48731)\t2\n",
      "  (0, 40110)\t2\n",
      "  (0, 88814)\t2\n",
      "  (0, 52757)\t2\n"
     ]
    }
   ],
   "source": [
    "from sklearn.feature_extraction.text import CountVectorizer\n",
    "count_vec_total = CountVectorizer()\n",
    "\n",
    "x_data = count_vec_total.fit_transform(dataset.smry_txt)\n",
    "y_data = dataset['Score']\n",
    "\n",
    "y_data.head()\n",
    "\n",
    "print(dataset.iloc[0]['smry_txt'], end='\\n\\n')\n",
    "print(count_vec_total.inverse_transform(x_data[0]), end='\\n\\n')\n",
    "print(x_data[0])"
   ]
  },
  {
   "cell_type": "markdown",
   "metadata": {
    "_cell_guid": "c7ff3106-be9f-4317-b78d-0008b81ad97f",
    "_uuid": "a004ec1b12f3ec1ba20cc7b2375c5912fd9e775b"
   },
   "source": [
    "# split the data into training and testing"
   ]
  },
  {
   "cell_type": "code",
   "execution_count": 4,
   "metadata": {
    "_cell_guid": "5efa6ce0-eaff-42bc-969d-0404998aae07",
    "_uuid": "87ae0104f4af43b438bdea1a309a772cf72601e9"
   },
   "outputs": [
    {
     "data": {
      "text/plain": [
       "(394360,)"
      ]
     },
     "execution_count": 4,
     "metadata": {},
     "output_type": "execute_result"
    }
   ],
   "source": [
    "from sklearn.model_selection import train_test_split\n",
    "x_train, x_test, y_train, y_test = train_test_split(x_data, y_data)\n",
    "\n",
    "y_train.shape"
   ]
  },
  {
   "cell_type": "markdown",
   "metadata": {
    "_cell_guid": "a6c9cc89-fd16-4894-a9e5-9762479e82e9",
    "_uuid": "a06bd717e72f8df6eb51c08e2d18ec171f9bd31b"
   },
   "source": [
    "# Linear svm with Gridsearch"
   ]
  },
  {
   "cell_type": "code",
   "execution_count": 5,
   "metadata": {
    "_cell_guid": "0ebed9f8-253b-45ff-9779-0f1e439e772e",
    "_uuid": "883ae3f514e9b70f412635023177f4a4f601262b",
    "collapsed": true
   },
   "outputs": [],
   "source": [
    "from sklearn.model_selection import GridSearchCV\n",
    "from sklearn.svm import LinearSVC"
   ]
  },
  {
   "cell_type": "code",
   "execution_count": 7,
   "metadata": {
    "_uuid": "811e9039822795762637c2791d32b0996d9e4fa7"
   },
   "outputs": [
    {
     "data": {
      "text/plain": [
       "GridSearchCV(cv=None, error_score='raise',\n",
       "       estimator=LinearSVC(C=1.0, class_weight=None, dual=True, fit_intercept=True,\n",
       "     intercept_scaling=1, loss='squared_hinge', max_iter=100000,\n",
       "     multi_class='ovr', penalty='l2', random_state=None, tol=0.0001,\n",
       "     verbose=20),\n",
       "       fit_params=None, iid=True, n_jobs=-1,\n",
       "       param_grid={'C': [0.03125, 0.125, 0.5, 2, 8]},\n",
       "       pre_dispatch='2*n_jobs', refit=True, return_train_score=True,\n",
       "       scoring=None, verbose=20)"
      ]
     },
     "execution_count": 7,
     "metadata": {},
     "output_type": "execute_result"
    }
   ],
   "source": [
    "param_grid = {'C':[0.03125, 0.125, 0.5, 2, 8]}\n",
    "lr_svm = LinearSVC(verbose=20, max_iter = 100000)\n",
    "lr_svm_grid_cv = GridSearchCV(lr_svm, param_grid=param_grid, n_jobs=-1, verbose=20)\n",
    "lr_svm_grid_cv"
   ]
  },
  {
   "cell_type": "code",
   "execution_count": 8,
   "metadata": {
    "_uuid": "0bc5cd26a6709ba9e85fc46ae4f40a189bb1915c"
   },
   "outputs": [
    {
     "name": "stdout",
     "output_type": "stream",
     "text": [
      "Fitting 3 folds for each of 5 candidates, totalling 15 fits\n",
      "[CV] C=0.03125 .......................................................\n",
      "[CV] C=0.03125 .......................................................\n",
      "[CV] C=0.03125 .......................................................\n",
      "[CV] C=0.125 .........................................................\n",
      "[CV] C=0.125 .........................................................\n",
      "[CV] C=0.125 .........................................................\n",
      "[CV] C=0.5 ...........................................................\n",
      "[CV] C=0.5 ...........................................................\n",
      "[CV] C=0.5 ...........................................................\n",
      "[CV] C=2 .............................................................\n",
      "[CV] C=2 .............................................................\n",
      "[CV] C=2 .............................................................\n",
      "[CV] C=8 .............................................................\n",
      "[CV] C=8 .............................................................\n",
      "[CV] C=8 .............................................................\n",
      "[LibLinear][CV] .............. C=0.03125, score=0.9207683073229291, total=   4.3s\n"
     ]
    },
    {
     "name": "stderr",
     "output_type": "stream",
     "text": [
      "[Parallel(n_jobs=-1)]: Done   1 tasks      | elapsed:    4.5s\n"
     ]
    },
    {
     "name": "stdout",
     "output_type": "stream",
     "text": [
      "[LibLinear][CV] .............. C=0.03125, score=0.9214157168566287, total=   5.9s\n"
     ]
    },
    {
     "name": "stderr",
     "output_type": "stream",
     "text": [
      "[Parallel(n_jobs=-1)]: Done   2 out of  15 | elapsed:    6.2s remaining:   40.1s\n"
     ]
    },
    {
     "name": "stdout",
     "output_type": "stream",
     "text": [
      "[LibLinear][CV] .............. C=0.03125, score=0.9226154769046191, total=   6.4s\n"
     ]
    },
    {
     "name": "stderr",
     "output_type": "stream",
     "text": [
      "[Parallel(n_jobs=-1)]: Done   3 out of  15 | elapsed:    6.6s remaining:   26.3s\n"
     ]
    },
    {
     "name": "stdout",
     "output_type": "stream",
     "text": [
      "[LibLinear][CV] ................ C=0.125, score=0.9165666266506602, total=  10.9s\n"
     ]
    },
    {
     "name": "stderr",
     "output_type": "stream",
     "text": [
      "[Parallel(n_jobs=-1)]: Done   4 out of  15 | elapsed:   11.1s remaining:   30.5s\n"
     ]
    },
    {
     "name": "stdout",
     "output_type": "stream",
     "text": [
      "[LibLinear][CV] ................ C=0.125, score=0.9169166166766647, total=  12.2s\n"
     ]
    },
    {
     "name": "stderr",
     "output_type": "stream",
     "text": [
      "[Parallel(n_jobs=-1)]: Done   5 out of  15 | elapsed:   12.4s remaining:   24.8s\n"
     ]
    },
    {
     "name": "stdout",
     "output_type": "stream",
     "text": [
      "[LibLinear][CV] ................ C=0.125, score=0.9187162567486503, total=  14.0s\n"
     ]
    },
    {
     "name": "stderr",
     "output_type": "stream",
     "text": [
      "[Parallel(n_jobs=-1)]: Done   6 out of  15 | elapsed:   14.2s remaining:   21.3s\n"
     ]
    },
    {
     "name": "stdout",
     "output_type": "stream",
     "text": [
      "[LibLinear][CV] .................. C=0.5, score=0.9138655462184874, total=  15.1s\n"
     ]
    },
    {
     "name": "stderr",
     "output_type": "stream",
     "text": [
      "[Parallel(n_jobs=-1)]: Done   7 out of  15 | elapsed:   15.3s remaining:   17.5s\n"
     ]
    },
    {
     "name": "stdout",
     "output_type": "stream",
     "text": [
      "[LibLinear][CV] .................... C=2, score=0.9147659063625451, total=  18.1s\n"
     ]
    },
    {
     "name": "stderr",
     "output_type": "stream",
     "text": [
      "[Parallel(n_jobs=-1)]: Done   8 out of  15 | elapsed:   18.6s remaining:   16.3s\n"
     ]
    },
    {
     "name": "stdout",
     "output_type": "stream",
     "text": [
      "[LibLinear][CV] .................. C=0.5, score=0.9124175164967007, total=  23.8s\n"
     ]
    },
    {
     "name": "stderr",
     "output_type": "stream",
     "text": [
      "[Parallel(n_jobs=-1)]: Done   9 out of  15 | elapsed:   24.0s remaining:   16.0s\n"
     ]
    },
    {
     "name": "stdout",
     "output_type": "stream",
     "text": [
      "[LibLinear][CV] .................. C=0.5, score=0.9157168566286743, total=  26.5s\n"
     ]
    },
    {
     "name": "stderr",
     "output_type": "stream",
     "text": [
      "[Parallel(n_jobs=-1)]: Done  10 out of  15 | elapsed:   26.8s remaining:   13.4s\n"
     ]
    },
    {
     "name": "stdout",
     "output_type": "stream",
     "text": [
      "[LibLinear][CV] .................... C=2, score=0.9115176964607079, total=  37.7s\n"
     ]
    },
    {
     "name": "stderr",
     "output_type": "stream",
     "text": [
      "[Parallel(n_jobs=-1)]: Done  11 out of  15 | elapsed:   38.0s remaining:   13.8s\n"
     ]
    },
    {
     "name": "stdout",
     "output_type": "stream",
     "text": [
      "[LibLinear][CV] ..................... C=2, score=0.913617276544691, total=  41.7s\n"
     ]
    },
    {
     "name": "stderr",
     "output_type": "stream",
     "text": [
      "[Parallel(n_jobs=-1)]: Done  12 out of  15 | elapsed:   42.1s remaining:   10.5s\n"
     ]
    },
    {
     "name": "stdout",
     "output_type": "stream",
     "text": [
      "[LibLinear][CV] .................... C=8, score=0.9139172165566887, total=  43.4s\n"
     ]
    },
    {
     "name": "stderr",
     "output_type": "stream",
     "text": [
      "[Parallel(n_jobs=-1)]: Done  13 out of  15 | elapsed:   44.0s remaining:    6.8s\n"
     ]
    },
    {
     "name": "stdout",
     "output_type": "stream",
     "text": [
      "[LibLinear][CV] .................... C=8, score=0.9141656662665066, total= 1.0min\n"
     ]
    },
    {
     "name": "stderr",
     "output_type": "stream",
     "text": [
      "/opt/conda/lib/python3.6/site-packages/sklearn/svm/base.py:898: ConvergenceWarning: Liblinear failed to converge, increase the number of iterations.\n",
      "  \"the number of iterations.\", ConvergenceWarning)\n"
     ]
    },
    {
     "name": "stdout",
     "output_type": "stream",
     "text": [
      "[LibLinear][CV] .................... C=8, score=0.9103179364127174, total= 1.1min\n"
     ]
    },
    {
     "name": "stderr",
     "output_type": "stream",
     "text": [
      "[Parallel(n_jobs=-1)]: Done  15 out of  15 | elapsed:  1.1min remaining:    0.0s\n",
      "[Parallel(n_jobs=-1)]: Done  15 out of  15 | elapsed:  1.1min finished\n"
     ]
    },
    {
     "name": "stdout",
     "output_type": "stream",
     "text": [
      "[LibLinear]0:01:11.413450\n"
     ]
    }
   ],
   "source": [
    "from datetime import datetime\n",
    "start_time = datetime.now()\n",
    "\n",
    "#perform grid search for c\n",
    "lr_svm_grid_cv.fit(x_train, y_train)\n",
    "\n",
    "print(datetime.now() - start_time)"
   ]
  },
  {
   "cell_type": "code",
   "execution_count": 9,
   "metadata": {
    "_uuid": "2c740a05d7120ceda449f57e8453c516c90deb50"
   },
   "outputs": [
    {
     "data": {
      "text/plain": [
       "({'C': 0.03125},\n",
       " LinearSVC(C=0.03125, class_weight=None, dual=True, fit_intercept=True,\n",
       "      intercept_scaling=1, loss='squared_hinge', max_iter=100000,\n",
       "      multi_class='ovr', penalty='l2', random_state=None, tol=0.0001,\n",
       "      verbose=20),\n",
       " 0.92159999999999997)"
      ]
     },
     "execution_count": 9,
     "metadata": {},
     "output_type": "execute_result"
    }
   ],
   "source": [
    "lr_svm_grid_cv.best_params_, lr_svm_grid_cv.best_estimator_, lr_svm_grid_cv.best_score_"
   ]
  },
  {
   "cell_type": "code",
   "execution_count": 10,
   "metadata": {
    "_uuid": "825bba980074a79fd72105974154946362e06212",
    "collapsed": true
   },
   "outputs": [],
   "source": [
    "y_true, y_pred = y_test, lr_svm_grid_cv.predict(x_test)"
   ]
  },
  {
   "cell_type": "code",
   "execution_count": 11,
   "metadata": {
    "_uuid": "1b1072c99b88aef424378a16855ed56b84cf87b8"
   },
   "outputs": [
    {
     "name": "stdout",
     "output_type": "stream",
     "text": [
      "             precision    recall  f1-score   support\n",
      "\n",
      "   negative       0.81      0.69      0.75     20513\n",
      "   positive       0.94      0.97      0.96    110941\n",
      "\n",
      "avg / total       0.92      0.93      0.92    131454\n",
      "\n",
      "(0.92626317951526771, 0.92626317951526771, 0.92626317951526771, None)\n"
     ]
    }
   ],
   "source": [
    "from sklearn.metrics import classification_report, precision_recall_fscore_support\n",
    "print(classification_report(y_true, y_pred))\n",
    "print(precision_recall_fscore_support(y_true, y_pred, average='micro'))"
   ]
  },
  {
   "cell_type": "code",
   "execution_count": 12,
   "metadata": {
    "_uuid": "a8389d24660b073cdf7c167f5b0c7205bdc54245"
   },
   "outputs": [
    {
     "name": "stdout",
     "output_type": "stream",
     "text": [
      "FPR: 0.3071710622532053, \n",
      "TPR: 0.9694251899658377, \n",
      "AUC : 0.8311270638563162\n"
     ]
    }
   ],
   "source": [
    "from sklearn.metrics import roc_curve, auc, roc_auc_score\n",
    "\n",
    "y_pred = np.where(y_pred == 'positive', 1, 0)\n",
    "y_true = np.where(y_true == 'positive', 1, 0)\n",
    "\n",
    "fpr, tpr, threshold = roc_curve(y_true, y_pred)\n",
    "print(\"FPR: {}, \\nTPR: {}, \\nAUC : {}\".format(fpr[1], tpr[1], auc(fpr,tpr)))"
   ]
  },
  {
   "cell_type": "markdown",
   "metadata": {
    "_uuid": "6947c927b6e2e0a3d44982b49cc86ac808749590"
   },
   "source": [
    "# SVM with RBF kernel"
   ]
  },
  {
   "cell_type": "code",
   "execution_count": 13,
   "metadata": {
    "_uuid": "9f734def0151908aa1184061510234e2497c789c",
    "collapsed": true
   },
   "outputs": [],
   "source": [
    "from sklearn.svm import SVC"
   ]
  },
  {
   "cell_type": "code",
   "execution_count": 14,
   "metadata": {
    "_uuid": "add10bf96dc858d2ef6d943787e0742993a4f6ef"
   },
   "outputs": [
    {
     "data": {
      "text/plain": [
       "GridSearchCV(cv=None, error_score='raise',\n",
       "       estimator=SVC(C=1.0, cache_size=200, class_weight=None, coef0=0.0,\n",
       "  decision_function_shape='ovr', degree=3, gamma='auto', kernel='rbf',\n",
       "  max_iter=-1, probability=False, random_state=None, shrinking=True,\n",
       "  tol=0.001, verbose=False),\n",
       "       fit_params=None, iid=True, n_jobs=-1,\n",
       "       param_grid={'C': [0.03125, 0.125, 0.5, 2, 8], 'gamma': [3.0517578125e-05, 0.00048828125, 0.0078125, 0.125, 2]},\n",
       "       pre_dispatch='2*n_jobs', refit=True, return_train_score=True,\n",
       "       scoring=None, verbose=30)"
      ]
     },
     "execution_count": 14,
     "metadata": {},
     "output_type": "execute_result"
    }
   ],
   "source": [
    "param_grid = {'C':[0.03125, 0.125, 0.5, 2, 8],\n",
    "             'gamma': [3.0517578125e-05, 0.00048828125, 0.0078125, 0.125, 2]}\n",
    "rbf_svm = SVC(kernel='rbf')\n",
    "rbf_svm_grid_cv = GridSearchCV(rbf_svm, param_grid=param_grid, n_jobs=-1, verbose=30)\n",
    "rbf_svm_grid_cv"
   ]
  },
  {
   "cell_type": "code",
   "execution_count": 15,
   "metadata": {
    "_uuid": "0e558e394d858dc556be0f726b21c5a2989a6e32",
    "scrolled": false
   },
   "outputs": [
    {
     "name": "stdout",
     "output_type": "stream",
     "text": [
      "Fitting 3 folds for each of 25 candidates, totalling 75 fits\n",
      "[CV] C=0.03125, gamma=3.0517578125e-05 ...............................\n",
      "[CV] C=0.03125, gamma=3.0517578125e-05 ...............................\n",
      "[CV] C=0.03125, gamma=0.00048828125 ..................................\n",
      "[CV] C=0.03125, gamma=3.0517578125e-05 ...............................\n",
      "[CV] C=0.03125, gamma=0.00048828125 ..................................\n",
      "[CV] C=0.03125, gamma=0.00048828125 ..................................\n",
      "[CV] C=0.03125, gamma=0.0078125 ......................................\n",
      "[CV] C=0.03125, gamma=0.0078125 ......................................\n",
      "[CV] C=0.03125, gamma=0.0078125 ......................................\n",
      "[CV] C=0.03125, gamma=0.125 ..........................................\n",
      "[CV] C=0.03125, gamma=0.125 ..........................................\n",
      "[CV] C=0.03125, gamma=0.125 ..........................................\n",
      "[CV] C=0.03125, gamma=2 ..............................................\n",
      "[CV] C=0.03125, gamma=2 ..............................................\n",
      "[CV] C=0.03125, gamma=2 ..............................................\n",
      "[CV] C=0.125, gamma=3.0517578125e-05 .................................\n",
      "[CV]  C=0.125, gamma=3.0517578125e-05, score=0.8425314937012598, total=  50.3s\n",
      "[CV] C=0.125, gamma=3.0517578125e-05 .................................\n"
     ]
    },
    {
     "name": "stderr",
     "output_type": "stream",
     "text": [
      "[Parallel(n_jobs=-1)]: Done   1 tasks      | elapsed:  1.3min\n"
     ]
    },
    {
     "name": "stdout",
     "output_type": "stream",
     "text": [
      "[CV]  C=0.03125, gamma=0.00048828125, score=0.8425314937012598, total=  56.3s\n",
      "[CV] C=0.125, gamma=3.0517578125e-05 .................................\n"
     ]
    },
    {
     "name": "stderr",
     "output_type": "stream",
     "text": [
      "[Parallel(n_jobs=-1)]: Done   2 tasks      | elapsed:  1.4min\n"
     ]
    },
    {
     "name": "stdout",
     "output_type": "stream",
     "text": [
      "[CV]  C=0.03125, gamma=0.00048828125, score=0.8425314937012598, total= 1.1min\n",
      "[CV] C=0.125, gamma=0.00048828125 ....................................\n"
     ]
    },
    {
     "name": "stderr",
     "output_type": "stream",
     "text": [
      "[Parallel(n_jobs=-1)]: Done   3 tasks      | elapsed:  1.6min\n"
     ]
    },
    {
     "name": "stdout",
     "output_type": "stream",
     "text": [
      "[CV]  C=0.03125, gamma=0.0078125, score=0.8427370948379351, total= 1.1min\n",
      "[CV] C=0.125, gamma=0.00048828125 ....................................\n"
     ]
    },
    {
     "name": "stderr",
     "output_type": "stream",
     "text": [
      "[Parallel(n_jobs=-1)]: Done   4 tasks      | elapsed:  1.8min\n"
     ]
    },
    {
     "name": "stdout",
     "output_type": "stream",
     "text": [
      "[CV]  C=0.03125, gamma=3.0517578125e-05, score=0.8427370948379351, total= 1.3min\n",
      "[CV] C=0.125, gamma=0.00048828125 ....................................\n"
     ]
    },
    {
     "name": "stderr",
     "output_type": "stream",
     "text": [
      "[Parallel(n_jobs=-1)]: Done   5 tasks      | elapsed:  1.9min\n"
     ]
    },
    {
     "name": "stdout",
     "output_type": "stream",
     "text": [
      "[CV]  C=0.03125, gamma=0.00048828125, score=0.8427370948379351, total= 1.3min\n",
      "[CV] C=0.125, gamma=0.0078125 ........................................\n"
     ]
    },
    {
     "name": "stderr",
     "output_type": "stream",
     "text": [
      "[Parallel(n_jobs=-1)]: Done   6 tasks      | elapsed:  2.1min\n"
     ]
    },
    {
     "name": "stdout",
     "output_type": "stream",
     "text": [
      "[CV]  C=0.03125, gamma=3.0517578125e-05, score=0.8425314937012598, total= 1.3min\n",
      "[CV] C=0.125, gamma=0.0078125 ........................................\n"
     ]
    },
    {
     "name": "stderr",
     "output_type": "stream",
     "text": [
      "[Parallel(n_jobs=-1)]: Done   7 tasks      | elapsed:  2.1min\n"
     ]
    },
    {
     "name": "stdout",
     "output_type": "stream",
     "text": [
      "[CV]  C=0.03125, gamma=3.0517578125e-05, score=0.8425314937012598, total= 1.3min\n",
      "[CV] C=0.125, gamma=0.0078125 ........................................\n"
     ]
    },
    {
     "name": "stderr",
     "output_type": "stream",
     "text": [
      "[Parallel(n_jobs=-1)]: Done   8 tasks      | elapsed:  2.1min\n"
     ]
    },
    {
     "name": "stdout",
     "output_type": "stream",
     "text": [
      "[CV]  C=0.03125, gamma=0.0078125, score=0.8425314937012598, total= 1.4min\n",
      "[CV] C=0.125, gamma=0.125 ............................................\n"
     ]
    },
    {
     "name": "stderr",
     "output_type": "stream",
     "text": [
      "[Parallel(n_jobs=-1)]: Done   9 tasks      | elapsed:  2.2min\n"
     ]
    },
    {
     "name": "stdout",
     "output_type": "stream",
     "text": [
      "[CV]  C=0.03125, gamma=0.0078125, score=0.8425314937012598, total= 1.4min\n",
      "[CV] C=0.125, gamma=0.125 ............................................\n"
     ]
    },
    {
     "name": "stderr",
     "output_type": "stream",
     "text": [
      "[Parallel(n_jobs=-1)]: Done  10 tasks      | elapsed:  2.2min\n"
     ]
    },
    {
     "name": "stdout",
     "output_type": "stream",
     "text": [
      "[CV]  C=0.125, gamma=3.0517578125e-05, score=0.8425314937012598, total=  54.4s\n",
      "[CV] C=0.125, gamma=0.125 ............................................\n"
     ]
    },
    {
     "name": "stderr",
     "output_type": "stream",
     "text": [
      "[Parallel(n_jobs=-1)]: Done  11 tasks      | elapsed:  2.7min\n"
     ]
    },
    {
     "name": "stdout",
     "output_type": "stream",
     "text": [
      "[CV]  C=0.125, gamma=3.0517578125e-05, score=0.8427370948379351, total=  54.9s\n",
      "[CV] C=0.125, gamma=2 ................................................\n"
     ]
    },
    {
     "name": "stderr",
     "output_type": "stream",
     "text": [
      "[Parallel(n_jobs=-1)]: Done  12 tasks      | elapsed:  2.8min\n"
     ]
    },
    {
     "name": "stdout",
     "output_type": "stream",
     "text": [
      "[CV]  C=0.125, gamma=0.00048828125, score=0.8425314937012598, total=  57.7s\n",
      "[CV] C=0.125, gamma=2 ................................................\n"
     ]
    },
    {
     "name": "stderr",
     "output_type": "stream",
     "text": [
      "[Parallel(n_jobs=-1)]: Done  13 tasks      | elapsed:  3.1min\n"
     ]
    },
    {
     "name": "stdout",
     "output_type": "stream",
     "text": [
      "[CV]  C=0.125, gamma=0.00048828125, score=0.8425314937012598, total=  56.2s\n",
      "[CV] C=0.125, gamma=2 ................................................\n"
     ]
    },
    {
     "name": "stderr",
     "output_type": "stream",
     "text": [
      "[Parallel(n_jobs=-1)]: Done  14 tasks      | elapsed:  3.2min\n"
     ]
    },
    {
     "name": "stdout",
     "output_type": "stream",
     "text": [
      "[CV] . C=0.03125, gamma=0.125, score=0.8425314937012598, total= 2.2min\n",
      "[CV] C=0.5, gamma=3.0517578125e-05 ...................................\n"
     ]
    },
    {
     "name": "stderr",
     "output_type": "stream",
     "text": [
      "[Parallel(n_jobs=-1)]: Done  15 tasks      | elapsed:  3.6min\n"
     ]
    },
    {
     "name": "stdout",
     "output_type": "stream",
     "text": [
      "[CV]  C=0.125, gamma=0.00048828125, score=0.8427370948379351, total= 1.3min\n",
      "[CV] C=0.5, gamma=3.0517578125e-05 ...................................\n"
     ]
    },
    {
     "name": "stderr",
     "output_type": "stream",
     "text": [
      "[Parallel(n_jobs=-1)]: Done  16 tasks      | elapsed:  3.8min\n"
     ]
    },
    {
     "name": "stdout",
     "output_type": "stream",
     "text": [
      "[CV] ..... C=0.03125, gamma=2, score=0.8427370948379351, total= 2.3min\n",
      "[CV] C=0.5, gamma=3.0517578125e-05 ...................................\n"
     ]
    },
    {
     "name": "stderr",
     "output_type": "stream",
     "text": [
      "[Parallel(n_jobs=-1)]: Done  17 tasks      | elapsed:  3.9min\n"
     ]
    },
    {
     "name": "stdout",
     "output_type": "stream",
     "text": [
      "[CV]  C=0.125, gamma=0.0078125, score=0.8425314937012598, total= 1.3min\n",
      "[CV] C=0.5, gamma=0.00048828125 ......................................\n"
     ]
    },
    {
     "name": "stderr",
     "output_type": "stream",
     "text": [
      "[Parallel(n_jobs=-1)]: Done  18 tasks      | elapsed:  4.1min\n"
     ]
    },
    {
     "name": "stdout",
     "output_type": "stream",
     "text": [
      "[CV] ..... C=0.03125, gamma=2, score=0.8425314937012598, total= 2.3min\n",
      "[CV] C=0.5, gamma=0.00048828125 ......................................\n"
     ]
    },
    {
     "name": "stderr",
     "output_type": "stream",
     "text": [
      "[Parallel(n_jobs=-1)]: Done  19 tasks      | elapsed:  4.3min\n"
     ]
    },
    {
     "name": "stdout",
     "output_type": "stream",
     "text": [
      "[CV] . C=0.03125, gamma=0.125, score=0.8427370948379351, total= 2.5min\n",
      "[CV] C=0.5, gamma=0.00048828125 ......................................\n"
     ]
    },
    {
     "name": "stderr",
     "output_type": "stream",
     "text": [
      "[Parallel(n_jobs=-1)]: Done  20 tasks      | elapsed:  4.3min\n"
     ]
    },
    {
     "name": "stdout",
     "output_type": "stream",
     "text": [
      "[CV] . C=0.03125, gamma=0.125, score=0.8425314937012598, total= 2.5min\n",
      "[CV] C=0.5, gamma=0.0078125 ..........................................\n"
     ]
    },
    {
     "name": "stderr",
     "output_type": "stream",
     "text": [
      "[Parallel(n_jobs=-1)]: Done  21 tasks      | elapsed:  4.4min\n"
     ]
    },
    {
     "name": "stdout",
     "output_type": "stream",
     "text": [
      "[CV] ..... C=0.03125, gamma=2, score=0.8425314937012598, total= 2.6min\n",
      "[CV] C=0.5, gamma=0.0078125 ..........................................\n"
     ]
    },
    {
     "name": "stderr",
     "output_type": "stream",
     "text": [
      "[Parallel(n_jobs=-1)]: Done  22 tasks      | elapsed:  4.4min\n"
     ]
    },
    {
     "name": "stdout",
     "output_type": "stream",
     "text": [
      "[CV]  C=0.125, gamma=0.0078125, score=0.8427370948379351, total= 1.4min\n",
      "[CV] C=0.5, gamma=0.0078125 ..........................................\n"
     ]
    },
    {
     "name": "stderr",
     "output_type": "stream",
     "text": [
      "[Parallel(n_jobs=-1)]: Done  23 tasks      | elapsed:  4.4min\n"
     ]
    },
    {
     "name": "stdout",
     "output_type": "stream",
     "text": [
      "[CV]  C=0.125, gamma=0.0078125, score=0.8425314937012598, total= 1.9min\n",
      "[CV] C=0.5, gamma=0.125 ..............................................\n"
     ]
    },
    {
     "name": "stderr",
     "output_type": "stream",
     "text": [
      "[Parallel(n_jobs=-1)]: Done  24 tasks      | elapsed:  4.7min\n"
     ]
    },
    {
     "name": "stdout",
     "output_type": "stream",
     "text": [
      "[CV]  C=0.5, gamma=3.0517578125e-05, score=0.8425314937012598, total=  56.4s\n",
      "[CV] C=0.5, gamma=0.125 ..............................................\n"
     ]
    },
    {
     "name": "stderr",
     "output_type": "stream",
     "text": [
      "[Parallel(n_jobs=-1)]: Done  25 tasks      | elapsed:  5.1min\n"
     ]
    },
    {
     "name": "stdout",
     "output_type": "stream",
     "text": [
      "[CV]  C=0.5, gamma=3.0517578125e-05, score=0.8425314937012598, total= 1.2min\n",
      "[CV] C=0.5, gamma=0.125 ..............................................\n"
     ]
    },
    {
     "name": "stderr",
     "output_type": "stream",
     "text": [
      "[Parallel(n_jobs=-1)]: Done  26 tasks      | elapsed:  5.5min\n"
     ]
    },
    {
     "name": "stdout",
     "output_type": "stream",
     "text": [
      "[CV]  C=0.5, gamma=3.0517578125e-05, score=0.8427370948379351, total= 1.0min\n",
      "[CV] C=0.5, gamma=2 ..................................................\n"
     ]
    },
    {
     "name": "stderr",
     "output_type": "stream",
     "text": [
      "[Parallel(n_jobs=-1)]: Done  27 tasks      | elapsed:  5.5min\n"
     ]
    },
    {
     "name": "stdout",
     "output_type": "stream",
     "text": [
      "[CV]  C=0.5, gamma=0.00048828125, score=0.8428314337132573, total= 1.2min\n",
      "[CV] C=0.5, gamma=2 ..................................................\n"
     ]
    },
    {
     "name": "stderr",
     "output_type": "stream",
     "text": [
      "[Parallel(n_jobs=-1)]: Done  28 tasks      | elapsed:  5.8min\n"
     ]
    },
    {
     "name": "stdout",
     "output_type": "stream",
     "text": [
      "[CV]  C=0.5, gamma=0.00048828125, score=0.8436374549819928, total=  59.0s\n",
      "[CV] C=0.5, gamma=2 ..................................................\n"
     ]
    },
    {
     "name": "stderr",
     "output_type": "stream",
     "text": [
      "[Parallel(n_jobs=-1)]: Done  29 tasks      | elapsed:  5.9min\n"
     ]
    },
    {
     "name": "stdout",
     "output_type": "stream",
     "text": [
      "[CV] ... C=0.125, gamma=0.125, score=0.8427370948379351, total= 2.2min\n",
      "[CV] C=2, gamma=3.0517578125e-05 .....................................\n"
     ]
    },
    {
     "name": "stderr",
     "output_type": "stream",
     "text": [
      "[Parallel(n_jobs=-1)]: Done  30 tasks      | elapsed:  6.3min\n"
     ]
    },
    {
     "name": "stdout",
     "output_type": "stream",
     "text": [
      "[CV] ....... C=0.125, gamma=2, score=0.8425314937012598, total= 2.1min\n",
      "[CV] C=2, gamma=3.0517578125e-05 .....................................\n"
     ]
    },
    {
     "name": "stderr",
     "output_type": "stream",
     "text": [
      "[Parallel(n_jobs=-1)]: Done  31 tasks      | elapsed:  6.4min\n"
     ]
    },
    {
     "name": "stdout",
     "output_type": "stream",
     "text": [
      "[CV]  C=0.5, gamma=0.00048828125, score=0.8428314337132573, total= 1.6min\n",
      "[CV] C=2, gamma=3.0517578125e-05 .....................................\n"
     ]
    },
    {
     "name": "stderr",
     "output_type": "stream",
     "text": [
      "[Parallel(n_jobs=-1)]: Done  32 tasks      | elapsed:  6.4min\n"
     ]
    },
    {
     "name": "stdout",
     "output_type": "stream",
     "text": [
      "[CV] .. C=0.5, gamma=0.0078125, score=0.859628074385123, total= 1.5min\n",
      "[CV] C=2, gamma=0.00048828125 ........................................\n",
      "[CV] ... C=0.125, gamma=0.125, score=0.8425314937012598, total= 2.8min\n"
     ]
    },
    {
     "name": "stderr",
     "output_type": "stream",
     "text": [
      "[Parallel(n_jobs=-1)]: Done  33 tasks      | elapsed:  6.6min\n",
      "[Parallel(n_jobs=-1)]: Done  34 tasks      | elapsed:  6.6min\n"
     ]
    },
    {
     "name": "stdout",
     "output_type": "stream",
     "text": [
      "[CV] C=2, gamma=0.00048828125 ........................................\n",
      "[CV] ... C=0.125, gamma=0.125, score=0.8425314937012598, total= 2.6min\n",
      "[CV] C=2, gamma=0.00048828125 ........................................\n"
     ]
    },
    {
     "name": "stderr",
     "output_type": "stream",
     "text": [
      "[Parallel(n_jobs=-1)]: Done  35 tasks      | elapsed:  6.7min\n"
     ]
    },
    {
     "name": "stdout",
     "output_type": "stream",
     "text": [
      "[CV] ....... C=0.125, gamma=2, score=0.8427370948379351, total= 2.1min\n",
      "[CV] C=2, gamma=0.0078125 ............................................\n"
     ]
    },
    {
     "name": "stderr",
     "output_type": "stream",
     "text": [
      "[Parallel(n_jobs=-1)]: Done  36 tasks      | elapsed:  6.8min\n"
     ]
    },
    {
     "name": "stdout",
     "output_type": "stream",
     "text": [
      "[CV] ....... C=0.125, gamma=2, score=0.8425314937012598, total= 2.2min\n",
      "[CV] C=2, gamma=0.0078125 ............................................\n"
     ]
    },
    {
     "name": "stderr",
     "output_type": "stream",
     "text": [
      "[Parallel(n_jobs=-1)]: Done  37 tasks      | elapsed:  6.8min\n"
     ]
    },
    {
     "name": "stdout",
     "output_type": "stream",
     "text": [
      "[CV] . C=0.5, gamma=0.0078125, score=0.8578284343131374, total= 1.5min\n",
      "[CV] C=2, gamma=0.0078125 ............................................\n"
     ]
    },
    {
     "name": "stderr",
     "output_type": "stream",
     "text": [
      "[Parallel(n_jobs=-1)]: Done  38 tasks      | elapsed:  6.9min\n"
     ]
    },
    {
     "name": "stdout",
     "output_type": "stream",
     "text": [
      "[CV] .. C=0.5, gamma=0.0078125, score=0.858343337334934, total= 1.6min\n",
      "[CV] C=2, gamma=0.125 ................................................\n"
     ]
    },
    {
     "name": "stderr",
     "output_type": "stream",
     "text": [
      "[Parallel(n_jobs=-1)]: Done  39 tasks      | elapsed:  7.1min\n"
     ]
    },
    {
     "name": "stdout",
     "output_type": "stream",
     "text": [
      "[CV]  C=2, gamma=3.0517578125e-05, score=0.8425314937012598, total=  57.7s\n",
      "[CV] C=2, gamma=0.125 ................................................\n"
     ]
    },
    {
     "name": "stderr",
     "output_type": "stream",
     "text": [
      "[Parallel(n_jobs=-1)]: Done  40 tasks      | elapsed:  7.8min\n"
     ]
    },
    {
     "name": "stdout",
     "output_type": "stream",
     "text": [
      "[CV]  C=2, gamma=3.0517578125e-05, score=0.8425314937012598, total=  59.7s\n",
      "[CV] C=2, gamma=0.125 ................................................\n"
     ]
    },
    {
     "name": "stderr",
     "output_type": "stream",
     "text": [
      "[Parallel(n_jobs=-1)]: Done  41 tasks      | elapsed:  7.8min\n"
     ]
    },
    {
     "name": "stdout",
     "output_type": "stream",
     "text": [
      "[CV]  C=2, gamma=0.00048828125, score=0.8553421368547419, total=  57.2s\n",
      "[CV] C=2, gamma=2 ....................................................\n"
     ]
    },
    {
     "name": "stderr",
     "output_type": "stream",
     "text": [
      "[Parallel(n_jobs=-1)]: Done  42 tasks      | elapsed:  8.2min\n"
     ]
    },
    {
     "name": "stdout",
     "output_type": "stream",
     "text": [
      "[CV]  C=2, gamma=3.0517578125e-05, score=0.8427370948379351, total= 1.3min\n",
      "[CV] C=2, gamma=2 ....................................................\n"
     ]
    },
    {
     "name": "stderr",
     "output_type": "stream",
     "text": [
      "[Parallel(n_jobs=-1)]: Done  43 tasks      | elapsed:  8.3min\n"
     ]
    },
    {
     "name": "stdout",
     "output_type": "stream",
     "text": [
      "[CV]  C=2, gamma=0.00048828125, score=0.8548290341931614, total= 1.1min\n",
      "[CV] C=2, gamma=2 ....................................................\n"
     ]
    },
    {
     "name": "stderr",
     "output_type": "stream",
     "text": [
      "[Parallel(n_jobs=-1)]: Done  44 tasks      | elapsed:  8.4min\n"
     ]
    },
    {
     "name": "stdout",
     "output_type": "stream",
     "text": [
      "[CV]  C=2, gamma=0.00048828125, score=0.8503299340131973, total= 1.1min\n",
      "[CV] C=8, gamma=3.0517578125e-05 .....................................\n",
      "[CV] ..... C=0.5, gamma=0.125, score=0.8428314337132573, total= 2.3min\n",
      "[CV] C=8, gamma=3.0517578125e-05 .....................................\n",
      "[CV] .... C=2, gamma=0.0078125, score=0.906118776244751, total= 1.3min\n",
      "[CV] C=8, gamma=3.0517578125e-05 .....................................\n"
     ]
    },
    {
     "name": "stderr",
     "output_type": "stream",
     "text": [
      "[Parallel(n_jobs=-1)]: Done  47 out of  75 | elapsed:  8.9min remaining:  5.3min\n"
     ]
    },
    {
     "name": "stdout",
     "output_type": "stream",
     "text": [
      "[CV] ... C=2, gamma=0.0078125, score=0.9052189562087583, total= 1.4min\n",
      "[CV] C=8, gamma=0.00048828125 ........................................\n",
      "[CV] ......... C=0.5, gamma=2, score=0.8431313737252549, total= 2.3min\n",
      "[CV] C=8, gamma=0.00048828125 ........................................\n",
      "[CV] ..... C=0.5, gamma=0.125, score=0.8431313737252549, total= 2.9min\n",
      "[CV] C=8, gamma=0.00048828125 ........................................\n"
     ]
    },
    {
     "name": "stderr",
     "output_type": "stream",
     "text": [
      "[Parallel(n_jobs=-1)]: Done  50 out of  75 | elapsed:  9.5min remaining:  4.8min\n"
     ]
    },
    {
     "name": "stdout",
     "output_type": "stream",
     "text": [
      "[CV] ... C=2, gamma=0.0078125, score=0.9087635054021609, total= 1.8min\n",
      "[CV] C=8, gamma=0.0078125 ............................................\n",
      "[CV] ...... C=0.5, gamma=0.125, score=0.843937575030012, total= 2.7min\n",
      "[CV] C=8, gamma=0.0078125 ............................................\n",
      "[CV]  C=8, gamma=3.0517578125e-05, score=0.8428314337132573, total= 1.1min\n",
      "[CV] C=8, gamma=0.0078125 ............................................\n"
     ]
    },
    {
     "name": "stderr",
     "output_type": "stream",
     "text": [
      "[Parallel(n_jobs=-1)]: Done  53 out of  75 | elapsed: 10.1min remaining:  4.2min\n"
     ]
    },
    {
     "name": "stdout",
     "output_type": "stream",
     "text": [
      "[CV]  C=8, gamma=3.0517578125e-05, score=0.8428314337132573, total=  54.3s\n",
      "[CV] C=8, gamma=0.125 ................................................\n",
      "[CV]  C=8, gamma=3.0517578125e-05, score=0.8436374549819928, total=  53.9s\n",
      "[CV] C=8, gamma=0.125 ................................................\n",
      "[CV]  C=8, gamma=0.00048828125, score=0.9001199760047991, total=  51.4s\n",
      "[CV] C=8, gamma=0.125 ................................................\n"
     ]
    },
    {
     "name": "stderr",
     "output_type": "stream",
     "text": [
      "[Parallel(n_jobs=-1)]: Done  56 out of  75 | elapsed: 10.3min remaining:  3.5min\n"
     ]
    },
    {
     "name": "stdout",
     "output_type": "stream",
     "text": [
      "[CV] .......... C=0.5, gamma=2, score=0.843937575030012, total= 2.7min\n",
      "[CV] C=8, gamma=2 ....................................................\n",
      "[CV] ......... C=0.5, gamma=2, score=0.8428314337132573, total= 2.8min\n",
      "[CV] C=8, gamma=2 ....................................................\n",
      "[CV]  C=8, gamma=0.00048828125, score=0.9055188962207559, total= 1.1min\n",
      "[CV] C=8, gamma=2 ....................................................\n"
     ]
    },
    {
     "name": "stderr",
     "output_type": "stream",
     "text": [
      "[Parallel(n_jobs=-1)]: Done  59 out of  75 | elapsed: 11.2min remaining:  3.0min\n"
     ]
    },
    {
     "name": "stdout",
     "output_type": "stream",
     "text": [
      "[CV] ....... C=2, gamma=0.125, score=0.8464307138572286, total= 2.7min\n",
      "[CV] ....... C=2, gamma=0.125, score=0.8485302939412117, total= 2.4min\n",
      "[CV] ....... C=2, gamma=0.125, score=0.8469387755102041, total= 2.3min\n"
     ]
    },
    {
     "name": "stderr",
     "output_type": "stream",
     "text": [
      "[Parallel(n_jobs=-1)]: Done  62 out of  75 | elapsed: 11.6min remaining:  2.4min\n"
     ]
    },
    {
     "name": "stdout",
     "output_type": "stream",
     "text": [
      "[CV]  C=8, gamma=0.00048828125, score=0.9000600240096038, total= 1.6min\n",
      "[CV] ........... C=2, gamma=2, score=0.8464307138572286, total= 2.3min\n",
      "[CV] ... C=8, gamma=0.0078125, score=0.9145170965806838, total= 1.4min\n"
     ]
    },
    {
     "name": "stderr",
     "output_type": "stream",
     "text": [
      "[Parallel(n_jobs=-1)]: Done  65 out of  75 | elapsed: 12.0min remaining:  1.8min\n"
     ]
    },
    {
     "name": "stdout",
     "output_type": "stream",
     "text": [
      "[CV] ........... C=2, gamma=2, score=0.8485302939412117, total= 2.4min\n",
      "[CV] ... C=8, gamma=0.0078125, score=0.9103179364127174, total= 1.8min\n",
      "[CV] ... C=8, gamma=0.0078125, score=0.9171668667466987, total= 1.7min\n"
     ]
    },
    {
     "name": "stderr",
     "output_type": "stream",
     "text": [
      "[Parallel(n_jobs=-1)]: Done  68 out of  75 | elapsed: 12.4min remaining:  1.3min\n"
     ]
    },
    {
     "name": "stdout",
     "output_type": "stream",
     "text": [
      "[CV] ........... C=2, gamma=2, score=0.8469387755102041, total= 3.4min\n",
      "[CV] ....... C=8, gamma=0.125, score=0.8464307138572286, total= 2.1min\n",
      "[CV] ....... C=8, gamma=0.125, score=0.8485302939412117, total= 2.1min\n"
     ]
    },
    {
     "name": "stderr",
     "output_type": "stream",
     "text": [
      "[Parallel(n_jobs=-1)]: Done  71 out of  75 | elapsed: 13.0min remaining:   43.8s\n"
     ]
    },
    {
     "name": "stdout",
     "output_type": "stream",
     "text": [
      "[CV] ....... C=8, gamma=0.125, score=0.8469387755102041, total= 2.1min\n",
      "[CV] ........... C=8, gamma=2, score=0.8464307138572286, total= 2.1min\n",
      "[CV] ........... C=8, gamma=2, score=0.8485302939412117, total= 2.1min\n",
      "[CV] ........... C=8, gamma=2, score=0.8469387755102041, total= 1.6min\n"
     ]
    },
    {
     "name": "stderr",
     "output_type": "stream",
     "text": [
      "[Parallel(n_jobs=-1)]: Done  75 out of  75 | elapsed: 13.2min finished\n"
     ]
    },
    {
     "name": "stdout",
     "output_type": "stream",
     "text": [
      "0:13:38.526283\n"
     ]
    }
   ],
   "source": [
    "from datetime import datetime\n",
    "start_time = datetime.now()\n",
    "\n",
    "#perform gridsearch\n",
    "rbf_svm_grid_cv.fit(x_train, y_train)\n",
    "\n",
    "print(datetime.now() - start_time)"
   ]
  },
  {
   "cell_type": "code",
   "execution_count": 16,
   "metadata": {
    "_uuid": "b27d7309b52da2428b3cc716c3bb138381e57665"
   },
   "outputs": [
    {
     "data": {
      "text/plain": [
       "({'C': 8, 'gamma': 0.0078125},\n",
       " SVC(C=8, cache_size=200, class_weight=None, coef0=0.0,\n",
       "   decision_function_shape='ovr', degree=3, gamma=0.0078125, kernel='rbf',\n",
       "   max_iter=-1, probability=False, random_state=None, shrinking=True,\n",
       "   tol=0.001, verbose=False),\n",
       " 0.91400000000000003)"
      ]
     },
     "execution_count": 16,
     "metadata": {},
     "output_type": "execute_result"
    }
   ],
   "source": [
    "rbf_svm_grid_cv.best_params_, rbf_svm_grid_cv.best_estimator_, rbf_svm_grid_cv.best_score_"
   ]
  },
  {
   "cell_type": "code",
   "execution_count": 17,
   "metadata": {
    "_uuid": "3d623f9d4a4240d7738998c0508199e5eb0d2f0d",
    "collapsed": true
   },
   "outputs": [],
   "source": [
    "y_true, y_pred = y_test, rbf_svm_grid_cv.predict(x_test)"
   ]
  },
  {
   "cell_type": "code",
   "execution_count": 18,
   "metadata": {
    "_uuid": "c3417b458ecfa3106de4c94b704832229601c4fb"
   },
   "outputs": [
    {
     "name": "stdout",
     "output_type": "stream",
     "text": [
      "             precision    recall  f1-score   support\n",
      "\n",
      "   negative       0.84      0.57      0.68     20513\n",
      "   positive       0.93      0.98      0.95    110941\n",
      "\n",
      "avg / total       0.91      0.92      0.91    131454\n",
      "\n",
      "(0.91640421744488565, 0.91640421744488565, 0.91640421744488565, None)\n"
     ]
    }
   ],
   "source": [
    "from sklearn.metrics import precision_recall_fscore_support, classification_report\n",
    "print(classification_report(y_true, y_pred))\n",
    "print(precision_recall_fscore_support(y_true, y_pred, average='micro'))"
   ]
  },
  {
   "cell_type": "code",
   "execution_count": 19,
   "metadata": {
    "_uuid": "764d9b02ea17ab6c1e9540891d414e76d5f61b52"
   },
   "outputs": [
    {
     "name": "stdout",
     "output_type": "stream",
     "text": [
      "FPR: 0.4280700043874616, \n",
      "TPR: 0.9800975293173849, \n",
      "AUC : 0.7760137624649615\n"
     ]
    }
   ],
   "source": [
    "from sklearn.metrics import roc_curve, auc, roc_auc_score\n",
    "\n",
    "y_pred = np.where(y_pred == 'positive', 1, 0)\n",
    "y_true = np.where(y_true == 'positive', 1, 0)\n",
    "\n",
    "fpr, tpr, threshold = roc_curve(y_true, y_pred)\n",
    "print(\"FPR: {}, \\nTPR: {}, \\nAUC : {}\".format(fpr[1], tpr[1], auc(fpr,tpr)))"
   ]
  },
  {
   "cell_type": "markdown",
   "metadata": {
    "_uuid": "8a43545555f57c44540651171fb5253543c8bcd1"
   },
   "source": [
    "     "
   ]
  },
  {
   "cell_type": "markdown",
   "metadata": {
    "_uuid": "595b6ed0291c23758b7b9a566e7d22bdf7a1da15"
   },
   "source": [
    " "
   ]
  }
 ],
 "metadata": {
  "kernelspec": {
   "display_name": "Python 3",
   "language": "python",
   "name": "python3"
  },
  "language_info": {
   "codemirror_mode": {
    "name": "ipython",
    "version": 3
   },
   "file_extension": ".py",
   "mimetype": "text/x-python",
   "name": "python",
   "nbconvert_exporter": "python",
   "pygments_lexer": "ipython3",
   "version": "3.6.1"
  }
 },
 "nbformat": 4,
 "nbformat_minor": 1
}

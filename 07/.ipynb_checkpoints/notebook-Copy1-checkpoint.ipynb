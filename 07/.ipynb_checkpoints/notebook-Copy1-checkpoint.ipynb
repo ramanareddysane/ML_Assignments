{
 "cells": [
  {
   "cell_type": "code",
   "execution_count": 1,
   "metadata": {
    "_cell_guid": "37b1c9e4-11c3-4627-aefe-c7c87ff9bc0a",
    "_uuid": "e73adaea8524e62b82fe6a64658626f13ec368e6"
   },
   "outputs": [
    {
     "data": {
      "text/html": [
       "<div>\n",
       "<style>\n",
       "    .dataframe thead tr:only-child th {\n",
       "        text-align: right;\n",
       "    }\n",
       "\n",
       "    .dataframe thead th {\n",
       "        text-align: left;\n",
       "    }\n",
       "\n",
       "    .dataframe tbody tr th {\n",
       "        vertical-align: top;\n",
       "    }\n",
       "</style>\n",
       "<table border=\"1\" class=\"dataframe\">\n",
       "  <thead>\n",
       "    <tr style=\"text-align: right;\">\n",
       "      <th></th>\n",
       "      <th>Id</th>\n",
       "      <th>ProductId</th>\n",
       "      <th>UserId</th>\n",
       "      <th>ProfileName</th>\n",
       "      <th>HelpfulnessNumerator</th>\n",
       "      <th>HelpfulnessDenominator</th>\n",
       "      <th>Score</th>\n",
       "      <th>Time</th>\n",
       "      <th>Summary</th>\n",
       "      <th>Text</th>\n",
       "    </tr>\n",
       "  </thead>\n",
       "  <tbody>\n",
       "    <tr>\n",
       "      <th>0</th>\n",
       "      <td>1</td>\n",
       "      <td>B001E4KFG0</td>\n",
       "      <td>A3SGXH7AUHU8GW</td>\n",
       "      <td>delmartian</td>\n",
       "      <td>1</td>\n",
       "      <td>1</td>\n",
       "      <td>5</td>\n",
       "      <td>1303862400</td>\n",
       "      <td>Good Quality Dog Food</td>\n",
       "      <td>I have bought several of the Vitality canned d...</td>\n",
       "    </tr>\n",
       "  </tbody>\n",
       "</table>\n",
       "</div>"
      ],
      "text/plain": [
       "   Id   ProductId          UserId ProfileName  HelpfulnessNumerator  \\\n",
       "0   1  B001E4KFG0  A3SGXH7AUHU8GW  delmartian                     1   \n",
       "\n",
       "   HelpfulnessDenominator  Score        Time                Summary  \\\n",
       "0                       1      5  1303862400  Good Quality Dog Food   \n",
       "\n",
       "                                                Text  \n",
       "0  I have bought several of the Vitality canned d...  "
      ]
     },
     "execution_count": 1,
     "metadata": {},
     "output_type": "execute_result"
    }
   ],
   "source": [
    "import numpy as np # linear algebra\n",
    "import pandas as pd # data processing, CSV file I/O (e.g. pd.read_csv)\n",
    "\n",
    "reviews = pd.read_csv('reviews.csv')\n",
    "reviews.head(1)\n"
   ]
  },
  {
   "cell_type": "code",
   "execution_count": 2,
   "metadata": {
    "_uuid": "c5bf96865f6bde8273ebc3860e0cf04034112112"
   },
   "outputs": [
    {
     "data": {
      "text/html": [
       "<div>\n",
       "<style>\n",
       "    .dataframe thead tr:only-child th {\n",
       "        text-align: right;\n",
       "    }\n",
       "\n",
       "    .dataframe thead th {\n",
       "        text-align: left;\n",
       "    }\n",
       "\n",
       "    .dataframe tbody tr th {\n",
       "        vertical-align: top;\n",
       "    }\n",
       "</style>\n",
       "<table border=\"1\" class=\"dataframe\">\n",
       "  <thead>\n",
       "    <tr style=\"text-align: right;\">\n",
       "      <th></th>\n",
       "      <th>smry_txt</th>\n",
       "      <th>Score</th>\n",
       "    </tr>\n",
       "  </thead>\n",
       "  <tbody>\n",
       "    <tr>\n",
       "      <th>0</th>\n",
       "      <td>Good Quality Dog Food I have bought several of...</td>\n",
       "      <td>5</td>\n",
       "    </tr>\n",
       "    <tr>\n",
       "      <th>1</th>\n",
       "      <td>Not as Advertised Product arrived labeled as J...</td>\n",
       "      <td>1</td>\n",
       "    </tr>\n",
       "    <tr>\n",
       "      <th>2</th>\n",
       "      <td>\"Delight\" says it all This is a confection tha...</td>\n",
       "      <td>4</td>\n",
       "    </tr>\n",
       "    <tr>\n",
       "      <th>3</th>\n",
       "      <td>Cough Medicine If you are looking for the secr...</td>\n",
       "      <td>2</td>\n",
       "    </tr>\n",
       "    <tr>\n",
       "      <th>4</th>\n",
       "      <td>Great taffy Great taffy at a great price.  The...</td>\n",
       "      <td>5</td>\n",
       "    </tr>\n",
       "  </tbody>\n",
       "</table>\n",
       "</div>"
      ],
      "text/plain": [
       "                                            smry_txt  Score\n",
       "0  Good Quality Dog Food I have bought several of...      5\n",
       "1  Not as Advertised Product arrived labeled as J...      1\n",
       "2  \"Delight\" says it all This is a confection tha...      4\n",
       "3  Cough Medicine If you are looking for the secr...      2\n",
       "4  Great taffy Great taffy at a great price.  The...      5"
      ]
     },
     "execution_count": 2,
     "metadata": {},
     "output_type": "execute_result"
    }
   ],
   "source": [
    "reviews['smry_txt'] = reviews['Summary'].astype(str) + ' ' + reviews['Text']\n",
    "reviews[['smry_txt', 'Score']].head()"
   ]
  },
  {
   "cell_type": "code",
   "execution_count": 3,
   "metadata": {
    "_uuid": "3c5dd5c40a12a859093a08a2766c6e00bd166d5d"
   },
   "outputs": [
    {
     "data": {
      "text/html": [
       "<div>\n",
       "<style>\n",
       "    .dataframe thead tr:only-child th {\n",
       "        text-align: right;\n",
       "    }\n",
       "\n",
       "    .dataframe thead th {\n",
       "        text-align: left;\n",
       "    }\n",
       "\n",
       "    .dataframe tbody tr th {\n",
       "        vertical-align: top;\n",
       "    }\n",
       "</style>\n",
       "<table border=\"1\" class=\"dataframe\">\n",
       "  <thead>\n",
       "    <tr style=\"text-align: right;\">\n",
       "      <th></th>\n",
       "      <th>smry_txt</th>\n",
       "      <th>Score</th>\n",
       "    </tr>\n",
       "  </thead>\n",
       "  <tbody>\n",
       "    <tr>\n",
       "      <th>0</th>\n",
       "      <td>Good Quality Dog Food I have bought several of...</td>\n",
       "      <td>5</td>\n",
       "    </tr>\n",
       "    <tr>\n",
       "      <th>1</th>\n",
       "      <td>Not as Advertised Product arrived labeled as J...</td>\n",
       "      <td>1</td>\n",
       "    </tr>\n",
       "    <tr>\n",
       "      <th>2</th>\n",
       "      <td>\"Delight\" says it all This is a confection tha...</td>\n",
       "      <td>4</td>\n",
       "    </tr>\n",
       "    <tr>\n",
       "      <th>3</th>\n",
       "      <td>Cough Medicine If you are looking for the secr...</td>\n",
       "      <td>2</td>\n",
       "    </tr>\n",
       "    <tr>\n",
       "      <th>4</th>\n",
       "      <td>Great taffy Great taffy at a great price.  The...</td>\n",
       "      <td>5</td>\n",
       "    </tr>\n",
       "  </tbody>\n",
       "</table>\n",
       "</div>"
      ],
      "text/plain": [
       "                                            smry_txt  Score\n",
       "0  Good Quality Dog Food I have bought several of...      5\n",
       "1  Not as Advertised Product arrived labeled as J...      1\n",
       "2  \"Delight\" says it all This is a confection tha...      4\n",
       "3  Cough Medicine If you are looking for the secr...      2\n",
       "4  Great taffy Great taffy at a great price.  The...      5"
      ]
     },
     "execution_count": 3,
     "metadata": {},
     "output_type": "execute_result"
    }
   ],
   "source": [
    "reviews['smry_txt'] = reviews['Summary'].astype(str) + ' ' + reviews['Text']\n",
    "reviews[['smry_txt', 'Score']].head()"
   ]
  },
  {
   "cell_type": "code",
   "execution_count": 4,
   "metadata": {
    "_uuid": "bc2be6b788ce58d82d9e344d8336a7a895ed359e",
    "collapsed": true
   },
   "outputs": [],
   "source": [
    "dataset = reviews.loc[reviews['Score'] != 3][['smry_txt','Score']]"
   ]
  },
  {
   "cell_type": "code",
   "execution_count": 5,
   "metadata": {
    "_uuid": "38b78912e7dec31096c8175f9c65dd4972889a24",
    "collapsed": true
   },
   "outputs": [],
   "source": [
    "dataset.loc[dataset['Score']==1, 'Score'] = 'negative'\n",
    "dataset.loc[dataset['Score']==2, 'Score'] = 'negative'\n",
    "dataset.loc[dataset['Score']==4, 'Score'] = 'positive'\n",
    "dataset.loc[dataset['Score']==5, 'Score'] = 'positive'"
   ]
  },
  {
   "cell_type": "code",
   "execution_count": 6,
   "metadata": {
    "_uuid": "e05b7273758a70b6bd2be84db76d0291aee24e68"
   },
   "outputs": [
    {
     "data": {
      "text/html": [
       "<div>\n",
       "<style>\n",
       "    .dataframe thead tr:only-child th {\n",
       "        text-align: right;\n",
       "    }\n",
       "\n",
       "    .dataframe thead th {\n",
       "        text-align: left;\n",
       "    }\n",
       "\n",
       "    .dataframe tbody tr th {\n",
       "        vertical-align: top;\n",
       "    }\n",
       "</style>\n",
       "<table border=\"1\" class=\"dataframe\">\n",
       "  <thead>\n",
       "    <tr style=\"text-align: right;\">\n",
       "      <th></th>\n",
       "      <th>smry_txt</th>\n",
       "      <th>Score</th>\n",
       "    </tr>\n",
       "  </thead>\n",
       "  <tbody>\n",
       "    <tr>\n",
       "      <th>0</th>\n",
       "      <td>Good Quality Dog Food I have bought several of...</td>\n",
       "      <td>positive</td>\n",
       "    </tr>\n",
       "    <tr>\n",
       "      <th>1</th>\n",
       "      <td>Not as Advertised Product arrived labeled as J...</td>\n",
       "      <td>negative</td>\n",
       "    </tr>\n",
       "    <tr>\n",
       "      <th>2</th>\n",
       "      <td>\"Delight\" says it all This is a confection tha...</td>\n",
       "      <td>positive</td>\n",
       "    </tr>\n",
       "    <tr>\n",
       "      <th>3</th>\n",
       "      <td>Cough Medicine If you are looking for the secr...</td>\n",
       "      <td>negative</td>\n",
       "    </tr>\n",
       "    <tr>\n",
       "      <th>4</th>\n",
       "      <td>Great taffy Great taffy at a great price.  The...</td>\n",
       "      <td>positive</td>\n",
       "    </tr>\n",
       "  </tbody>\n",
       "</table>\n",
       "</div>"
      ],
      "text/plain": [
       "                                            smry_txt     Score\n",
       "0  Good Quality Dog Food I have bought several of...  positive\n",
       "1  Not as Advertised Product arrived labeled as J...  negative\n",
       "2  \"Delight\" says it all This is a confection tha...  positive\n",
       "3  Cough Medicine If you are looking for the secr...  negative\n",
       "4  Great taffy Great taffy at a great price.  The...  positive"
      ]
     },
     "execution_count": 6,
     "metadata": {},
     "output_type": "execute_result"
    }
   ],
   "source": [
    "dataset.head()"
   ]
  },
  {
   "cell_type": "markdown",
   "metadata": {
    "_uuid": "298aad7b83dfd1da52f2dc73fc4efc9346395398"
   },
   "source": [
    "# Logistic Regression"
   ]
  },
  {
   "cell_type": "code",
   "execution_count": 7,
   "metadata": {
    "_uuid": "4f5c600b1af107b01db32864d758a517f5abff98",
    "collapsed": true
   },
   "outputs": [],
   "source": [
    "from sklearn.feature_extraction.text import CountVectorizer\n",
    "from sklearn.linear_model import LogisticRegression\n",
    "from sklearn.model_selection import GridSearchCV\n",
    "from sklearn.metrics import f1_score"
   ]
  },
  {
   "cell_type": "code",
   "execution_count": 9,
   "metadata": {
    "_uuid": "09f588892fd7f021d693798efb12273a7877a755"
   },
   "outputs": [
    {
     "data": {
      "text/plain": [
       "GridSearchCV(cv=None, error_score='raise',\n",
       "       estimator=LogisticRegression(C=1.0, class_weight=None, dual=False, fit_intercept=True,\n",
       "          intercept_scaling=1, max_iter=100, multi_class='ovr', n_jobs=1,\n",
       "          penalty='l2', random_state=None, solver='liblinear', tol=0.0001,\n",
       "          verbose=0, warm_start=False),\n",
       "       fit_params={}, iid=True, n_jobs=2,\n",
       "       param_grid={'C': [0.001, 0.01, 0.1, 1, 10, 100, 1000]},\n",
       "       pre_dispatch='2*n_jobs', refit=True, return_train_score=True,\n",
       "       scoring=None, verbose=0)"
      ]
     },
     "execution_count": 9,
     "metadata": {},
     "output_type": "execute_result"
    }
   ],
   "source": [
    "#   GridsearchCV will build classifier specified (logistic regression),\n",
    "# with the optimal C value, with 3-fold cross validation by defalut. \n",
    "# So, we don't need to build a classifier again with this model..\n",
    "param_grid = {'C': [0.001, 0.01, 0.1, 1, 10, 100, 1000]}\n",
    "log_reg = LogisticRegression(penalty='l2')\n",
    "log_reg_grid_clf = GridSearchCV(log_reg, param_grid=param_grid,n_jobs=2)\n",
    "log_reg_grid_clf"
   ]
  },
  {
   "cell_type": "code",
   "execution_count": 10,
   "metadata": {
    "_uuid": "8bdd9b4a738e16d702acfc4f127de83212169a0f"
   },
   "outputs": [
    {
     "name": "stdout",
     "output_type": "stream",
     "text": [
      "Good Quality Dog Food I have bought several of the Vitality canned dog food products and have found them all to be of good quality. The product looks more like a stew than a processed meat and it smells better. My Labrador is finicky and she appreciates this product better than  most.\n",
      "\n",
      "[array(['most', 'this', 'appreciates', 'she', 'finicky', 'is', 'labrador',\n",
      "       'my', 'better', 'smells', 'it', 'meat', 'processed', 'than', 'stew',\n",
      "       'like', 'more', 'looks', 'product', 'be', 'to', 'all', 'them',\n",
      "       'found', 'and', 'products', 'canned', 'vitality', 'the', 'of',\n",
      "       'several', 'bought', 'have', 'food', 'dog', 'quality', 'good'], \n",
      "      dtype='<U124')]\n",
      "\n",
      "  (0, 74176)\t1\n",
      "  (0, 108779)\t1\n",
      "  (0, 9541)\t1\n",
      "  (0, 97878)\t1\n",
      "  (0, 47541)\t1\n",
      "  (0, 61725)\t1\n",
      "  (0, 65358)\t1\n",
      "  (0, 75122)\t1\n",
      "  (0, 20970)\t2\n",
      "  (0, 100122)\t1\n",
      "  (0, 61875)\t1\n",
      "  (0, 71077)\t1\n",
      "  (0, 87084)\t1\n",
      "  (0, 108307)\t2\n",
      "  (0, 103477)\t1\n",
      "  (0, 66977)\t1\n",
      "  (0, 73996)\t1\n",
      "  (0, 67944)\t1\n",
      "  (0, 87176)\t2\n",
      "  (0, 19907)\t1\n",
      "  (0, 109606)\t1\n",
      "  (0, 7492)\t1\n",
      "  (0, 108457)\t1\n",
      "  (0, 49181)\t1\n",
      "  (0, 8547)\t3\n",
      "  (0, 87199)\t1\n",
      "  (0, 25908)\t1\n",
      "  (0, 115789)\t1\n",
      "  (0, 108377)\t2\n",
      "  (0, 78426)\t2\n",
      "  (0, 97531)\t1\n",
      "  (0, 23056)\t1\n",
      "  (0, 55714)\t2\n",
      "  (0, 48731)\t2\n",
      "  (0, 40110)\t2\n",
      "  (0, 88814)\t2\n",
      "  (0, 52757)\t2\n"
     ]
    }
   ],
   "source": [
    "count_vec_total = CountVectorizer()\n",
    "\n",
    "x_data = count_vec_total.fit_transform(dataset.smry_txt)\n",
    "y_data = dataset['Score']\n",
    "\n",
    "y_data.head()\n",
    "\n",
    "print(dataset.iloc[0]['smry_txt'], end='\\n\\n')\n",
    "print(count_vec_total.inverse_transform(x_data[0]), end='\\n\\n')\n",
    "print(x_data[0])"
   ]
  },
  {
   "cell_type": "code",
   "execution_count": null,
   "metadata": {
    "_uuid": "b962971cf92d018d9f55386ce4cf5b5dccdac93f",
    "collapsed": true
   },
   "outputs": [],
   "source": [
    "#lets run GridsearchCV on our data\n",
    "log_reg_grid_clf.fit(x_data, y_data.values, verbose=10)"
   ]
  }
 ],
 "metadata": {
  "kernelspec": {
   "display_name": "Python 3",
   "language": "python",
   "name": "python3"
  },
  "language_info": {
   "codemirror_mode": {
    "name": "ipython",
    "version": 3
   },
   "file_extension": ".py",
   "mimetype": "text/x-python",
   "name": "python",
   "nbconvert_exporter": "python",
   "pygments_lexer": "ipython3",
   "version": "3.6.1"
  }
 },
 "nbformat": 4,
 "nbformat_minor": 1
}

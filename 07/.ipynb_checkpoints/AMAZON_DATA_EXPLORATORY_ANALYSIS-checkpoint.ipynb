{
 "cells": [
  {
   "cell_type": "code",
   "execution_count": 1,
   "metadata": {
    "collapsed": true
   },
   "outputs": [],
   "source": [
    "import pandas as pd\n",
    "reviews = pd.read_csv('reviews.csv')"
   ]
  },
  {
   "cell_type": "code",
   "execution_count": 2,
   "metadata": {
    "scrolled": false
   },
   "outputs": [
    {
     "data": {
      "text/html": [
       "<div>\n",
       "<style>\n",
       "    .dataframe thead tr:only-child th {\n",
       "        text-align: right;\n",
       "    }\n",
       "\n",
       "    .dataframe thead th {\n",
       "        text-align: left;\n",
       "    }\n",
       "\n",
       "    .dataframe tbody tr th {\n",
       "        vertical-align: top;\n",
       "    }\n",
       "</style>\n",
       "<table border=\"1\" class=\"dataframe\">\n",
       "  <thead>\n",
       "    <tr style=\"text-align: right;\">\n",
       "      <th></th>\n",
       "      <th>Id</th>\n",
       "      <th>ProductId</th>\n",
       "      <th>UserId</th>\n",
       "      <th>ProfileName</th>\n",
       "      <th>HelpfulnessNumerator</th>\n",
       "      <th>HelpfulnessDenominator</th>\n",
       "      <th>Score</th>\n",
       "      <th>Time</th>\n",
       "      <th>Summary</th>\n",
       "      <th>Text</th>\n",
       "    </tr>\n",
       "  </thead>\n",
       "  <tbody>\n",
       "    <tr>\n",
       "      <th>568453</th>\n",
       "      <td>568454</td>\n",
       "      <td>B001LR2CU2</td>\n",
       "      <td>A3LGQPJCZVL9UC</td>\n",
       "      <td>srfell17</td>\n",
       "      <td>0</td>\n",
       "      <td>0</td>\n",
       "      <td>5</td>\n",
       "      <td>1338422400</td>\n",
       "      <td>Great Honey</td>\n",
       "      <td>I am very satisfied ,product is as advertised,...</td>\n",
       "    </tr>\n",
       "  </tbody>\n",
       "</table>\n",
       "</div>"
      ],
      "text/plain": [
       "            Id   ProductId          UserId ProfileName  HelpfulnessNumerator  \\\n",
       "568453  568454  B001LR2CU2  A3LGQPJCZVL9UC    srfell17                     0   \n",
       "\n",
       "        HelpfulnessDenominator  Score        Time      Summary  \\\n",
       "568453                       0      5  1338422400  Great Honey   \n",
       "\n",
       "                                                     Text  \n",
       "568453  I am very satisfied ,product is as advertised,...  "
      ]
     },
     "execution_count": 2,
     "metadata": {},
     "output_type": "execute_result"
    }
   ],
   "source": [
    "reviews.iloc[-1:]"
   ]
  },
  {
   "cell_type": "code",
   "execution_count": 3,
   "metadata": {},
   "outputs": [
    {
     "data": {
      "text/plain": [
       "(568454, 10)"
      ]
     },
     "execution_count": 3,
     "metadata": {},
     "output_type": "execute_result"
    }
   ],
   "source": [
    "reviews.shape"
   ]
  },
  {
   "cell_type": "markdown",
   "metadata": {},
   "source": [
    "# 1. plot to show that 5-stars are more common in these dataset.."
   ]
  },
  {
   "cell_type": "code",
   "execution_count": 4,
   "metadata": {
    "collapsed": true
   },
   "outputs": [],
   "source": [
    "import matplotlib.pyplot as plt\n",
    "import seaborn as sns\n",
    "import numpy as np\n",
    "sns.set(font='DejaVu Sans')"
   ]
  },
  {
   "cell_type": "code",
   "execution_count": 7,
   "metadata": {},
   "outputs": [
    {
     "data": {
      "image/png": "[encoded data removed]",
      "text/plain": [
       "<matplotlib.figure.Figure at 0x7f0e435e2160>"
      ]
     },
     "metadata": {},
     "output_type": "display_data"
    }
   ],
   "source": [
    "ax = sns.countplot(data = reviews, x = \"Score\")\n",
    "\n",
    "# ax.get_yticks() : gives an numpy array of all the ylabels..\n",
    "ax.set_yticklabels(map('{:.1f}%'.format, 100*ax.get_yticks()/len(reviews['Score'])))\n",
    "plt.title('Plot that shows % of ratings in our dataset')\n",
    "plt.xlabel('Scores (ratings)')\n",
    "plt.ylabel('Percentages of Scores')\n",
    "plt.show()"
   ]
  },
  {
   "cell_type": "markdown",
   "metadata": {},
   "source": [
    " \n",
    " "
   ]
  },
  {
   "cell_type": "markdown",
   "metadata": {},
   "source": [
    " \n",
    " "
   ]
  },
  {
   "cell_type": "markdown",
   "metadata": {},
   "source": [
    "# 2. Plot to show that positive reviews are shorter"
   ]
  },
  {
   "cell_type": "code",
   "execution_count": 8,
   "metadata": {
    "scrolled": true
   },
   "outputs": [
    {
     "data": {
      "text/html": [
       "<div>\n",
       "<style>\n",
       "    .dataframe thead tr:only-child th {\n",
       "        text-align: right;\n",
       "    }\n",
       "\n",
       "    .dataframe thead th {\n",
       "        text-align: left;\n",
       "    }\n",
       "\n",
       "    .dataframe tbody tr th {\n",
       "        vertical-align: top;\n",
       "    }\n",
       "</style>\n",
       "<table border=\"1\" class=\"dataframe\">\n",
       "  <thead>\n",
       "    <tr style=\"text-align: right;\">\n",
       "      <th></th>\n",
       "      <th>Id</th>\n",
       "      <th>ProductId</th>\n",
       "      <th>UserId</th>\n",
       "      <th>ProfileName</th>\n",
       "      <th>HelpfulnessNumerator</th>\n",
       "      <th>HelpfulnessDenominator</th>\n",
       "      <th>Score</th>\n",
       "      <th>Time</th>\n",
       "      <th>Summary</th>\n",
       "      <th>Text</th>\n",
       "    </tr>\n",
       "  </thead>\n",
       "  <tbody>\n",
       "    <tr>\n",
       "      <th>568453</th>\n",
       "      <td>568454</td>\n",
       "      <td>B001LR2CU2</td>\n",
       "      <td>A3LGQPJCZVL9UC</td>\n",
       "      <td>srfell17</td>\n",
       "      <td>0</td>\n",
       "      <td>0</td>\n",
       "      <td>5</td>\n",
       "      <td>1338422400</td>\n",
       "      <td>Great Honey</td>\n",
       "      <td>I am very satisfied ,product is as advertised,...</td>\n",
       "    </tr>\n",
       "  </tbody>\n",
       "</table>\n",
       "</div>"
      ],
      "text/plain": [
       "            Id   ProductId          UserId ProfileName  HelpfulnessNumerator  \\\n",
       "568453  568454  B001LR2CU2  A3LGQPJCZVL9UC    srfell17                     0   \n",
       "\n",
       "        HelpfulnessDenominator  Score        Time      Summary  \\\n",
       "568453                       0      5  1338422400  Great Honey   \n",
       "\n",
       "                                                     Text  \n",
       "568453  I am very satisfied ,product is as advertised,...  "
      ]
     },
     "execution_count": 8,
     "metadata": {},
     "output_type": "execute_result"
    }
   ],
   "source": [
    "reviews.iloc[-1:]"
   ]
  },
  {
   "cell_type": "code",
   "execution_count": 9,
   "metadata": {
    "collapsed": true
   },
   "outputs": [],
   "source": [
    "df = reviews.filter(['Score', 'Text'],axis=1)"
   ]
  },
  {
   "cell_type": "code",
   "execution_count": 10,
   "metadata": {},
   "outputs": [
    {
     "data": {
      "text/html": [
       "<div>\n",
       "<style>\n",
       "    .dataframe thead tr:only-child th {\n",
       "        text-align: right;\n",
       "    }\n",
       "\n",
       "    .dataframe thead th {\n",
       "        text-align: left;\n",
       "    }\n",
       "\n",
       "    .dataframe tbody tr th {\n",
       "        vertical-align: top;\n",
       "    }\n",
       "</style>\n",
       "<table border=\"1\" class=\"dataframe\">\n",
       "  <thead>\n",
       "    <tr style=\"text-align: right;\">\n",
       "      <th></th>\n",
       "      <th>Score</th>\n",
       "      <th>Text</th>\n",
       "    </tr>\n",
       "  </thead>\n",
       "  <tbody>\n",
       "    <tr>\n",
       "      <th>0</th>\n",
       "      <td>5</td>\n",
       "      <td>I have bought several of the Vitality canned d...</td>\n",
       "    </tr>\n",
       "    <tr>\n",
       "      <th>1</th>\n",
       "      <td>1</td>\n",
       "      <td>Product arrived labeled as Jumbo Salted Peanut...</td>\n",
       "    </tr>\n",
       "    <tr>\n",
       "      <th>2</th>\n",
       "      <td>4</td>\n",
       "      <td>This is a confection that has been around a fe...</td>\n",
       "    </tr>\n",
       "    <tr>\n",
       "      <th>3</th>\n",
       "      <td>2</td>\n",
       "      <td>If you are looking for the secret ingredient i...</td>\n",
       "    </tr>\n",
       "    <tr>\n",
       "      <th>4</th>\n",
       "      <td>5</td>\n",
       "      <td>Great taffy at a great price.  There was a wid...</td>\n",
       "    </tr>\n",
       "  </tbody>\n",
       "</table>\n",
       "</div>"
      ],
      "text/plain": [
       "   Score                                               Text\n",
       "0      5  I have bought several of the Vitality canned d...\n",
       "1      1  Product arrived labeled as Jumbo Salted Peanut...\n",
       "2      4  This is a confection that has been around a fe...\n",
       "3      2  If you are looking for the secret ingredient i...\n",
       "4      5  Great taffy at a great price.  There was a wid..."
      ]
     },
     "execution_count": 10,
     "metadata": {},
     "output_type": "execute_result"
    }
   ],
   "source": [
    "df[:5]"
   ]
  },
  {
   "cell_type": "code",
   "execution_count": 11,
   "metadata": {
    "collapsed": true
   },
   "outputs": [],
   "source": [
    "# creating new column that specifies the length of the review\n",
    "df['word_count'] = df['Text'].apply(lambda x: len(x.split()))"
   ]
  },
  {
   "cell_type": "code",
   "execution_count": 12,
   "metadata": {},
   "outputs": [
    {
     "data": {
      "text/html": [
       "<div>\n",
       "<style>\n",
       "    .dataframe thead tr:only-child th {\n",
       "        text-align: right;\n",
       "    }\n",
       "\n",
       "    .dataframe thead th {\n",
       "        text-align: left;\n",
       "    }\n",
       "\n",
       "    .dataframe tbody tr th {\n",
       "        vertical-align: top;\n",
       "    }\n",
       "</style>\n",
       "<table border=\"1\" class=\"dataframe\">\n",
       "  <thead>\n",
       "    <tr style=\"text-align: right;\">\n",
       "      <th></th>\n",
       "      <th>Score</th>\n",
       "      <th>Text</th>\n",
       "      <th>word_count</th>\n",
       "    </tr>\n",
       "  </thead>\n",
       "  <tbody>\n",
       "    <tr>\n",
       "      <th>23</th>\n",
       "      <td>5</td>\n",
       "      <td>I love this candy.  After weight watchers I ha...</td>\n",
       "      <td>19</td>\n",
       "    </tr>\n",
       "    <tr>\n",
       "      <th>24</th>\n",
       "      <td>5</td>\n",
       "      <td>I have lived out of the US for over 7 yrs now,...</td>\n",
       "      <td>59</td>\n",
       "    </tr>\n",
       "    <tr>\n",
       "      <th>25</th>\n",
       "      <td>5</td>\n",
       "      <td>Product received is as advertised.&lt;br /&gt;&lt;br /&gt;...</td>\n",
       "      <td>14</td>\n",
       "    </tr>\n",
       "    <tr>\n",
       "      <th>26</th>\n",
       "      <td>1</td>\n",
       "      <td>The candy is just red , No flavor . Just  plan...</td>\n",
       "      <td>20</td>\n",
       "    </tr>\n",
       "    <tr>\n",
       "      <th>27</th>\n",
       "      <td>4</td>\n",
       "      <td>I was so glad Amazon carried these batteries. ...</td>\n",
       "      <td>36</td>\n",
       "    </tr>\n",
       "    <tr>\n",
       "      <th>28</th>\n",
       "      <td>5</td>\n",
       "      <td>I got this for my Mum who is not diabetic but ...</td>\n",
       "      <td>94</td>\n",
       "    </tr>\n",
       "    <tr>\n",
       "      <th>29</th>\n",
       "      <td>5</td>\n",
       "      <td>I don't know if it's the cactus or the tequila...</td>\n",
       "      <td>146</td>\n",
       "    </tr>\n",
       "    <tr>\n",
       "      <th>30</th>\n",
       "      <td>5</td>\n",
       "      <td>I have never been a huge coffee fan. However, ...</td>\n",
       "      <td>89</td>\n",
       "    </tr>\n",
       "    <tr>\n",
       "      <th>31</th>\n",
       "      <td>5</td>\n",
       "      <td>This offer is a great price and a great taste,...</td>\n",
       "      <td>18</td>\n",
       "    </tr>\n",
       "  </tbody>\n",
       "</table>\n",
       "</div>"
      ],
      "text/plain": [
       "    Score                                               Text  word_count\n",
       "23      5  I love this candy.  After weight watchers I ha...          19\n",
       "24      5  I have lived out of the US for over 7 yrs now,...          59\n",
       "25      5  Product received is as advertised.<br /><br />...          14\n",
       "26      1  The candy is just red , No flavor . Just  plan...          20\n",
       "27      4  I was so glad Amazon carried these batteries. ...          36\n",
       "28      5  I got this for my Mum who is not diabetic but ...          94\n",
       "29      5  I don't know if it's the cactus or the tequila...         146\n",
       "30      5  I have never been a huge coffee fan. However, ...          89\n",
       "31      5  This offer is a great price and a great taste,...          18"
      ]
     },
     "execution_count": 12,
     "metadata": {},
     "output_type": "execute_result"
    }
   ],
   "source": [
    "df[23:32]"
   ]
  },
  {
   "cell_type": "code",
   "execution_count": 13,
   "metadata": {
    "collapsed": true
   },
   "outputs": [],
   "source": [
    "# deleting rows that are having 3 as their rating...\n",
    "df.drop(df[df['Score'] == 3].index, inplace=True)"
   ]
  },
  {
   "cell_type": "code",
   "execution_count": 14,
   "metadata": {
    "collapsed": true
   },
   "outputs": [],
   "source": [
    "# replacing scores as Positive(4,5) and Negative(1,2)\n",
    "df['Score'] = df['Score'].replace([1,2], 'Negative')\n",
    "df['Score'] = df['Score'].replace([4,5], 'Positive')"
   ]
  },
  {
   "cell_type": "code",
   "execution_count": 15,
   "metadata": {},
   "outputs": [
    {
     "data": {
      "text/html": [
       "<div>\n",
       "<style>\n",
       "    .dataframe thead tr:only-child th {\n",
       "        text-align: right;\n",
       "    }\n",
       "\n",
       "    .dataframe thead th {\n",
       "        text-align: left;\n",
       "    }\n",
       "\n",
       "    .dataframe tbody tr th {\n",
       "        vertical-align: top;\n",
       "    }\n",
       "</style>\n",
       "<table border=\"1\" class=\"dataframe\">\n",
       "  <thead>\n",
       "    <tr style=\"text-align: right;\">\n",
       "      <th></th>\n",
       "      <th>Score</th>\n",
       "      <th>Text</th>\n",
       "      <th>word_count</th>\n",
       "    </tr>\n",
       "  </thead>\n",
       "  <tbody>\n",
       "    <tr>\n",
       "      <th>0</th>\n",
       "      <td>Positive</td>\n",
       "      <td>I have bought several of the Vitality canned d...</td>\n",
       "      <td>48</td>\n",
       "    </tr>\n",
       "    <tr>\n",
       "      <th>1</th>\n",
       "      <td>Negative</td>\n",
       "      <td>Product arrived labeled as Jumbo Salted Peanut...</td>\n",
       "      <td>31</td>\n",
       "    </tr>\n",
       "    <tr>\n",
       "      <th>2</th>\n",
       "      <td>Positive</td>\n",
       "      <td>This is a confection that has been around a fe...</td>\n",
       "      <td>94</td>\n",
       "    </tr>\n",
       "  </tbody>\n",
       "</table>\n",
       "</div>"
      ],
      "text/plain": [
       "      Score                                               Text  word_count\n",
       "0  Positive  I have bought several of the Vitality canned d...          48\n",
       "1  Negative  Product arrived labeled as Jumbo Salted Peanut...          31\n",
       "2  Positive  This is a confection that has been around a fe...          94"
      ]
     },
     "execution_count": 15,
     "metadata": {},
     "output_type": "execute_result"
    }
   ],
   "source": [
    "df[:3]"
   ]
  },
  {
   "cell_type": "code",
   "execution_count": 16,
   "metadata": {
    "collapsed": true
   },
   "outputs": [],
   "source": [
    "# normalize the word count to get better results in box plot..\n",
    "\n",
    "# min_word_count = df['word_count'].min()\n",
    "# max_word_count = df['word_count'].max()\n",
    "# df['word_count'] = df['word_count'].apply(lambda x: (x-min_word_count)/(max_word_count-min_word_count))"
   ]
  },
  {
   "cell_type": "code",
   "execution_count": 17,
   "metadata": {},
   "outputs": [
    {
     "data": {
      "text/plain": [
       "(3, 2520)"
      ]
     },
     "execution_count": 17,
     "metadata": {},
     "output_type": "execute_result"
    }
   ],
   "source": [
    "min(df['word_count']), max(df['word_count'])"
   ]
  },
  {
   "cell_type": "code",
   "execution_count": 18,
   "metadata": {},
   "outputs": [
    {
     "data": {
      "image/png": "[encoded data removed]",
      "text/plain": [
       "<matplotlib.figure.Figure at 0x7f0e228d4160>"
      ]
     },
     "metadata": {},
     "output_type": "display_data"
    }
   ],
   "source": [
    "sns.boxplot(data=df, x='Score', y='word_count', showfliers=False)\n",
    "plt.show()"
   ]
  },
  {
   "cell_type": "code",
   "execution_count": 19,
   "metadata": {},
   "outputs": [
    {
     "name": "stdout",
     "output_type": "stream",
     "text": [
      "      Score                                               Text  word_count\n",
      "0  Positive  I have bought several of the Vitality canned d...          48\n",
      "2  Positive  This is a confection that has been around a fe...          94\n",
      "      Score                                               Text  word_count\n",
      "1  Negative  Product arrived labeled as Jumbo Salted Peanut...          31\n",
      "3  Negative  If you are looking for the secret ingredient i...          41\n"
     ]
    }
   ],
   "source": [
    "positive = df.drop(df[df['Score'] == 'Negative'].index)\n",
    "positive.drop_duplicates(inplace=True)\n",
    "print(positive[:2])\n",
    "negative = df.drop(df[df['Score'] == 'Positive'].index)\n",
    "negative.drop_duplicates(inplace=True)\n",
    "print(negative[:2])\n",
    "# plt.hist(df['word_count'], bins=100)\n",
    "# plt.show()"
   ]
  },
  {
   "cell_type": "code",
   "execution_count": 20,
   "metadata": {},
   "outputs": [
    {
     "data": {
      "image/png": "[encoded data removed]",
      "text/plain": [
       "<matplotlib.figure.Figure at 0x7f0e1ceec128>"
      ]
     },
     "metadata": {},
     "output_type": "display_data"
    }
   ],
   "source": [
    "plt.hist([positive['word_count'], negative['word_count']], label=['Positive', 'Negative'], bins=range(0,100,10))\n",
    "plt.xlabel('Word Counts')\n",
    "plt.ylabel('Word Count Frequecy')\n",
    "plt.legend()\n",
    "plt.show()"
   ]
  },
  {
   "cell_type": "markdown",
   "metadata": {},
   "source": [
    "### From the above histogram we can say that\n",
    "1. Positive reviews that has less than 20 words are more than 50,000.\n",
    "2. We can say that most of the positive reviews are shorter.."
   ]
  },
  {
   "cell_type": "markdown",
   "metadata": {},
   "source": [
    " \n",
    " "
   ]
  },
  {
   "cell_type": "markdown",
   "metadata": {},
   "source": [
    "# 3. Plot to show that Longer reviews are more helpful."
   ]
  },
  {
   "cell_type": "code",
   "execution_count": 21,
   "metadata": {
    "collapsed": true
   },
   "outputs": [],
   "source": [
    "df = reviews.filter(['Score', 'Text', 'HelpfulnessNumerator', 'HelpfulnessDenominator'],axis=1)"
   ]
  },
  {
   "cell_type": "code",
   "execution_count": 22,
   "metadata": {
    "collapsed": true
   },
   "outputs": [],
   "source": [
    "def help_or_not(x):\n",
    "    if x >= 0.75:\n",
    "        return 'Helpful (>75%)'\n",
    "    elif x <= 0.25:\n",
    "        return 'Not Helpful (<25%)'\n",
    "    else:\n",
    "        return 'useless'"
   ]
  },
  {
   "cell_type": "code",
   "execution_count": 23,
   "metadata": {
    "collapsed": true
   },
   "outputs": [],
   "source": [
    "# creating new column that specifies the length of the review\n",
    "df['word_count'] = df['Text'].apply(lambda x: len(x.split()))\n",
    "\n",
    "# deleting rows that are having 3 as their rating...\n",
    "df.drop(df[df['Score'] == 3].index, inplace=True)\n",
    "#delete the rows that has helpfulnessdenominator as 0\n",
    "df.drop(df[df['HelpfulnessDenominator']==0].index,inplace=True)\n",
    "\n",
    "# replacing scores as Positive(4,5) and Negative(1,2)\n",
    "df['Score'] = df['Score'].replace([1,2], 'Negative')\n",
    "df['Score'] = df['Score'].replace([4,5], 'Positive')\n",
    "\n",
    "# crete helpfulness ratio column in the dataframe\n",
    "df['help_ratio'] = df['HelpfulnessNumerator'] / df['HelpfulnessDenominator']\n",
    "df['helpfulness'] = df['help_ratio'].apply(help_or_not)\n"
   ]
  },
  {
   "cell_type": "code",
   "execution_count": 24,
   "metadata": {
    "collapsed": true
   },
   "outputs": [],
   "source": [
    "indices = df[df['helpfulness'] == 'useless'].index\n",
    "df.drop(indices, inplace=True)"
   ]
  },
  {
   "cell_type": "code",
   "execution_count": 25,
   "metadata": {},
   "outputs": [
    {
     "data": {
      "text/html": [
       "<div>\n",
       "<style>\n",
       "    .dataframe thead tr:only-child th {\n",
       "        text-align: right;\n",
       "    }\n",
       "\n",
       "    .dataframe thead th {\n",
       "        text-align: left;\n",
       "    }\n",
       "\n",
       "    .dataframe tbody tr th {\n",
       "        vertical-align: top;\n",
       "    }\n",
       "</style>\n",
       "<table border=\"1\" class=\"dataframe\">\n",
       "  <thead>\n",
       "    <tr style=\"text-align: right;\">\n",
       "      <th></th>\n",
       "      <th>Score</th>\n",
       "      <th>Text</th>\n",
       "      <th>HelpfulnessNumerator</th>\n",
       "      <th>HelpfulnessDenominator</th>\n",
       "      <th>word_count</th>\n",
       "      <th>help_ratio</th>\n",
       "      <th>helpfulness</th>\n",
       "    </tr>\n",
       "  </thead>\n",
       "  <tbody>\n",
       "    <tr>\n",
       "      <th>568435</th>\n",
       "      <td>Negative</td>\n",
       "      <td>It is mostly broth, with the advertised 3/4 cu...</td>\n",
       "      <td>0</td>\n",
       "      <td>2</td>\n",
       "      <td>60</td>\n",
       "      <td>0.0</td>\n",
       "      <td>Not Helpful (&lt;25%)</td>\n",
       "    </tr>\n",
       "    <tr>\n",
       "      <th>568436</th>\n",
       "      <td>Positive</td>\n",
       "      <td>In the past, I would have to buy a large quant...</td>\n",
       "      <td>10</td>\n",
       "      <td>10</td>\n",
       "      <td>33</td>\n",
       "      <td>1.0</td>\n",
       "      <td>Helpful (&gt;75%)</td>\n",
       "    </tr>\n",
       "    <tr>\n",
       "      <th>568437</th>\n",
       "      <td>Positive</td>\n",
       "      <td>Ammonium bicarbonate in a nice little package....</td>\n",
       "      <td>4</td>\n",
       "      <td>4</td>\n",
       "      <td>21</td>\n",
       "      <td>1.0</td>\n",
       "      <td>Helpful (&gt;75%)</td>\n",
       "    </tr>\n",
       "    <tr>\n",
       "      <th>568438</th>\n",
       "      <td>Positive</td>\n",
       "      <td>If you haven't ever used Ammonium Bicarbonate ...</td>\n",
       "      <td>3</td>\n",
       "      <td>3</td>\n",
       "      <td>47</td>\n",
       "      <td>1.0</td>\n",
       "      <td>Helpful (&gt;75%)</td>\n",
       "    </tr>\n",
       "    <tr>\n",
       "      <th>568439</th>\n",
       "      <td>Positive</td>\n",
       "      <td>We need this for a recipe my wife is intereste...</td>\n",
       "      <td>0</td>\n",
       "      <td>5</td>\n",
       "      <td>22</td>\n",
       "      <td>0.0</td>\n",
       "      <td>Not Helpful (&lt;25%)</td>\n",
       "    </tr>\n",
       "    <tr>\n",
       "      <th>568440</th>\n",
       "      <td>Positive</td>\n",
       "      <td>Indie Candy's gummies are absolutely delicious...</td>\n",
       "      <td>1</td>\n",
       "      <td>1</td>\n",
       "      <td>150</td>\n",
       "      <td>1.0</td>\n",
       "      <td>Helpful (&gt;75%)</td>\n",
       "    </tr>\n",
       "    <tr>\n",
       "      <th>568444</th>\n",
       "      <td>Positive</td>\n",
       "      <td>As a foodie, I use a lot of Chinese 5 Spice po...</td>\n",
       "      <td>3</td>\n",
       "      <td>3</td>\n",
       "      <td>34</td>\n",
       "      <td>1.0</td>\n",
       "      <td>Helpful (&gt;75%)</td>\n",
       "    </tr>\n",
       "    <tr>\n",
       "      <th>568445</th>\n",
       "      <td>Positive</td>\n",
       "      <td>You can make this mix yourself, but the Star A...</td>\n",
       "      <td>2</td>\n",
       "      <td>2</td>\n",
       "      <td>54</td>\n",
       "      <td>1.0</td>\n",
       "      <td>Helpful (&gt;75%)</td>\n",
       "    </tr>\n",
       "    <tr>\n",
       "      <th>568451</th>\n",
       "      <td>Positive</td>\n",
       "      <td>These stars are small, so you can give 10-15 o...</td>\n",
       "      <td>2</td>\n",
       "      <td>2</td>\n",
       "      <td>66</td>\n",
       "      <td>1.0</td>\n",
       "      <td>Helpful (&gt;75%)</td>\n",
       "    </tr>\n",
       "    <tr>\n",
       "      <th>568452</th>\n",
       "      <td>Positive</td>\n",
       "      <td>These are the BEST treats for training and rew...</td>\n",
       "      <td>1</td>\n",
       "      <td>1</td>\n",
       "      <td>35</td>\n",
       "      <td>1.0</td>\n",
       "      <td>Helpful (&gt;75%)</td>\n",
       "    </tr>\n",
       "  </tbody>\n",
       "</table>\n",
       "</div>"
      ],
      "text/plain": [
       "           Score                                               Text  \\\n",
       "568435  Negative  It is mostly broth, with the advertised 3/4 cu...   \n",
       "568436  Positive  In the past, I would have to buy a large quant...   \n",
       "568437  Positive  Ammonium bicarbonate in a nice little package....   \n",
       "568438  Positive  If you haven't ever used Ammonium Bicarbonate ...   \n",
       "568439  Positive  We need this for a recipe my wife is intereste...   \n",
       "568440  Positive  Indie Candy's gummies are absolutely delicious...   \n",
       "568444  Positive  As a foodie, I use a lot of Chinese 5 Spice po...   \n",
       "568445  Positive  You can make this mix yourself, but the Star A...   \n",
       "568451  Positive  These stars are small, so you can give 10-15 o...   \n",
       "568452  Positive  These are the BEST treats for training and rew...   \n",
       "\n",
       "        HelpfulnessNumerator  HelpfulnessDenominator  word_count  help_ratio  \\\n",
       "568435                     0                       2          60         0.0   \n",
       "568436                    10                      10          33         1.0   \n",
       "568437                     4                       4          21         1.0   \n",
       "568438                     3                       3          47         1.0   \n",
       "568439                     0                       5          22         0.0   \n",
       "568440                     1                       1         150         1.0   \n",
       "568444                     3                       3          34         1.0   \n",
       "568445                     2                       2          54         1.0   \n",
       "568451                     2                       2          66         1.0   \n",
       "568452                     1                       1          35         1.0   \n",
       "\n",
       "               helpfulness  \n",
       "568435  Not Helpful (<25%)  \n",
       "568436      Helpful (>75%)  \n",
       "568437      Helpful (>75%)  \n",
       "568438      Helpful (>75%)  \n",
       "568439  Not Helpful (<25%)  \n",
       "568440      Helpful (>75%)  \n",
       "568444      Helpful (>75%)  \n",
       "568445      Helpful (>75%)  \n",
       "568451      Helpful (>75%)  \n",
       "568452      Helpful (>75%)  "
      ]
     },
     "execution_count": 25,
     "metadata": {},
     "output_type": "execute_result"
    }
   ],
   "source": [
    "df.tail(10)"
   ]
  },
  {
   "cell_type": "code",
   "execution_count": 26,
   "metadata": {
    "scrolled": true
   },
   "outputs": [
    {
     "data": {
      "image/png": "[encoded data removed]",
      "text/plain": [
       "<matplotlib.figure.Figure at 0x7f0e1e24c208>"
      ]
     },
     "metadata": {},
     "output_type": "display_data"
    }
   ],
   "source": [
    "sns.boxplot(data=df, x='helpfulness', y='word_count', showfliers=False)\n",
    "plt.show()"
   ]
  },
  {
   "cell_type": "markdown",
   "metadata": {},
   "source": [
    " "
   ]
  },
  {
   "cell_type": "markdown",
   "metadata": {},
   "source": [
    " "
   ]
  },
  {
   "cell_type": "markdown",
   "metadata": {},
   "source": [
    " "
   ]
  },
  {
   "cell_type": "markdown",
   "metadata": {},
   "source": [
    "# 4. positive reviews are found more helpful,  irrespective more common or shorter "
   ]
  },
  {
   "cell_type": "code",
   "execution_count": 27,
   "metadata": {},
   "outputs": [],
   "source": [
    "positive_helpfulness = df.loc[df['Score']=='Positive'].help_ratio\n",
    "negative_helpfulness = df.loc[df['Score'] == 'Negative'].help_ratio"
   ]
  },
  {
   "cell_type": "code",
   "execution_count": 28,
   "metadata": {},
   "outputs": [
    {
     "data": {
      "image/png": "[encoded data removed]",
      "text/plain": [
       "<matplotlib.figure.Figure at 0x7f0e1de65eb8>"
      ]
     },
     "metadata": {},
     "output_type": "display_data"
    }
   ],
   "source": [
    "bins=[0.8,1.0,1.2,1.3]\n",
    "colors = ['g','r']\n",
    "plt.hist([positive_helpfulness, negative_helpfulness], label=['Positive', 'Negative'],bins=bins,color=colors)\n",
    "plt.xlabel('Helpfulness Ratio')\n",
    "plt.ylabel('Helpfulness Frequency')\n",
    "plt.legend()\n",
    "plt.show()"
   ]
  },
  {
   "cell_type": "markdown",
   "metadata": {},
   "source": [
    " \n",
    " "
   ]
  },
  {
   "cell_type": "markdown",
   "metadata": {},
   "source": [
    " \n",
    " "
   ]
  },
  {
   "cell_type": "markdown",
   "metadata": {},
   "source": [
    " \n",
    " "
   ]
  },
  {
   "cell_type": "markdown",
   "metadata": {},
   "source": [
    " \n",
    " "
   ]
  },
  {
   "cell_type": "markdown",
   "metadata": {},
   "source": [
    "# 5. Frequent reviewers in their ratings, write longer reviews, and write more helpful reviews. "
   ]
  },
  {
   "cell_type": "markdown",
   "metadata": {},
   "source": [
    "## 5.1 They are more verbose"
   ]
  },
  {
   "cell_type": "code",
   "execution_count": 48,
   "metadata": {},
   "outputs": [],
   "source": [
    "df = reviews.filter(['UserId','Score', 'Text', 'HelpfulnessNumerator', 'HelpfulnessDenominator'],axis=1)"
   ]
  },
  {
   "cell_type": "code",
   "execution_count": 50,
   "metadata": {},
   "outputs": [
    {
     "data": {
      "text/html": [
       "<div>\n",
       "<style>\n",
       "    .dataframe thead tr:only-child th {\n",
       "        text-align: right;\n",
       "    }\n",
       "\n",
       "    .dataframe thead th {\n",
       "        text-align: left;\n",
       "    }\n",
       "\n",
       "    .dataframe tbody tr th {\n",
       "        vertical-align: top;\n",
       "    }\n",
       "</style>\n",
       "<table border=\"1\" class=\"dataframe\">\n",
       "  <thead>\n",
       "    <tr style=\"text-align: right;\">\n",
       "      <th></th>\n",
       "      <th>UserId</th>\n",
       "      <th>Score</th>\n",
       "      <th>Text</th>\n",
       "      <th>HelpfulnessNumerator</th>\n",
       "      <th>HelpfulnessDenominator</th>\n",
       "    </tr>\n",
       "  </thead>\n",
       "  <tbody>\n",
       "    <tr>\n",
       "      <th>6206</th>\n",
       "      <td>A3GQSZ2RVVXDCZ</td>\n",
       "      <td>4</td>\n",
       "      <td>Finally, an affordable flavored coffee worth d...</td>\n",
       "      <td>0</td>\n",
       "      <td>0</td>\n",
       "    </tr>\n",
       "  </tbody>\n",
       "</table>\n",
       "</div>"
      ],
      "text/plain": [
       "              UserId  Score  \\\n",
       "6206  A3GQSZ2RVVXDCZ      4   \n",
       "\n",
       "                                                   Text  HelpfulnessNumerator  \\\n",
       "6206  Finally, an affordable flavored coffee worth d...                     0   \n",
       "\n",
       "      HelpfulnessDenominator  \n",
       "6206                       0  "
      ]
     },
     "execution_count": 50,
     "metadata": {},
     "output_type": "execute_result"
    }
   ],
   "source": [
    "df.sample()"
   ]
  },
  {
   "cell_type": "code",
   "execution_count": 22,
   "metadata": {
    "collapsed": true
   },
   "outputs": [],
   "source": [
    "def help_or_not(x):\n",
    "    if x >= 0.75:\n",
    "        return 'Helpful (>75%)'\n",
    "    elif x <= 0.25:\n",
    "        return 'Not Helpful (<25%)'\n",
    "    else:\n",
    "        return 'useless'"
   ]
  },
  {
   "cell_type": "code",
   "execution_count": 51,
   "metadata": {
    "collapsed": true
   },
   "outputs": [],
   "source": [
    "# creating new column that specifies the length of the review\n",
    "df['word_count'] = df['Text'].apply(lambda x: len(x.split()))"
   ]
  },
  {
   "cell_type": "markdown",
   "metadata": {},
   "source": [
    " \n",
    " "
   ]
  },
  {
   "cell_type": "code",
   "execution_count": 22,
   "metadata": {
    "collapsed": true
   },
   "outputs": [],
   "source": [
    "def help_or_not(x):\n",
    "    if x >= 0.75:\n",
    "        return 'Helpful (>75%)'\n",
    "    elif x <= 0.25:\n",
    "        return 'Not Helpful (<25%)'\n",
    "    else:\n",
    "        return 'useless'"
   ]
  },
  {
   "cell_type": "code",
   "execution_count": 54,
   "metadata": {
    "collapsed": true
   },
   "outputs": [],
   "source": [
    "# creating new column that specifies the length of the review\n",
    "df['word_count'] = df['Text'].apply(lambda x: len(x.split()))\n"
   ]
  },
  {
   "cell_type": "code",
   "execution_count": 55,
   "metadata": {},
   "outputs": [
    {
     "data": {
      "text/html": [
       "<div>\n",
       "<style>\n",
       "    .dataframe thead tr:only-child th {\n",
       "        text-align: right;\n",
       "    }\n",
       "\n",
       "    .dataframe thead th {\n",
       "        text-align: left;\n",
       "    }\n",
       "\n",
       "    .dataframe tbody tr th {\n",
       "        vertical-align: top;\n",
       "    }\n",
       "</style>\n",
       "<table border=\"1\" class=\"dataframe\">\n",
       "  <thead>\n",
       "    <tr style=\"text-align: right;\">\n",
       "      <th></th>\n",
       "      <th>UserId</th>\n",
       "      <th>Score</th>\n",
       "      <th>Text</th>\n",
       "      <th>HelpfulnessNumerator</th>\n",
       "      <th>HelpfulnessDenominator</th>\n",
       "      <th>word_count</th>\n",
       "    </tr>\n",
       "  </thead>\n",
       "  <tbody>\n",
       "    <tr>\n",
       "      <th>0</th>\n",
       "      <td>A3SGXH7AUHU8GW</td>\n",
       "      <td>5</td>\n",
       "      <td>I have bought several of the Vitality canned d...</td>\n",
       "      <td>1</td>\n",
       "      <td>1</td>\n",
       "      <td>48</td>\n",
       "    </tr>\n",
       "    <tr>\n",
       "      <th>1</th>\n",
       "      <td>A1D87F6ZCVE5NK</td>\n",
       "      <td>1</td>\n",
       "      <td>Product arrived labeled as Jumbo Salted Peanut...</td>\n",
       "      <td>0</td>\n",
       "      <td>0</td>\n",
       "      <td>31</td>\n",
       "    </tr>\n",
       "    <tr>\n",
       "      <th>2</th>\n",
       "      <td>ABXLMWJIXXAIN</td>\n",
       "      <td>4</td>\n",
       "      <td>This is a confection that has been around a fe...</td>\n",
       "      <td>1</td>\n",
       "      <td>1</td>\n",
       "      <td>94</td>\n",
       "    </tr>\n",
       "    <tr>\n",
       "      <th>3</th>\n",
       "      <td>A395BORC6FGVXV</td>\n",
       "      <td>2</td>\n",
       "      <td>If you are looking for the secret ingredient i...</td>\n",
       "      <td>3</td>\n",
       "      <td>3</td>\n",
       "      <td>41</td>\n",
       "    </tr>\n",
       "    <tr>\n",
       "      <th>4</th>\n",
       "      <td>A1UQRSCLF8GW1T</td>\n",
       "      <td>5</td>\n",
       "      <td>Great taffy at a great price.  There was a wid...</td>\n",
       "      <td>0</td>\n",
       "      <td>0</td>\n",
       "      <td>27</td>\n",
       "    </tr>\n",
       "  </tbody>\n",
       "</table>\n",
       "</div>"
      ],
      "text/plain": [
       "           UserId  Score                                               Text  \\\n",
       "0  A3SGXH7AUHU8GW      5  I have bought several of the Vitality canned d...   \n",
       "1  A1D87F6ZCVE5NK      1  Product arrived labeled as Jumbo Salted Peanut...   \n",
       "2   ABXLMWJIXXAIN      4  This is a confection that has been around a fe...   \n",
       "3  A395BORC6FGVXV      2  If you are looking for the secret ingredient i...   \n",
       "4  A1UQRSCLF8GW1T      5  Great taffy at a great price.  There was a wid...   \n",
       "\n",
       "   HelpfulnessNumerator  HelpfulnessDenominator  word_count  \n",
       "0                     1                       1          48  \n",
       "1                     0                       0          31  \n",
       "2                     1                       1          94  \n",
       "3                     3                       3          41  \n",
       "4                     0                       0          27  "
      ]
     },
     "execution_count": 55,
     "metadata": {},
     "output_type": "execute_result"
    }
   ],
   "source": [
    "df.head()"
   ]
  },
  {
   "cell_type": "code",
   "execution_count": 86,
   "metadata": {},
   "outputs": [],
   "source": [
    "user_group = df.groupby('UserId')"
   ]
  },
  {
   "cell_type": "code",
   "execution_count": 154,
   "metadata": {},
   "outputs": [],
   "source": [
    "freq_reviewers = user_group.agg({'word_count':'median', 'UserId':'count'})"
   ]
  },
  {
   "cell_type": "code",
   "execution_count": 155,
   "metadata": {},
   "outputs": [],
   "source": [
    "freq_reviewers = freq_reviewers.rename(index=str, columns={\"word_count\": \"avg_words\", \"UserId\": \"user_frequency\"})"
   ]
  },
  {
   "cell_type": "code",
   "execution_count": 156,
   "metadata": {},
   "outputs": [],
   "source": [
    "freq_reviewers.reset_index(inplace=True)"
   ]
  },
  {
   "cell_type": "code",
   "execution_count": 157,
   "metadata": {},
   "outputs": [
    {
     "data": {
      "text/html": [
       "<div>\n",
       "<style>\n",
       "    .dataframe thead tr:only-child th {\n",
       "        text-align: right;\n",
       "    }\n",
       "\n",
       "    .dataframe thead th {\n",
       "        text-align: left;\n",
       "    }\n",
       "\n",
       "    .dataframe tbody tr th {\n",
       "        vertical-align: top;\n",
       "    }\n",
       "</style>\n",
       "<table border=\"1\" class=\"dataframe\">\n",
       "  <thead>\n",
       "    <tr style=\"text-align: right;\">\n",
       "      <th></th>\n",
       "      <th>UserId</th>\n",
       "      <th>avg_words</th>\n",
       "      <th>user_frequency</th>\n",
       "    </tr>\n",
       "  </thead>\n",
       "  <tbody>\n",
       "    <tr>\n",
       "      <th>53131</th>\n",
       "      <td>A1S7BAW4MIAKT1</td>\n",
       "      <td>48.0</td>\n",
       "      <td>1</td>\n",
       "    </tr>\n",
       "    <tr>\n",
       "      <th>240200</th>\n",
       "      <td>ARNPHPJFGZB6B</td>\n",
       "      <td>58.0</td>\n",
       "      <td>1</td>\n",
       "    </tr>\n",
       "    <tr>\n",
       "      <th>224613</th>\n",
       "      <td>AJE2KAL3D0BNA</td>\n",
       "      <td>18.0</td>\n",
       "      <td>2</td>\n",
       "    </tr>\n",
       "    <tr>\n",
       "      <th>106099</th>\n",
       "      <td>A2KCIUIR9UYER4</td>\n",
       "      <td>167.0</td>\n",
       "      <td>1</td>\n",
       "    </tr>\n",
       "    <tr>\n",
       "      <th>223544</th>\n",
       "      <td>AIVFIO981N2ZP</td>\n",
       "      <td>48.0</td>\n",
       "      <td>1</td>\n",
       "    </tr>\n",
       "  </tbody>\n",
       "</table>\n",
       "</div>"
      ],
      "text/plain": [
       "                UserId  avg_words  user_frequency\n",
       "53131   A1S7BAW4MIAKT1       48.0               1\n",
       "240200   ARNPHPJFGZB6B       58.0               1\n",
       "224613   AJE2KAL3D0BNA       18.0               2\n",
       "106099  A2KCIUIR9UYER4      167.0               1\n",
       "223544   AIVFIO981N2ZP       48.0               1"
      ]
     },
     "execution_count": 157,
     "metadata": {},
     "output_type": "execute_result"
    }
   ],
   "source": [
    "freq_reviewers.sample(5)"
   ]
  },
  {
   "cell_type": "code",
   "execution_count": 158,
   "metadata": {
    "collapsed": true
   },
   "outputs": [],
   "source": [
    "def frequentORnonfrequent(x):\n",
    "    if x > 50:\n",
    "        return 'Frequet Reviewer (>50)'\n",
    "    else:\n",
    "        return 'Non Frequent Reviewer (<=50)'"
   ]
  },
  {
   "cell_type": "code",
   "execution_count": 159,
   "metadata": {
    "collapsed": true
   },
   "outputs": [],
   "source": [
    "freq_reviewers['freq_or_not'] = freq_reviewers.user_frequency.apply(frequentORnonfrequent)"
   ]
  },
  {
   "cell_type": "code",
   "execution_count": 160,
   "metadata": {},
   "outputs": [
    {
     "data": {
      "text/html": [
       "<div>\n",
       "<style>\n",
       "    .dataframe thead tr:only-child th {\n",
       "        text-align: right;\n",
       "    }\n",
       "\n",
       "    .dataframe thead th {\n",
       "        text-align: left;\n",
       "    }\n",
       "\n",
       "    .dataframe tbody tr th {\n",
       "        vertical-align: top;\n",
       "    }\n",
       "</style>\n",
       "<table border=\"1\" class=\"dataframe\">\n",
       "  <thead>\n",
       "    <tr style=\"text-align: right;\">\n",
       "      <th></th>\n",
       "      <th>UserId</th>\n",
       "      <th>avg_words</th>\n",
       "      <th>user_frequency</th>\n",
       "      <th>freq_or_not</th>\n",
       "    </tr>\n",
       "  </thead>\n",
       "  <tbody>\n",
       "    <tr>\n",
       "      <th>232619</th>\n",
       "      <td>ANKUV3UXWVI82</td>\n",
       "      <td>193.0</td>\n",
       "      <td>1</td>\n",
       "      <td>Non Frequent Reviewer (&lt;=50)</td>\n",
       "    </tr>\n",
       "    <tr>\n",
       "      <th>127661</th>\n",
       "      <td>A2VSDI0IWYBCQQ</td>\n",
       "      <td>77.0</td>\n",
       "      <td>1</td>\n",
       "      <td>Non Frequent Reviewer (&lt;=50)</td>\n",
       "    </tr>\n",
       "    <tr>\n",
       "      <th>153741</th>\n",
       "      <td>A39PECE1KY0G8T</td>\n",
       "      <td>48.0</td>\n",
       "      <td>1</td>\n",
       "      <td>Non Frequent Reviewer (&lt;=50)</td>\n",
       "    </tr>\n",
       "    <tr>\n",
       "      <th>89845</th>\n",
       "      <td>A2BQW1EM7WO3CY</td>\n",
       "      <td>134.0</td>\n",
       "      <td>2</td>\n",
       "      <td>Non Frequent Reviewer (&lt;=50)</td>\n",
       "    </tr>\n",
       "  </tbody>\n",
       "</table>\n",
       "</div>"
      ],
      "text/plain": [
       "                UserId  avg_words  user_frequency  \\\n",
       "232619   ANKUV3UXWVI82      193.0               1   \n",
       "127661  A2VSDI0IWYBCQQ       77.0               1   \n",
       "153741  A39PECE1KY0G8T       48.0               1   \n",
       "89845   A2BQW1EM7WO3CY      134.0               2   \n",
       "\n",
       "                         freq_or_not  \n",
       "232619  Non Frequent Reviewer (<=50)  \n",
       "127661  Non Frequent Reviewer (<=50)  \n",
       "153741  Non Frequent Reviewer (<=50)  \n",
       "89845   Non Frequent Reviewer (<=50)  "
      ]
     },
     "execution_count": 160,
     "metadata": {},
     "output_type": "execute_result"
    }
   ],
   "source": [
    "freq_reviewers.sample(4)"
   ]
  },
  {
   "cell_type": "code",
   "execution_count": 161,
   "metadata": {},
   "outputs": [
    {
     "data": {
      "text/plain": [
       "260"
      ]
     },
     "execution_count": 161,
     "metadata": {},
     "output_type": "execute_result"
    }
   ],
   "source": [
    "sum(freq_reviewers.freq_or_not == 'Frequet Reviewer (>50)')"
   ]
  },
  {
   "cell_type": "code",
   "execution_count": 171,
   "metadata": {},
   "outputs": [
    {
     "data": {
      "image/png": "[encoded data removed]",
      "text/plain": [
       "<matplotlib.figure.Figure at 0x7f0e0aa219e8>"
      ]
     },
     "metadata": {},
     "output_type": "display_data"
    }
   ],
   "source": [
    "sns.violinplot(data=freq_reviewers, x='freq_or_not', y='avg_words')\n",
    "plt.show()"
   ]
  },
  {
   "cell_type": "code",
   "execution_count": 170,
   "metadata": {},
   "outputs": [
    {
     "data": {
      "image/png": "[encoded data removed]",
      "text/plain": [
       "<matplotlib.figure.Figure at 0x7f0e0a9cabe0>"
      ]
     },
     "metadata": {},
     "output_type": "display_data"
    }
   ],
   "source": [
    "sns.boxplot(data=freq_reviewers, x='freq_or_not', y='avg_words', showfliers=False)\n",
    "plt.show()"
   ]
  },
  {
   "cell_type": "code",
   "execution_count": null,
   "metadata": {
    "collapsed": true
   },
   "outputs": [],
   "source": []
  },
  {
   "cell_type": "code",
   "execution_count": null,
   "metadata": {
    "collapsed": true
   },
   "outputs": [],
   "source": [
    "# deleting rows that are having 3 as their rating...\n",
    "df.drop(df[df['Score'] == 3].index, inplace=True)\n",
    "#delete the rows that has helpfulnessdenominator as 0\n",
    "df.drop(df[df['HelpfulnessDenominator']==0].index,inplace=True)\n",
    "\n",
    "# replacing scores as Positive(4,5) and Negative(1,2)\n",
    "df['Score'] = df['Score'].replace([1,2], 'Negative')\n",
    "df['Score'] = df['Score'].replace([4,5], 'Positive')\n",
    "\n",
    "# crete helpfulness ratio column in the dataframe\n",
    "df['help_ratio'] = df['HelpfulnessNumerator'] / df['HelpfulnessDenominator']\n",
    "df['helpfulness'] = df['help_ratio'].apply(help_or_not)"
   ]
  }
 ],
 "metadata": {
  "kernelspec": {
   "display_name": "Python 3",
   "language": "python",
   "name": "python3"
  },
  "language_info": {
   "codemirror_mode": {
    "name": "ipython",
    "version": 3
   },
   "file_extension": ".py",
   "mimetype": "text/x-python",
   "name": "python",
   "nbconvert_exporter": "python",
   "pygments_lexer": "ipython3",
   "version": "3.6.1"
  }
 },
 "nbformat": 4,
 "nbformat_minor": 2
}

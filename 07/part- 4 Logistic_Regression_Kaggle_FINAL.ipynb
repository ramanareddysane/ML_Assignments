{
  "cells": [
    {
      "metadata": {
        "_cell_guid": "37b1c9e4-11c3-4627-aefe-c7c87ff9bc0a",
        "_uuid": "e73adaea8524e62b82fe6a64658626f13ec368e6",
        "trusted": true
      },
      "cell_type": "code",
      "source": "import numpy as np # linear algebra\nimport pandas as pd # data processing, CSV file I/O (e.g. pd.read_csv)\n\nreviews = pd.read_csv('../input/Reviews.csv')\nreviews.head(1)\n",
      "execution_count": 1,
      "outputs": [
        {
          "output_type": "execute_result",
          "execution_count": 1,
          "data": {
            "text/plain": "   Id   ProductId          UserId ProfileName  HelpfulnessNumerator  \\\n0   1  B001E4KFG0  A3SGXH7AUHU8GW  delmartian                     1   \n\n   HelpfulnessDenominator  Score        Time                Summary  \\\n0                       1      5  1303862400  Good Quality Dog Food   \n\n                                                Text  \n0  I have bought several of the Vitality canned d...  ",
            "text/html": "<div>\n<style>\n    .dataframe thead tr:only-child th {\n        text-align: right;\n    }\n\n    .dataframe thead th {\n        text-align: left;\n    }\n\n    .dataframe tbody tr th {\n        vertical-align: top;\n    }\n</style>\n<table border=\"1\" class=\"dataframe\">\n  <thead>\n    <tr style=\"text-align: right;\">\n      <th></th>\n      <th>Id</th>\n      <th>ProductId</th>\n      <th>UserId</th>\n      <th>ProfileName</th>\n      <th>HelpfulnessNumerator</th>\n      <th>HelpfulnessDenominator</th>\n      <th>Score</th>\n      <th>Time</th>\n      <th>Summary</th>\n      <th>Text</th>\n    </tr>\n  </thead>\n  <tbody>\n    <tr>\n      <th>0</th>\n      <td>1</td>\n      <td>B001E4KFG0</td>\n      <td>A3SGXH7AUHU8GW</td>\n      <td>delmartian</td>\n      <td>1</td>\n      <td>1</td>\n      <td>5</td>\n      <td>1303862400</td>\n      <td>Good Quality Dog Food</td>\n      <td>I have bought several of the Vitality canned d...</td>\n    </tr>\n  </tbody>\n</table>\n</div>"
          },
          "metadata": {}
        }
      ]
    },
    {
      "metadata": {
        "_cell_guid": "13da37b0-c11b-4716-b16a-a8e4e0c790a4",
        "scrolled": true,
        "_uuid": "3c5dd5c40a12a859093a08a2766c6e00bd166d5d",
        "trusted": true
      },
      "cell_type": "code",
      "source": "reviews['smry_txt'] = reviews['Summary'].astype(str) + ' ' + reviews['Text']\ndataset = reviews.loc[reviews['Score'] != 3][['smry_txt','Score']]\n\ndataset.loc[dataset['Score']==1, 'Score'] = 'negative'\ndataset.loc[dataset['Score']==2, 'Score'] = 'negative'\ndataset.loc[dataset['Score']==4, 'Score'] = 'positive'\ndataset.loc[dataset['Score']==5, 'Score'] = 'positive'\n\ndataset.head()",
      "execution_count": 2,
      "outputs": [
        {
          "output_type": "execute_result",
          "execution_count": 2,
          "data": {
            "text/plain": "                                            smry_txt     Score\n0  Good Quality Dog Food I have bought several of...  positive\n1  Not as Advertised Product arrived labeled as J...  negative\n2  \"Delight\" says it all This is a confection tha...  positive\n3  Cough Medicine If you are looking for the secr...  negative\n4  Great taffy Great taffy at a great price.  The...  positive",
            "text/html": "<div>\n<style>\n    .dataframe thead tr:only-child th {\n        text-align: right;\n    }\n\n    .dataframe thead th {\n        text-align: left;\n    }\n\n    .dataframe tbody tr th {\n        vertical-align: top;\n    }\n</style>\n<table border=\"1\" class=\"dataframe\">\n  <thead>\n    <tr style=\"text-align: right;\">\n      <th></th>\n      <th>smry_txt</th>\n      <th>Score</th>\n    </tr>\n  </thead>\n  <tbody>\n    <tr>\n      <th>0</th>\n      <td>Good Quality Dog Food I have bought several of...</td>\n      <td>positive</td>\n    </tr>\n    <tr>\n      <th>1</th>\n      <td>Not as Advertised Product arrived labeled as J...</td>\n      <td>negative</td>\n    </tr>\n    <tr>\n      <th>2</th>\n      <td>\"Delight\" says it all This is a confection tha...</td>\n      <td>positive</td>\n    </tr>\n    <tr>\n      <th>3</th>\n      <td>Cough Medicine If you are looking for the secr...</td>\n      <td>negative</td>\n    </tr>\n    <tr>\n      <th>4</th>\n      <td>Great taffy Great taffy at a great price.  The...</td>\n      <td>positive</td>\n    </tr>\n  </tbody>\n</table>\n</div>"
          },
          "metadata": {}
        }
      ]
    },
    {
      "metadata": {
        "_cell_guid": "63b3dc12-72ef-416a-a5b3-ee6aedef0293",
        "_uuid": "298aad7b83dfd1da52f2dc73fc4efc9346395398"
      },
      "cell_type": "markdown",
      "source": "# Logistic Regression"
    },
    {
      "metadata": {
        "_cell_guid": "6d4e32eb-e82b-4fb2-b26b-2a4071b4fe6f",
        "collapsed": true,
        "_uuid": "4f5c600b1af107b01db32864d758a517f5abff98",
        "trusted": true
      },
      "cell_type": "code",
      "source": "from sklearn.feature_extraction.text import CountVectorizer\nfrom sklearn.linear_model import LogisticRegression\nfrom sklearn.model_selection import GridSearchCV\nfrom sklearn.metrics import f1_score",
      "execution_count": 3,
      "outputs": []
    },
    {
      "metadata": {
        "_cell_guid": "a5192440-45ce-4ae1-a57e-6e4d57d6aaa9",
        "_uuid": "f2e4d70dac4bf42a62d32adc900867a4d418b428"
      },
      "cell_type": "markdown",
      "source": "# 1.  GridSearchCV with l2 regularizer"
    },
    {
      "metadata": {
        "_cell_guid": "d849e772-f772-4b55-8285-0e70a789f8b2",
        "scrolled": false,
        "_uuid": "8bdd9b4a738e16d702acfc4f127de83212169a0f",
        "trusted": true
      },
      "cell_type": "code",
      "source": "count_vec_total = CountVectorizer()\n\nx_data = count_vec_total.fit_transform(dataset.smry_txt)\ny_data = dataset['Score']\n\ny_data.head()\n\nprint(dataset.iloc[0]['smry_txt'], end='\\n\\n')\nprint(count_vec_total.inverse_transform(x_data[0]), end='\\n\\n')\nprint(x_data[0])",
      "execution_count": 4,
      "outputs": [
        {
          "output_type": "stream",
          "text": "Good Quality Dog Food I have bought several of the Vitality canned dog food products and have found them all to be of good quality. The product looks more like a stew than a processed meat and it smells better. My Labrador is finicky and she appreciates this product better than  most.\n\n[array(['most', 'this', 'appreciates', 'she', 'finicky', 'is', 'labrador',\n       'my', 'better', 'smells', 'it', 'meat', 'processed', 'than', 'stew',\n       'like', 'more', 'looks', 'product', 'be', 'to', 'all', 'them',\n       'found', 'and', 'products', 'canned', 'vitality', 'the', 'of',\n       'several', 'bought', 'have', 'food', 'dog', 'quality', 'good'],\n      dtype='<U124')]\n\n  (0, 74176)\t1\n  (0, 108779)\t1\n  (0, 9541)\t1\n  (0, 97878)\t1\n  (0, 47541)\t1\n  (0, 61725)\t1\n  (0, 65358)\t1\n  (0, 75122)\t1\n  (0, 20970)\t2\n  (0, 100122)\t1\n  (0, 61875)\t1\n  (0, 71077)\t1\n  (0, 87084)\t1\n  (0, 108307)\t2\n  (0, 103477)\t1\n  (0, 66977)\t1\n  (0, 73996)\t1\n  (0, 67944)\t1\n  (0, 87176)\t2\n  (0, 19907)\t1\n  (0, 109606)\t1\n  (0, 7492)\t1\n  (0, 108457)\t1\n  (0, 49181)\t1\n  (0, 8547)\t3\n  (0, 87199)\t1\n  (0, 25908)\t1\n  (0, 115789)\t1\n  (0, 108377)\t2\n  (0, 78426)\t2\n  (0, 97531)\t1\n  (0, 23056)\t1\n  (0, 55714)\t2\n  (0, 48731)\t2\n  (0, 40110)\t2\n  (0, 88814)\t2\n  (0, 52757)\t2\n",
          "name": "stdout"
        }
      ]
    },
    {
      "metadata": {
        "_cell_guid": "48442666-0457-45bb-92f9-e512942c2665",
        "_uuid": "09f588892fd7f021d693798efb12273a7877a755",
        "trusted": true
      },
      "cell_type": "code",
      "source": "#   GridsearchCV will build classifier specified (logistic regression),\n# with the optimal C value, with 3-fold cross validation by defalut. \n# So, we don't need to build a classifier again with this model..\nparam_grid = {'C': [0.001, 0.01, 0.1, 1, 10]}\nlog_reg_l2 = LogisticRegression(penalty='l2')\nlog_reg_l2_grid_clf = GridSearchCV(log_reg_l2, param_grid=param_grid,n_jobs=-1, verbose=40)\nlog_reg_l2_grid_clf",
      "execution_count": 20,
      "outputs": [
        {
          "output_type": "execute_result",
          "execution_count": 20,
          "data": {
            "text/plain": "GridSearchCV(cv=None, error_score='raise',\n       estimator=LogisticRegression(C=1.0, class_weight=None, dual=False, fit_intercept=True,\n          intercept_scaling=1, max_iter=100, multi_class='ovr', n_jobs=1,\n          penalty='l2', random_state=None, solver='liblinear', tol=0.0001,\n          verbose=0, warm_start=False),\n       fit_params=None, iid=True, n_jobs=-1,\n       param_grid={'C': [0.001, 0.01, 0.1, 1, 10]},\n       pre_dispatch='2*n_jobs', refit=True, return_train_score=True,\n       scoring=None, verbose=40)"
          },
          "metadata": {}
        }
      ]
    },
    {
      "metadata": {
        "_cell_guid": "eaf023fc-e82c-4690-b7e5-19f618443ab2",
        "_uuid": "91bcaf28fce99ed6560611edc472bbbbc8b52c1f",
        "trusted": true
      },
      "cell_type": "code",
      "source": "x_data[:121]",
      "execution_count": 5,
      "outputs": [
        {
          "output_type": "execute_result",
          "execution_count": 5,
          "data": {
            "text/plain": "<121x121022 sparse matrix of type '<class 'numpy.int64'>'\n\twith 6125 stored elements in Compressed Sparse Row format>"
          },
          "metadata": {}
        }
      ]
    },
    {
      "metadata": {
        "_cell_guid": "470a1f6d-5fbe-461f-82ee-c73f74cb2afb",
        "_uuid": "6d4f9ab610ea17b2982fddb6c5df2e0751892af4",
        "trusted": true
      },
      "cell_type": "code",
      "source": "y_data.shape",
      "execution_count": 6,
      "outputs": [
        {
          "output_type": "execute_result",
          "execution_count": 6,
          "data": {
            "text/plain": "(525814,)"
          },
          "metadata": {}
        }
      ]
    },
    {
      "metadata": {
        "_cell_guid": "0a956613-fb07-40f3-a33f-21f75e990d1e",
        "_uuid": "ce9d6b11b6e6ddfe44edf9cef652ad4997e353fb"
      },
      "cell_type": "markdown",
      "source": "# lets split the data into train and test data"
    },
    {
      "metadata": {
        "_cell_guid": "bb9c150b-8351-4264-9d91-8125359d5084",
        "_uuid": "b63a917b95acf577bb91d757b07f5198c5399731",
        "trusted": true
      },
      "cell_type": "code",
      "source": "from sklearn.model_selection import train_test_split\nx_train, x_test, y_train, y_test = train_test_split(x_data, y_data)\n\ny_train.shape",
      "execution_count": 7,
      "outputs": [
        {
          "output_type": "execute_result",
          "execution_count": 7,
          "data": {
            "text/plain": "(394360,)"
          },
          "metadata": {}
        }
      ]
    },
    {
      "metadata": {
        "_cell_guid": "af364d3e-4bbf-49ee-a1c3-bc10bb28176d",
        "scrolled": true,
        "_uuid": "b962971cf92d018d9f55386ce4cf5b5dccdac93f",
        "trusted": true
      },
      "cell_type": "code",
      "source": "from datetime import datetime\nstartTime = datetime.now()\n\n#lets run GridsearchCV on our data\nlog_reg_l2_grid_clf.fit(x_train, y_train)\n\nprint(datetime.now() - startTime)",
      "execution_count": 21,
      "outputs": [
        {
          "output_type": "stream",
          "text": "Fitting 3 folds for each of 5 candidates, totalling 15 fits\n[CV] C=0.001 .........................................................\n[CV] C=0.001 .........................................................\n[CV] C=0.001 .........................................................\n[CV] C=0.01 ..........................................................\n[CV] C=0.01 ..........................................................\n[CV] C=0.01 ..........................................................\n[CV] C=0.1 ...........................................................\n[CV] C=0.1 ...........................................................\n[CV] C=0.1 ...........................................................\n[CV] C=1 .............................................................\n[CV] C=1 .............................................................\n[CV] C=1 .............................................................\n[CV] C=10 ............................................................\n[CV] C=10 ............................................................\n[CV] C=10 ............................................................\n[CV] ................ C=0.001, score=0.9174996576749281, total= 1.6min\n",
          "name": "stdout"
        },
        {
          "output_type": "stream",
          "text": "[Parallel(n_jobs=-1)]: Done   1 tasks      | elapsed:  1.7min\n",
          "name": "stderr"
        },
        {
          "output_type": "stream",
          "text": "[CV] ................ C=0.001, score=0.9176435684236952, total= 2.1min\n",
          "name": "stdout"
        },
        {
          "output_type": "stream",
          "text": "[Parallel(n_jobs=-1)]: Done   2 out of  15 | elapsed:  2.3min remaining: 14.8min\n",
          "name": "stderr"
        },
        {
          "output_type": "stream",
          "text": "[CV] ................ C=0.001, score=0.9193399922405727, total= 3.0min\n",
          "name": "stdout"
        },
        {
          "output_type": "stream",
          "text": "[Parallel(n_jobs=-1)]: Done   3 out of  15 | elapsed:  3.1min remaining: 12.5min\n",
          "name": "stderr"
        },
        {
          "output_type": "stream",
          "text": "[CV] ................. C=0.01, score=0.9407620974797076, total= 5.3min\n",
          "name": "stdout"
        },
        {
          "output_type": "stream",
          "text": "[Parallel(n_jobs=-1)]: Done   4 out of  15 | elapsed:  5.5min remaining: 15.1min\n",
          "name": "stderr"
        },
        {
          "output_type": "stream",
          "text": "[CV] ................. C=0.01, score=0.9427247761557362, total= 6.1min\n",
          "name": "stdout"
        },
        {
          "output_type": "stream",
          "text": "[Parallel(n_jobs=-1)]: Done   5 out of  15 | elapsed:  6.3min remaining: 12.6min\n",
          "name": "stderr"
        },
        {
          "output_type": "stream",
          "text": "[CV] ................. C=0.01, score=0.9406408325345749, total= 6.7min\n",
          "name": "stdout"
        },
        {
          "output_type": "stream",
          "text": "[Parallel(n_jobs=-1)]: Done   6 out of  15 | elapsed:  6.8min remaining: 10.2min\n",
          "name": "stderr"
        },
        {
          "output_type": "stream",
          "text": "[CV] .................. C=0.1, score=0.9520969471978578, total=13.4min\n",
          "name": "stdout"
        },
        {
          "output_type": "stream",
          "text": "[Parallel(n_jobs=-1)]: Done   7 out of  15 | elapsed: 13.6min remaining: 15.5min\n",
          "name": "stderr"
        },
        {
          "output_type": "stream",
          "text": "[CV] .................. C=0.1, score=0.9513362190288545, total=14.9min\n",
          "name": "stdout"
        },
        {
          "output_type": "stream",
          "text": "[Parallel(n_jobs=-1)]: Done   8 out of  15 | elapsed: 15.1min remaining: 13.3min\n",
          "name": "stderr"
        },
        {
          "output_type": "stream",
          "text": "[CV] .................. C=0.1, score=0.9517930226543125, total=15.1min\n",
          "name": "stdout"
        },
        {
          "output_type": "stream",
          "text": "[Parallel(n_jobs=-1)]: Done   9 out of  15 | elapsed: 15.3min remaining: 10.2min\n",
          "name": "stderr"
        },
        {
          "output_type": "stream",
          "text": "[CV] ..................... C=10, score=0.95484317588796, total=26.0min\n",
          "name": "stdout"
        },
        {
          "output_type": "stream",
          "text": "[Parallel(n_jobs=-1)]: Done  10 out of  15 | elapsed: 26.6min remaining: 13.3min\n",
          "name": "stderr"
        },
        {
          "output_type": "stream",
          "text": "[CV] .................... C=1, score=0.9549040341414802, total=27.5min\n",
          "name": "stdout"
        },
        {
          "output_type": "stream",
          "text": "[Parallel(n_jobs=-1)]: Done  11 out of  15 | elapsed: 27.8min remaining: 10.1min\n",
          "name": "stderr"
        },
        {
          "output_type": "stream",
          "text": "[CV] .................... C=1, score=0.9550485724935909, total=27.7min\n",
          "name": "stdout"
        },
        {
          "output_type": "stream",
          "text": "[Parallel(n_jobs=-1)]: Done  12 out of  15 | elapsed: 28.0min remaining:  7.0min\n",
          "name": "stderr"
        },
        {
          "output_type": "stream",
          "text": "[CV] ................... C=10, score=0.9552159326907717, total=29.1min\n",
          "name": "stdout"
        },
        {
          "output_type": "stream",
          "text": "[Parallel(n_jobs=-1)]: Done  13 out of  15 | elapsed: 29.5min remaining:  4.5min\n",
          "name": "stderr"
        },
        {
          "output_type": "stream",
          "text": "[CV] ................... C=10, score=0.9542349415004489, total=29.6min\n[CV] .................... C=1, score=0.9552467022684742, total=30.1min\n",
          "name": "stdout"
        },
        {
          "output_type": "stream",
          "text": "[Parallel(n_jobs=-1)]: Done  15 out of  15 | elapsed: 30.3min remaining:    0.0s\n[Parallel(n_jobs=-1)]: Done  15 out of  15 | elapsed: 30.3min finished\n",
          "name": "stderr"
        },
        {
          "output_type": "stream",
          "text": "0:38:36.342776\n",
          "name": "stdout"
        }
      ]
    },
    {
      "metadata": {
        "_cell_guid": "daf1a06c-c375-415c-911f-3eb29ffbefcf",
        "_uuid": "8df2b62e941d86c510e548413a04ba331dbf53e8",
        "trusted": true
      },
      "cell_type": "code",
      "source": "log_reg_l2_grid_clf.best_params_ ,log_reg_l2_grid_clf.best_estimator_, log_reg_l2_grid_clf.best_score_",
      "execution_count": 22,
      "outputs": [
        {
          "output_type": "execute_result",
          "execution_count": 22,
          "data": {
            "text/plain": "({'C': 1},\n LogisticRegression(C=1, class_weight=None, dual=False, fit_intercept=True,\n           intercept_scaling=1, max_iter=100, multi_class='ovr', n_jobs=1,\n           penalty='l2', random_state=None, solver='liblinear', tol=0.0001,\n           verbose=0, warm_start=False),\n 0.95506643675829195)"
          },
          "metadata": {}
        }
      ]
    },
    {
      "metadata": {
        "_cell_guid": "e3f34b4a-afd5-49f6-8804-73112a701c5a",
        "collapsed": true,
        "_uuid": "7cb4f75b8501e35f27b6097355fd6846015c911d",
        "trusted": true
      },
      "cell_type": "code",
      "source": "y_true, y_pred = y_test, log_reg_l2_grid_clf.predict(x_test)",
      "execution_count": 23,
      "outputs": []
    },
    {
      "metadata": {
        "_cell_guid": "b87762a1-ecda-4891-b840-4cac6b06b909",
        "_uuid": "aa9944448ed6ad49911ef0ee267ecc5735da426f",
        "trusted": true
      },
      "cell_type": "code",
      "source": "from sklearn.metrics import precision_recall_fscore_support, classification_report\n\nprint(classification_report(y_test, y_pred))\nprint(precision_recall_fscore_support(y_test, y_pred, average='micro'))",
      "execution_count": 24,
      "outputs": [
        {
          "output_type": "stream",
          "text": "             precision    recall  f1-score   support\n\n   negative       0.88      0.83      0.86     20629\n   positive       0.97      0.98      0.97    110825\n\navg / total       0.96      0.96      0.96    131454\n\n(0.95639539306525478, 0.95639539306525478, 0.95639539306525478, None)\n",
          "name": "stdout"
        }
      ]
    },
    {
      "metadata": {
        "trusted": true,
        "_uuid": "fce25f25d5112398479d1100d2c8ede9e7c7e566"
      },
      "cell_type": "code",
      "source": "from sklearn.metrics import roc_curve, auc, roc_auc_score\n\ny_pred = np.where(y_pred == 'positive', 1, 0)\ny_true = np.where(y_true == 'positive', 1, 0)\n\nfpr, tpr, threshold = roc_curve(y_true, y_pred)\nprint(\"FPR: {}, \\nTPR: {}, \\nAUC : {}\".format(fpr[1], tpr[1], auc(fpr,tpr)))",
      "execution_count": 25,
      "outputs": [
        {
          "output_type": "stream",
          "text": "FPR: 0.16820980173542102, \nTPR: 0.9795894428152493, \nAUC : 0.9056898205399141\n",
          "name": "stdout"
        }
      ]
    },
    {
      "metadata": {
        "_cell_guid": "300f1066-c59f-46a3-90bc-8f179e186644",
        "_uuid": "2190e67a37343e23cc2c8a13ebb9c16d3071559c"
      },
      "cell_type": "markdown",
      "source": "# 2. GridSearchCV with l1 regularizer "
    },
    {
      "metadata": {
        "_cell_guid": "d999f553-4806-46b2-88eb-8ac32b5f8f35",
        "_uuid": "7e53e754940496b9e6ac0a79c6bb44234c253bf2",
        "trusted": true,
        "scrolled": false
      },
      "cell_type": "code",
      "source": "param_grid = {'C': [0.001, 0.01, 0.1, 1, 10]}\nlog_reg_l1 = LogisticRegression(penalty='l1')\nlog_reg_l1_grid_clf = GridSearchCV(log_reg_l1, param_grid=param_grid,n_jobs=-1, verbose=40)\nlog_reg_l1_grid_clf",
      "execution_count": 9,
      "outputs": [
        {
          "output_type": "execute_result",
          "execution_count": 9,
          "data": {
            "text/plain": "GridSearchCV(cv=None, error_score='raise',\n       estimator=LogisticRegression(C=1.0, class_weight=None, dual=False, fit_intercept=True,\n          intercept_scaling=1, max_iter=100, multi_class='ovr', n_jobs=1,\n          penalty='l1', random_state=None, solver='liblinear', tol=0.0001,\n          verbose=0, warm_start=False),\n       fit_params=None, iid=True, n_jobs=-1,\n       param_grid={'C': [0.001, 0.01, 0.1, 1, 10]},\n       pre_dispatch='2*n_jobs', refit=True, return_train_score=True,\n       scoring=None, verbose=40)"
          },
          "metadata": {}
        }
      ]
    },
    {
      "metadata": {
        "trusted": true,
        "_uuid": "fd3fbf3368a1a5d538b267a8530af3ced26f258a"
      },
      "cell_type": "code",
      "source": "y_train.shape",
      "execution_count": 10,
      "outputs": [
        {
          "output_type": "execute_result",
          "execution_count": 10,
          "data": {
            "text/plain": "(394360,)"
          },
          "metadata": {}
        }
      ]
    },
    {
      "metadata": {
        "_cell_guid": "4bad6d78-4845-4665-b33d-2977ba4a5966",
        "scrolled": true,
        "_uuid": "01aaa41ffde5601ef30dc5ce17f987e89c667654",
        "trusted": true
      },
      "cell_type": "code",
      "source": "from datetime import datetime\nstartTime = datetime.now()\n\n#lets run GridsearchCV on our data\nlog_reg_l1_grid_clf.fit(x_train, y_train)\n\nprint(datetime.now() - startTime)",
      "execution_count": 11,
      "outputs": [
        {
          "output_type": "stream",
          "text": "Fitting 3 folds for each of 5 candidates, totalling 15 fits\n[CV] C=0.001 .........................................................\n[CV] C=0.001 .........................................................\n[CV] C=0.001 .........................................................\n[CV] C=0.01 ..........................................................\n[CV] C=0.01 ..........................................................\n[CV] C=0.01 ..........................................................\n[CV] C=0.1 ...........................................................\n[CV] C=0.1 ...........................................................\n[CV] C=0.1 ...........................................................\n[CV] C=1 .............................................................\n[CV] C=1 .............................................................\n[CV] C=1 .............................................................\n[CV] C=10 ............................................................\n[CV] C=10 ............................................................\n[CV] C=10 ............................................................\n[CV] ................ C=0.001, score=0.8725704244102455, total=  17.0s\n",
          "name": "stdout"
        },
        {
          "output_type": "stream",
          "text": "[Parallel(n_jobs=-1)]: Done   1 tasks      | elapsed:   21.9s\n",
          "name": "stderr"
        },
        {
          "output_type": "stream",
          "text": "[CV] ................ C=0.001, score=0.8720921386949047, total=  22.4s\n",
          "name": "stdout"
        },
        {
          "output_type": "stream",
          "text": "[Parallel(n_jobs=-1)]: Done   2 out of  15 | elapsed:   27.2s remaining:  2.9min\n",
          "name": "stderr"
        },
        {
          "output_type": "stream",
          "text": "[CV] ................ C=0.001, score=0.8727910355792564, total=  24.9s\n",
          "name": "stdout"
        },
        {
          "output_type": "stream",
          "text": "[Parallel(n_jobs=-1)]: Done   3 out of  15 | elapsed:   30.0s remaining:  2.0min\n",
          "name": "stderr"
        },
        {
          "output_type": "stream",
          "text": "[CV] ................. C=0.01, score=0.9254796354618345, total=  30.4s\n",
          "name": "stdout"
        },
        {
          "output_type": "stream",
          "text": "[Parallel(n_jobs=-1)]: Done   4 out of  15 | elapsed:   36.2s remaining:  1.7min\n",
          "name": "stderr"
        },
        {
          "output_type": "stream",
          "text": "[CV] ................. C=0.01, score=0.9259887564376621, total=  32.2s\n",
          "name": "stdout"
        },
        {
          "output_type": "stream",
          "text": "[Parallel(n_jobs=-1)]: Done   5 out of  15 | elapsed:   39.9s remaining:  1.3min\n",
          "name": "stderr"
        },
        {
          "output_type": "stream",
          "text": "[CV] ................. C=0.01, score=0.9248780933109172, total=  35.4s\n",
          "name": "stdout"
        },
        {
          "output_type": "stream",
          "text": "[Parallel(n_jobs=-1)]: Done   6 out of  15 | elapsed:   43.5s remaining:  1.1min\n",
          "name": "stderr"
        },
        {
          "output_type": "stream",
          "text": "[CV] .................. C=0.1, score=0.9463306276768122, total=  51.4s\n",
          "name": "stdout"
        },
        {
          "output_type": "stream",
          "text": "[Parallel(n_jobs=-1)]: Done   7 out of  15 | elapsed:  1.0min remaining:  1.2min\n",
          "name": "stderr"
        },
        {
          "output_type": "stream",
          "text": "[CV] .................. C=0.1, score=0.9453949320289381, total=  59.0s\n",
          "name": "stdout"
        },
        {
          "output_type": "stream",
          "text": "[Parallel(n_jobs=-1)]: Done   8 out of  15 | elapsed:  1.2min remaining:  1.0min\n",
          "name": "stderr"
        },
        {
          "output_type": "stream",
          "text": "[CV] .................. C=0.1, score=0.9456920291508817, total= 1.1min\n",
          "name": "stdout"
        },
        {
          "output_type": "stream",
          "text": "[Parallel(n_jobs=-1)]: Done   9 out of  15 | elapsed:  1.2min remaining:   47.6s\n",
          "name": "stderr"
        },
        {
          "output_type": "stream",
          "text": "[CV] .................... C=1, score=0.9543106661696577, total= 1.2min\n",
          "name": "stdout"
        },
        {
          "output_type": "stream",
          "text": "[Parallel(n_jobs=-1)]: Done  10 out of  15 | elapsed:  1.4min remaining:   42.9s\n",
          "name": "stderr"
        },
        {
          "output_type": "stream",
          "text": "[CV] .................... C=1, score=0.9543794787530239, total= 1.3min\n",
          "name": "stdout"
        },
        {
          "output_type": "stream",
          "text": "[Parallel(n_jobs=-1)]: Done  11 out of  15 | elapsed:  1.4min remaining:   31.6s\n",
          "name": "stderr"
        },
        {
          "output_type": "stream",
          "text": "[CV] .................... C=1, score=0.9539150875217759, total= 1.2min\n",
          "name": "stdout"
        },
        {
          "output_type": "stream",
          "text": "[Parallel(n_jobs=-1)]: Done  12 out of  15 | elapsed:  1.5min remaining:   22.2s\n",
          "name": "stderr"
        },
        {
          "output_type": "stream",
          "text": "[CV] ................... C=10, score=0.9506135272683012, total= 1.3min\n",
          "name": "stdout"
        },
        {
          "output_type": "stream",
          "text": "[Parallel(n_jobs=-1)]: Done  13 out of  15 | elapsed:  1.6min remaining:   15.1s\n",
          "name": "stderr"
        },
        {
          "output_type": "stream",
          "text": "[CV] ................... C=10, score=0.9507200292119616, total= 1.3min\n[CV] ................... C=10, score=0.9500053250566738, total= 1.4min\n",
          "name": "stdout"
        },
        {
          "output_type": "stream",
          "text": "[Parallel(n_jobs=-1)]: Done  15 out of  15 | elapsed:  1.7min remaining:    0.0s\n[Parallel(n_jobs=-1)]: Done  15 out of  15 | elapsed:  1.7min finished\n",
          "name": "stderr"
        },
        {
          "output_type": "stream",
          "text": "0:02:24.135731\n",
          "name": "stdout"
        }
      ]
    },
    {
      "metadata": {
        "_cell_guid": "8538374f-27e7-4570-ad7b-c164be385c95",
        "_uuid": "36a0cb82bd62f96b0faab8fa60e13c87ac567b3e",
        "trusted": true
      },
      "cell_type": "code",
      "source": "log_reg_l1_grid_clf.best_params_ ,log_reg_l1_grid_clf.best_estimator_, log_reg_l1_grid_clf.best_score_",
      "execution_count": 12,
      "outputs": [
        {
          "output_type": "execute_result",
          "execution_count": 12,
          "data": {
            "text/plain": "({'C': 1},\n LogisticRegression(C=1, class_weight=None, dual=False, fit_intercept=True,\n           intercept_scaling=1, max_iter=100, multi_class='ovr', n_jobs=1,\n           penalty='l1', random_state=None, solver='liblinear', tol=0.0001,\n           verbose=0, warm_start=False),\n 0.95420174459884366)"
          },
          "metadata": {}
        }
      ]
    },
    {
      "metadata": {
        "_cell_guid": "8179a714-3192-4624-ad13-36a9a1bb76db",
        "collapsed": true,
        "_uuid": "eb3d591b6908de4bba5ab2d0796ede4c9ce4b428",
        "trusted": true
      },
      "cell_type": "code",
      "source": "y_true, y_pred = y_test, log_reg_l1_grid_clf.predict(x_test)",
      "execution_count": 13,
      "outputs": []
    },
    {
      "metadata": {
        "_cell_guid": "b87762a1-ecda-4891-b840-4cac6b06b909",
        "_uuid": "aa9944448ed6ad49911ef0ee267ecc5735da426f",
        "trusted": true
      },
      "cell_type": "code",
      "source": "print(classification_report(y_test, y_pred))\nprint(precision_recall_fscore_support(y_test, y_pred, average='micro'))",
      "execution_count": 16,
      "outputs": [
        {
          "output_type": "stream",
          "text": "             precision    recall  f1-score   support\n\n   negative       0.88      0.83      0.86     20629\n   positive       0.97      0.98      0.97    110825\n\navg / total       0.96      0.96      0.96    131454\n\n(0.95599221020280856, 0.95599221020280856, 0.95599221020280856, None)\n",
          "name": "stdout"
        }
      ]
    },
    {
      "metadata": {
        "trusted": true,
        "_uuid": "fce25f25d5112398479d1100d2c8ede9e7c7e566"
      },
      "cell_type": "code",
      "source": "from sklearn.metrics import roc_curve, auc, roc_auc_score\n\ny_pred = np.where(y_pred == 'positive', 1, 0)\ny_true = np.where(y_true == 'positive', 1, 0)\n\nfpr, tpr, threshold = roc_curve(y_true, y_pred)\nprint(\"FPR: {}, \\nTPR: {}, \\nAUC : {}\".format(fpr[1], tpr[1], auc(fpr,tpr)))",
      "execution_count": 17,
      "outputs": [
        {
          "output_type": "stream",
          "text": "FPR: 0.167967424499491, \nTPR: 0.9790660951951274, \nAUC : 0.9055493353478182\n",
          "name": "stdout"
        }
      ]
    },
    {
      "metadata": {
        "_cell_guid": "2868c737-7816-4b3b-a4f2-12ad3f485a20",
        "_uuid": "86cb057120f4d44158962d0589f7f8e26041600c"
      },
      "cell_type": "markdown",
      "source": " "
    },
    {
      "metadata": {
        "_cell_guid": "fdebfb2e-b415-4a6b-ba71-a3e1dd965b3e",
        "_uuid": "595d310da315d67b28aaf8c81176befa1b921ece"
      },
      "cell_type": "markdown",
      "source": "# Feature Importance"
    },
    {
      "metadata": {
        "_cell_guid": "c0cb4090-e698-4f23-a3bb-7a3d0d462078",
        "_uuid": "a4c51f4bcd338cd9660a1889c773733bff907f5e",
        "trusted": true
      },
      "cell_type": "code",
      "source": "best_estimator = log_reg_l1_grid_clf.best_estimator_",
      "execution_count": 27,
      "outputs": []
    },
    {
      "metadata": {
        "_cell_guid": "763022e6-d0f4-4b18-a45b-23a155e6504d",
        "collapsed": true,
        "_uuid": "07c17bf7bcd1533a04ebda17f925a50688e846d1",
        "trusted": true
      },
      "cell_type": "code",
      "source": "weights_vectors = pd.DataFrame()\nweights_vectors['feature'] = count_vec_total.get_feature_names()\nweights_vectors['weight'] = np.transpose(best_estimator.coef_)\n# convert positive and negative weights to absolute values\nweights_vectors['weight'] = weights_vectors['weight'].map(lambda x: abs(x))",
      "execution_count": 29,
      "outputs": []
    },
    {
      "metadata": {
        "_cell_guid": "225af274-3517-4d29-9301-dbaf95755eff",
        "_uuid": "27ce26c8b14a279be535fef05d2f8c877c066ace",
        "trusted": true
      },
      "cell_type": "code",
      "source": "sorted_weights = weights_vectors.sort_values(by='weight', ascending=False)\nsum(sorted_weights['weight'] == 0)",
      "execution_count": 30,
      "outputs": [
        {
          "output_type": "execute_result",
          "execution_count": 30,
          "data": {
            "text/plain": "108451"
          },
          "metadata": {}
        }
      ]
    },
    {
      "metadata": {
        "_cell_guid": "acf77564-f0e5-4f84-aa40-8c57572b84d2",
        "collapsed": true,
        "_uuid": "a5884e53a703686b7f5ba8dc9c6236b983deffbc",
        "trusted": true
      },
      "cell_type": "markdown",
      "source": "> We have 108451 features that has weight almost 0"
    },
    {
      "metadata": {
        "_cell_guid": "d4080d95-daee-4d31-809b-bdfba1fb1051",
        "_uuid": "d37dbffab264996432273ba7ed732d7dc3683065"
      },
      "cell_type": "markdown",
      "source": "## Important features are : "
    },
    {
      "metadata": {
        "_cell_guid": "01850a7b-348d-4d48-bb11-0dedeecb02b3",
        "collapsed": true,
        "_uuid": "80b3c962566d557e087593eee2c2e0ca4230f0f5",
        "trusted": true
      },
      "cell_type": "code",
      "source": "imp_features = sorted_weights[sorted_weights['weight'] >= 0.0001]['feature'].values",
      "execution_count": 35,
      "outputs": []
    },
    {
      "metadata": {
        "_cell_guid": "2ece75ae-845b-4c91-ae41-844f0005f4e4",
        "_uuid": "5c01e53d2fea694eeb730d6a32a27394324151bd",
        "trusted": true
      },
      "cell_type": "code",
      "source": "imp_features, len(imp_features)",
      "execution_count": 36,
      "outputs": [
        {
          "output_type": "execute_result",
          "execution_count": 36,
          "data": {
            "text/plain": "(array(['excellently', 'emeraldforest', 'abottle', ..., 'calls', 'chun',\n        'remover'], dtype=object), 12569)"
          },
          "metadata": {}
        }
      ]
    },
    {
      "metadata": {
        "_uuid": "91808f45aca7f90fb8e022541de2e8af074e556e"
      },
      "cell_type": "markdown",
      "source": "# top 100 most important features are.."
    },
    {
      "metadata": {
        "trusted": true,
        "_uuid": "dc9fe7424857b61c90e5d12fcb42fe86b1afdf9f"
      },
      "cell_type": "code",
      "source": "imp_features[:100]",
      "execution_count": null,
      "outputs": [
        {
          "output_type": "execute_result",
          "execution_count": 41,
          "data": {
            "text/plain": "array(['excellently', 'emeraldforest', 'abottle', 'yirgacheffe',\n       'b000sqn3og', 'ramada', 'hestitate', 'lifespans', 'myer',\n       'manipulating', 'looming', 'blehhhh', 'afro', 'chedder', 'vagan',\n       'b000et93n2', 'unwearable', 'incurred', 'leap', 'weakest', 'yuch',\n       'prepped', 'b003crknpk', 'slag', 'glumpy', 'seperatly',\n       'replentishment', 'artificials', 'cues', 'juiciest', 'maxes',\n       'inspector', 'storebrand', 'fragmentatized', 'decar', 'bonsais',\n       'upgrading', 'coincident', 'lyles', 'holle', 'unlemoned', 'chimed',\n       'brûl', 'meshed', 'bumpy', 'wrinkly', 'alginate', 'ovaries',\n       'shrapnel', 'originates', '157', 'solving', 'snapdragon',\n       'devastated', '280mg', 'heroes', 'abominable', 'dissapointing',\n       'wolfing', 'todd', 'reinstate', 'flovoured', 'gush', 'humdrum',\n       'pitt', 'ehhhh', 'becausei', 'subjectively', 'hoffman',\n       'unimpressive', 'ingrediantes', 'iprozon', 'dizzied', 'shippments',\n       'miracles', 'botch', 'nome', 'sham', 'hydroxide', 'otoh', 'blu',\n       'contaminating', 'b000dlb2fi', 'bulleit', 'isaac', 'spooned',\n       'undaunted', 'endeavour', 'mindful', 'submitting', 'b000etc9ii',\n       'excellant', 'hazards', 'instantto', 'antelop', 'competed', 'cals',\n       'unenjoyable', 'chagrin', 'redeeming'], dtype=object)"
          },
          "metadata": {}
        }
      ]
    },
    {
      "metadata": {
        "_cell_guid": "b9f65f3d-761a-4672-b84b-6c9072b8537a",
        "_uuid": "2fae128e53b741eac7367ca7119b1a46fecc67f6"
      },
      "cell_type": "markdown",
      "source": " "
    },
    {
      "metadata": {
        "_cell_guid": "a891fcc0-4ef2-410b-89fd-3688da7b16c6",
        "_uuid": "b01c95662ff140dbb04569be446bcb6d6ee7a79f"
      },
      "cell_type": "markdown",
      "source": " "
    },
    {
      "metadata": {
        "_cell_guid": "18488730-e641-4864-9ba3-9441ce9b6cd7",
        "_uuid": "f92ba0be5a04b397bff5511a0a247818f4a1ab0c"
      },
      "cell_type": "markdown",
      "source": " "
    }
  ],
  "metadata": {
    "language_info": {
      "name": "python",
      "version": "3.6.1",
      "mimetype": "text/x-python",
      "codemirror_mode": {
        "name": "ipython",
        "version": 3
      },
      "pygments_lexer": "ipython3",
      "nbconvert_exporter": "python",
      "file_extension": ".py"
    },
    "kernelspec": {
      "display_name": "Python 3",
      "language": "python",
      "name": "python3"
    }
  },
  "nbformat": 4,
  "nbformat_minor": 1
}
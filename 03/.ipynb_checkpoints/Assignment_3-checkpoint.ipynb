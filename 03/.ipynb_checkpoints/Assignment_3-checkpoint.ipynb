{
 "cells": [
  {
   "cell_type": "code",
   "execution_count": 1,
   "metadata": {
    "collapsed": true
   },
   "outputs": [],
   "source": [
    "import numpy as np\n",
    "def genarate_normal_data():\n",
    "    return np.random.randn(1000)"
   ]
  },
  {
   "cell_type": "code",
   "execution_count": 2,
   "metadata": {
    "collapsed": true
   },
   "outputs": [],
   "source": [
    "def genarate_lognormal_data():\n",
    "    return np.random.lognormal(0,1,1000)"
   ]
  },
  {
   "cell_type": "markdown",
   "metadata": {},
   "source": [
    "<p> use the functions genarate_normal_data, genarate_lognormal_data to get the two 1-d data sets. </p>\n",
    "<p> ex: <i>normaldata = genarate_normal_data()</i>, <i>logdata = genarate_lognormal_data()</i> </p>\n",
    "<p>Q1.\n",
    "<ol>\n",
    "<li>Plot the Q-Q plot between the normaldata (N) and logdata (L)</li>\n",
    "<li> Find the covariance between N and L vectors\n",
    "    <ul>\n",
    "    <li>try to plot datpoints (N(i),L(i)) try to get the relation</li>\n",
    "    <li>use inbuilt functions to get this value</li>\n",
    "    </ul>\n",
    " </li>\n",
    "<li> Do 1, 2 for Normalized vectors of N and L</li>\n",
    "<li> Do 1, 2 for Standardized vectors of N and L</li>\n",
    "</ol>\n",
    "</p>\n",
    "<p>Q2.\n",
    "1. Prove that the E[(X-μ)^2] = σ^2\n",
    "2. Prove that the Expectation of a randam varaible X~N(μ,σ) is equal to μ\n",
    "</p>"
   ]
  }
 ],
 "metadata": {
  "kernelspec": {
   "display_name": "Python 3",
   "language": "python",
   "name": "python3"
  },
  "language_info": {
   "codemirror_mode": {
    "name": "ipython",
    "version": 3
   },
   "file_extension": ".py",
   "mimetype": "text/x-python",
   "name": "python",
   "nbconvert_exporter": "python",
   "pygments_lexer": "ipython3",
   "version": "3.6.1"
  }
 },
 "nbformat": 4,
 "nbformat_minor": 2
}

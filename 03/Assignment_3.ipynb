{
 "cells": [
  {
   "cell_type": "code",
   "execution_count": 1,
   "metadata": {
    "collapsed": true
   },
   "outputs": [],
   "source": [
    "import numpy as np\n",
    "import pylab\n",
    "import scipy.stats as stats"
   ]
  },
  {
   "cell_type": "code",
   "execution_count": 2,
   "metadata": {
    "collapsed": true
   },
   "outputs": [],
   "source": [
    "def genarate_normal_data():\n",
    "    return np.random.randn(1000)"
   ]
  },
  {
   "cell_type": "code",
   "execution_count": 3,
   "metadata": {
    "collapsed": true
   },
   "outputs": [],
   "source": [
    "def genarate_lognormal_data():\n",
    "    return np.random.lognormal(0,1,1000)"
   ]
  },
  {
   "cell_type": "markdown",
   "metadata": {},
   "source": [
    "<p> use the functions genarate_normal_data, genarate_lognormal_data to get the two 1-d data sets. </p>\n",
    "<p> ex: <i>normaldata = genarate_normal_data()</i>, <i>logdata = genarate_lognormal_data()</i> </p>\n",
    "<p>Q1.\n",
    "<ol>\n",
    "<li>Plot the Q-Q plot between the normaldata (N) and logdata (L)</li>\n",
    "<li> Find the covariance between N and L vectors\n",
    "    <ul>\n",
    "    <li>try to plot datpoints (N(i),L(i)) try to get the relation</li>\n",
    "    <li>use inbuilt functions to get this value</li>\n",
    "    </ul>\n",
    " </li>\n",
    "<li> Do 1, 2 for Normalized vectors of N and L</li>\n",
    "<li> Do 1, 2 for Standardized vectors of N and L</li>\n",
    "</ol>\n",
    "</p>\n",
    "<p>Q2.<br>\n",
    "1. Prove that the E[(X-μ)^2] = σ^2<br>\n",
    "2. Prove that the Expectation of a randam varaible X~N(μ,σ) is equal to μ\n",
    "</p>"
   ]
  },
  {
   "cell_type": "markdown",
   "metadata": {},
   "source": [
    "### Plot the Q-Q plot between the normaldata (N) and logdata (L)"
   ]
  },
  {
   "cell_type": "code",
   "execution_count": 4,
   "metadata": {
    "collapsed": true
   },
   "outputs": [],
   "source": [
    "norm_data = genarate_normal_data()\n",
    "log_normal_data = genarate_lognormal_data()"
   ]
  },
  {
   "cell_type": "code",
   "execution_count": 5,
   "metadata": {},
   "outputs": [
    {
     "name": "stderr",
     "output_type": "stream",
     "text": [
      "/home/ram/anaconda3/lib/python3.6/site-packages/statsmodels/compat/pandas.py:56: FutureWarning: The pandas.core.datetools module is deprecated and will be removed in a future version. Please use the pandas.tseries module instead.\n",
      "  from pandas.core import datetools\n"
     ]
    }
   ],
   "source": [
    "import statsmodels.api as sm"
   ]
  },
  {
   "cell_type": "code",
   "execution_count": 6,
   "metadata": {},
   "outputs": [
    {
     "data": {
      "image/png": "[encoded data removed]",
      "text/plain": [
       "<matplotlib.figure.Figure at 0x7f241c48a128>"
      ]
     },
     "metadata": {},
     "output_type": "display_data"
    }
   ],
   "source": [
    "sm.qqplot_2samples(data1=norm_data, data2=log_normal_data, xlabel='Normal data', ylabel='Log Normal Data')\n",
    "pylab.show()"
   ]
  },
  {
   "cell_type": "code",
   "execution_count": 7,
   "metadata": {},
   "outputs": [
    {
     "data": {
      "text/plain": [
       "array([[ 1.08163304, -0.06347222],\n",
       "       [-0.06347222,  5.36985925]])"
      ]
     },
     "execution_count": 7,
     "metadata": {},
     "output_type": "execute_result"
    }
   ],
   "source": [
    "covarience = np.cov(norm_data, log_normal_data)\n",
    "covarience"
   ]
  },
  {
   "cell_type": "markdown",
   "metadata": {},
   "source": [
    "# plot the covarience\n",
    "import matplotlib.pyplot as plt\n",
    "\n",
    "plt.plot(covarience[0], covarience[1])\n",
    "plt.show()"
   ]
  },
  {
   "cell_type": "markdown",
   "metadata": {},
   "source": [
    "### Normalized vectors of N and L"
   ]
  },
  {
   "cell_type": "code",
   "execution_count": 9,
   "metadata": {},
   "outputs": [
    {
     "data": {
      "text/plain": [
       "array([ 0.20516115, -0.18587064, -0.09360196, -0.03439995, -0.364173  ,\n",
       "       -0.19756107, -0.21758882,  0.20356908, -0.06257045,  0.21051667])"
      ]
     },
     "execution_count": 9,
     "metadata": {},
     "output_type": "execute_result"
    }
   ],
   "source": [
    "# normalization of norm_data\n",
    "normalized_norm_data = (norm_data - norm_data.mean())/(norm_data.max()-norm_data.min())\n",
    "normalized_norm_data[:10]"
   ]
  },
  {
   "cell_type": "code",
   "execution_count": 10,
   "metadata": {},
   "outputs": [
    {
     "data": {
      "text/plain": [
       "array([-0.0499916 , -0.00233615,  0.12249208,  0.06314359, -0.0406894 ,\n",
       "       -0.0275636 ,  0.08223146, -0.04302253,  0.22016245, -0.04207334])"
      ]
     },
     "execution_count": 10,
     "metadata": {},
     "output_type": "execute_result"
    }
   ],
   "source": [
    "# normalization of log__normal data\n",
    "normalized_log_normal_data = (log_normal_data - log_normal_data.mean())/(log_normal_data.max()-log_normal_data.min())\n",
    "normalized_log_normal_data[:10]"
   ]
  },
  {
   "cell_type": "code",
   "execution_count": 11,
   "metadata": {},
   "outputs": [
    {
     "data": {
      "text/plain": [
       "array([[ 0.02302004, -0.00033748],\n",
       "       [-0.00033748,  0.00713269]])"
      ]
     },
     "execution_count": 11,
     "metadata": {},
     "output_type": "execute_result"
    }
   ],
   "source": [
    "# plot covarience between these normalized vectors\n",
    "covarience = np.cov(normalized_norm_data, normalized_log_normal_data)\n",
    "covarience"
   ]
  },
  {
   "cell_type": "code",
   "execution_count": 12,
   "metadata": {},
   "outputs": [
    {
     "data": {
      "image/png": "[encoded data removed]",
      "text/plain": [
       "<matplotlib.figure.Figure at 0x7f240e5c24e0>"
      ]
     },
     "metadata": {},
     "output_type": "display_data"
    }
   ],
   "source": [
    "# plot the covarience\n",
    "plt.plot(covarience[0], covarience[1])\n",
    "plt.show()"
   ]
  },
  {
   "cell_type": "markdown",
   "metadata": {},
   "source": [
    "## Standardized vectors of N and L"
   ]
  },
  {
   "cell_type": "code",
   "execution_count": 13,
   "metadata": {
    "collapsed": true
   },
   "outputs": [],
   "source": [
    "std_norm_data = (norm_data - np.mean(norm_data))/np.std(norm_data)\n",
    "std_log_norm_data = (log_normal_data - np.mean(log_normal_data))/np.std(log_normal_data)"
   ]
  },
  {
   "cell_type": "code",
   "execution_count": 14,
   "metadata": {},
   "outputs": [
    {
     "data": {
      "text/plain": [
       "array([[ 0.02302004, -0.00033748],\n",
       "       [-0.00033748,  0.00713269]])"
      ]
     },
     "execution_count": 14,
     "metadata": {},
     "output_type": "execute_result"
    }
   ],
   "source": [
    "#find covarience\n",
    "covariance = np.cov(std_norm_data, std_log_norm_data)\n",
    "covarience"
   ]
  },
  {
   "cell_type": "code",
   "execution_count": 15,
   "metadata": {},
   "outputs": [
    {
     "data": {
      "image/png": "[encoded data removed]",
      "text/plain": [
       "<matplotlib.figure.Figure at 0x7f240ef0a0b8>"
      ]
     },
     "metadata": {},
     "output_type": "display_data"
    }
   ],
   "source": [
    " # plot the covarience plot\n",
    "plt.plot(covariance[0], covariance[1])\n",
    "plt.show()"
   ]
  },
  {
   "cell_type": "code",
   "execution_count": null,
   "metadata": {
    "collapsed": true
   },
   "outputs": [],
   "source": []
  }
 ],
 "metadata": {
  "kernelspec": {
   "display_name": "Python 3",
   "language": "python",
   "name": "python3"
  },
  "language_info": {
   "codemirror_mode": {
    "name": "ipython",
    "version": 3
   },
   "file_extension": ".py",
   "mimetype": "text/x-python",
   "name": "python",
   "nbconvert_exporter": "python",
   "pygments_lexer": "ipython3",
   "version": "3.6.1"
  }
 },
 "nbformat": 4,
 "nbformat_minor": 2
}

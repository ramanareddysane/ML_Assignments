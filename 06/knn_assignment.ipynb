{
 "cells": [
  {
   "cell_type": "markdown",
   "metadata": {},
   "source": [
    "# K- nearest neighbour algorithm"
   ]
  },
  {
   "cell_type": "markdown",
   "metadata": {},
   "source": [
    "<pre>\n",
    "Q1.\n",
    "    1. Download the Iris data set\n",
    "    2. Devide the whole data set into three data sets namely train(65% of data), cross valid(20% ofdata), test(15% of data) data sets by using a [0-1] random number genarator.\n",
    "    3. Find the best 'k' in range (3-20) for which the knn will give best accuracy on cross valid data set\n",
    "    4. Report the Precision, recall and Accuracy for choosen 'k' on test data\n",
    "Q2.\n",
    "    1. appply the same algorithm on mnist\n",
    "Note1: for the distance measure you can choose any of the Euclidean or Manhattan.\n",
    "Note2: It is your choice to normalize the data.\n",
    "</pre>"
   ]
  },
  {
   "cell_type": "code",
   "execution_count": 23,
   "metadata": {
    "collapsed": true
   },
   "outputs": [],
   "source": [
    "import pandas as pd\n",
    "import numpy as np"
   ]
  },
  {
   "cell_type": "markdown",
   "metadata": {},
   "source": [
    " "
   ]
  },
  {
   "cell_type": "markdown",
   "metadata": {},
   "source": [
    " "
   ]
  },
  {
   "cell_type": "markdown",
   "metadata": {},
   "source": [
    "# Useful functions for KNN algorithm"
   ]
  },
  {
   "cell_type": "markdown",
   "metadata": {
    "collapsed": true
   },
   "source": [
    "##       Devide the whole data set into three data sets namely train(65% of data), cross valid(20% ofdata), test(15% of data) data sets ."
   ]
  },
  {
   "cell_type": "code",
   "execution_count": 24,
   "metadata": {
    "collapsed": true
   },
   "outputs": [],
   "source": [
    "def get_train_test_crossvalid_indices(size):\n",
    "    # creating index array ie., from 0 to size-1\n",
    "    indices = np.arange(size)\n",
    "    np.random.shuffle(indices)\n",
    "    # number of rows in iris dataframe. ie.,150\n",
    "    size = iris.shape[0]\n",
    "    # 65% of the data as training data\n",
    "    train_size = (size*65)//100\n",
    "    #15% of the data as test data\n",
    "    test_size = (size*15)//100\n",
    "    #20% of the data as cross validation data\n",
    "    crsvld_size = size - train_size - test_size\n",
    "\n",
    "    print(\"\\n train_size: {} \\n test_size: {} \\n crsvld_size: {}\\n\".format(train_size, test_size, crsvld_size))\n",
    "\n",
    "    #split the indices list according to sizes specified.\n",
    "    return np.split(indices, [train_size, train_size+test_size])"
   ]
  },
  {
   "cell_type": "markdown",
   "metadata": {},
   "source": [
    " "
   ]
  },
  {
   "cell_type": "markdown",
   "metadata": {},
   "source": [
    "## Euclidian Distance "
   ]
  },
  {
   "cell_type": "code",
   "execution_count": 25,
   "metadata": {
    "collapsed": true
   },
   "outputs": [],
   "source": [
    "import math\n",
    "def euclidean_distance(p,q):\n",
    "    return math.sqrt(sum(pow((p-q), 2)))"
   ]
  },
  {
   "cell_type": "markdown",
   "metadata": {},
   "source": [
    "## Get Nearest Neighbours "
   ]
  },
  {
   "cell_type": "code",
   "execution_count": 26,
   "metadata": {
    "collapsed": true
   },
   "outputs": [],
   "source": [
    "from operator import itemgetter\n",
    "def get_Nearest_neighbours(train_data, crsvld_data_point, k = 10):\n",
    "    # print(point)\n",
    "    # print()\n",
    "    distance_label_pair = list()\n",
    "    for i in range(len(train_data)):\n",
    "        label = train_data[i][-1]\n",
    "        # slicing of data point as distance_label[:-1] excludes last element ie., label\n",
    "        distance_label_pair.append([euclidean_distance(train_data[i][:-1], crsvld_data_point[:-1]), label])\n",
    "    #sort the distance_label pairs based on distances and get top k points \n",
    "    k_nearest_points = sorted(distance_label_pair, key = itemgetter(0))[:k]\n",
    "    # print(k_nearest_points)\n",
    "    # It will return just labels of nearest data points\n",
    "    return [data_point[1] for data_point in k_nearest_points]"
   ]
  },
  {
   "cell_type": "markdown",
   "metadata": {},
   "source": [
    "## Get Majority Voted Element"
   ]
  },
  {
   "cell_type": "code",
   "execution_count": 27,
   "metadata": {
    "collapsed": true
   },
   "outputs": [],
   "source": [
    "from collections import Counter\n",
    "def get_Majoriy_Voted_label(neighbours):\n",
    "    return Counter(neighbours).most_common()[0][0]"
   ]
  },
  {
   "cell_type": "markdown",
   "metadata": {},
   "source": [
    " "
   ]
  },
  {
   "cell_type": "markdown",
   "metadata": {},
   "source": [
    " "
   ]
  },
  {
   "cell_type": "markdown",
   "metadata": {},
   "source": [
    "# KNN function"
   ]
  },
  {
   "cell_type": "code",
   "execution_count": 28,
   "metadata": {
    "collapsed": true
   },
   "outputs": [],
   "source": [
    "def knn(train_data, crsvld_data, k=10):\n",
    "    count = 0\n",
    "    for i in range(len(crsvld_data)):\n",
    "        nearest_neighbours = get_Nearest_neighbours(train_data, crsvld_data[i], k)\n",
    "        predicted = get_Majoriy_Voted_label(nearest_neighbours)\n",
    "#         print(\"{} = {} \".format(crsvld_data[i][-1], predicted))\n",
    "        if predicted == crsvld_data[i][-1]:\n",
    "            count = count+1\n",
    "    print(\"Accuracy for k = {} is {}%\".format(k, (count/len(crsvld_data)) * 100))"
   ]
  },
  {
   "cell_type": "markdown",
   "metadata": {},
   "source": [
    " "
   ]
  },
  {
   "cell_type": "markdown",
   "metadata": {},
   "source": [
    " "
   ]
  },
  {
   "cell_type": "markdown",
   "metadata": {},
   "source": [
    " "
   ]
  },
  {
   "cell_type": "markdown",
   "metadata": {},
   "source": [
    " "
   ]
  },
  {
   "cell_type": "markdown",
   "metadata": {},
   "source": [
    " "
   ]
  },
  {
   "cell_type": "markdown",
   "metadata": {},
   "source": [
    " "
   ]
  },
  {
   "cell_type": "markdown",
   "metadata": {},
   "source": [
    " "
   ]
  },
  {
   "cell_type": "markdown",
   "metadata": {},
   "source": [
    " "
   ]
  },
  {
   "cell_type": "markdown",
   "metadata": {},
   "source": [
    " "
   ]
  },
  {
   "cell_type": "markdown",
   "metadata": {},
   "source": [
    " "
   ]
  },
  {
   "cell_type": "markdown",
   "metadata": {},
   "source": [
    " # Q1 . PERFORM  knn on IRIS flower dataset"
   ]
  },
  {
   "cell_type": "code",
   "execution_count": 29,
   "metadata": {},
   "outputs": [
    {
     "name": "stdout",
     "output_type": "stream",
     "text": [
      "Shape: (150, 6)\n",
      "number of Data points : 150\n",
      "Index(['Id', 'SepalLengthCm', 'SepalWidthCm', 'PetalLengthCm', 'PetalWidthCm',\n",
      "       'Species'],\n",
      "      dtype='object')\n"
     ]
    }
   ],
   "source": [
    "iris = pd.read_csv('Iris.csv')\n",
    "print(\"Shape: {}\".format(iris.shape))\n",
    "print(\"number of Data points : {}\".format(iris.shape[0]))\n",
    "print(iris.columns)"
   ]
  },
  {
   "cell_type": "code",
   "execution_count": 30,
   "metadata": {
    "collapsed": true
   },
   "outputs": [],
   "source": [
    "del iris['Id']"
   ]
  },
  {
   "cell_type": "code",
   "execution_count": 31,
   "metadata": {},
   "outputs": [
    {
     "data": {
      "text/html": [
       "<div>\n",
       "<style>\n",
       "    .dataframe thead tr:only-child th {\n",
       "        text-align: right;\n",
       "    }\n",
       "\n",
       "    .dataframe thead th {\n",
       "        text-align: left;\n",
       "    }\n",
       "\n",
       "    .dataframe tbody tr th {\n",
       "        vertical-align: top;\n",
       "    }\n",
       "</style>\n",
       "<table border=\"1\" class=\"dataframe\">\n",
       "  <thead>\n",
       "    <tr style=\"text-align: right;\">\n",
       "      <th></th>\n",
       "      <th>SepalLengthCm</th>\n",
       "      <th>SepalWidthCm</th>\n",
       "      <th>PetalLengthCm</th>\n",
       "      <th>PetalWidthCm</th>\n",
       "      <th>Species</th>\n",
       "    </tr>\n",
       "  </thead>\n",
       "  <tbody>\n",
       "    <tr>\n",
       "      <th>145</th>\n",
       "      <td>6.7</td>\n",
       "      <td>3.0</td>\n",
       "      <td>5.2</td>\n",
       "      <td>2.3</td>\n",
       "      <td>Iris-virginica</td>\n",
       "    </tr>\n",
       "    <tr>\n",
       "      <th>146</th>\n",
       "      <td>6.3</td>\n",
       "      <td>2.5</td>\n",
       "      <td>5.0</td>\n",
       "      <td>1.9</td>\n",
       "      <td>Iris-virginica</td>\n",
       "    </tr>\n",
       "    <tr>\n",
       "      <th>147</th>\n",
       "      <td>6.5</td>\n",
       "      <td>3.0</td>\n",
       "      <td>5.2</td>\n",
       "      <td>2.0</td>\n",
       "      <td>Iris-virginica</td>\n",
       "    </tr>\n",
       "    <tr>\n",
       "      <th>148</th>\n",
       "      <td>6.2</td>\n",
       "      <td>3.4</td>\n",
       "      <td>5.4</td>\n",
       "      <td>2.3</td>\n",
       "      <td>Iris-virginica</td>\n",
       "    </tr>\n",
       "    <tr>\n",
       "      <th>149</th>\n",
       "      <td>5.9</td>\n",
       "      <td>3.0</td>\n",
       "      <td>5.1</td>\n",
       "      <td>1.8</td>\n",
       "      <td>Iris-virginica</td>\n",
       "    </tr>\n",
       "  </tbody>\n",
       "</table>\n",
       "</div>"
      ],
      "text/plain": [
       "     SepalLengthCm  SepalWidthCm  PetalLengthCm  PetalWidthCm         Species\n",
       "145            6.7           3.0            5.2           2.3  Iris-virginica\n",
       "146            6.3           2.5            5.0           1.9  Iris-virginica\n",
       "147            6.5           3.0            5.2           2.0  Iris-virginica\n",
       "148            6.2           3.4            5.4           2.3  Iris-virginica\n",
       "149            5.9           3.0            5.1           1.8  Iris-virginica"
      ]
     },
     "execution_count": 31,
     "metadata": {},
     "output_type": "execute_result"
    }
   ],
   "source": [
    "iris.tail()"
   ]
  },
  {
   "cell_type": "markdown",
   "metadata": {},
   "source": [
    " \n",
    " "
   ]
  },
  {
   "cell_type": "markdown",
   "metadata": {},
   "source": [
    "###  split the actual data into train, test and crossvalid data"
   ]
  },
  {
   "cell_type": "code",
   "execution_count": 32,
   "metadata": {
    "scrolled": false
   },
   "outputs": [
    {
     "name": "stdout",
     "output_type": "stream",
     "text": [
      "\n",
      " train_size: 97 \n",
      " test_size: 22 \n",
      " crsvld_size: 31\n",
      "\n"
     ]
    }
   ],
   "source": [
    "#get the indices lists for test, train and crossvalidate data..\n",
    "train_indices, test_indices, crsvld_indices = get_train_test_crossvalid_indices(iris.shape[0])\n",
    "\n",
    "# create train, test and cross validation datasets..\n",
    "# as_matrix() gives the dataframe as numpy array..\n",
    "train_data = iris.iloc[list(train_indices)].as_matrix()\n",
    "crsvld_data = iris.iloc[list(crsvld_indices)].as_matrix()\n",
    "test_data = iris.iloc[list(test_indices)].as_matrix()"
   ]
  },
  {
   "cell_type": "markdown",
   "metadata": {},
   "source": [
    "## Testing KNN for different values of k and their accuracy"
   ]
  },
  {
   "cell_type": "code",
   "execution_count": 33,
   "metadata": {},
   "outputs": [
    {
     "name": "stdout",
     "output_type": "stream",
     "text": [
      "Accuracy for k = 3 is 93.54838709677419%\n",
      "Accuracy for k = 4 is 93.54838709677419%\n",
      "Accuracy for k = 5 is 90.32258064516128%\n",
      "Accuracy for k = 6 is 93.54838709677419%\n",
      "Accuracy for k = 7 is 93.54838709677419%\n",
      "Accuracy for k = 8 is 93.54838709677419%\n",
      "Accuracy for k = 9 is 96.7741935483871%\n",
      "Accuracy for k = 10 is 96.7741935483871%\n",
      "Accuracy for k = 11 is 96.7741935483871%\n",
      "Accuracy for k = 12 is 96.7741935483871%\n",
      "Accuracy for k = 13 is 96.7741935483871%\n",
      "Accuracy for k = 14 is 96.7741935483871%\n",
      "Accuracy for k = 15 is 90.32258064516128%\n",
      "Accuracy for k = 16 is 93.54838709677419%\n",
      "Accuracy for k = 17 is 93.54838709677419%\n",
      "Accuracy for k = 18 is 90.32258064516128%\n",
      "Accuracy for k = 19 is 90.32258064516128%\n",
      "Accuracy for k = 20 is 90.32258064516128%\n"
     ]
    }
   ],
   "source": [
    "for k in range(3,21):\n",
    "    knn(train_data, crsvld_data,k)"
   ]
  },
  {
   "cell_type": "markdown",
   "metadata": {},
   "source": [
    " "
   ]
  },
  {
   "cell_type": "markdown",
   "metadata": {},
   "source": [
    " "
   ]
  },
  {
   "cell_type": "markdown",
   "metadata": {},
   "source": [
    " "
   ]
  },
  {
   "cell_type": "markdown",
   "metadata": {},
   "source": [
    " "
   ]
  },
  {
   "cell_type": "markdown",
   "metadata": {},
   "source": [
    " "
   ]
  },
  {
   "cell_type": "markdown",
   "metadata": {},
   "source": [
    " "
   ]
  },
  {
   "cell_type": "markdown",
   "metadata": {},
   "source": [
    " "
   ]
  },
  {
   "cell_type": "markdown",
   "metadata": {},
   "source": [
    " "
   ]
  },
  {
   "cell_type": "markdown",
   "metadata": {},
   "source": [
    " "
   ]
  },
  {
   "cell_type": "markdown",
   "metadata": {},
   "source": [
    " "
   ]
  }
 ],
 "metadata": {
  "kernelspec": {
   "display_name": "Python 3",
   "language": "python",
   "name": "python3"
  },
  "language_info": {
   "codemirror_mode": {
    "name": "ipython",
    "version": 3
   },
   "file_extension": ".py",
   "mimetype": "text/x-python",
   "name": "python",
   "nbconvert_exporter": "python",
   "pygments_lexer": "ipython3",
   "version": "3.6.1"
  }
 },
 "nbformat": 4,
 "nbformat_minor": 2
}
